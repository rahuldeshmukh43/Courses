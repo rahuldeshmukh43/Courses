{
  "nbformat": 4,
  "nbformat_minor": 0,
  "metadata": {
    "colab": {
      "name": "Deshmukh_Rahul_aml.ipynb",
      "provenance": [],
      "collapsed_sections": []
    },
    "kernelspec": {
      "name": "python2",
      "display_name": "Python 2"
    },
    "accelerator": "GPU"
  },
  "cells": [
    {
      "cell_type": "markdown",
      "metadata": {
        "colab_type": "text",
        "id": "NiZYmbLsCx8C"
      },
      "source": [
        "#Student Name: Rahul Deshmukh\n",
        "#ECE 595 Machine Learning II\n",
        "#Project 4: Adversarial Machine Learning - Student Code"
      ]
    },
    {
      "cell_type": "code",
      "metadata": {
        "id": "ZH3b6I2oq_6i",
        "colab_type": "code",
        "outputId": "dcf43e53-3f80-47b2-d2bb-6653951b8301",
        "colab": {
          "base_uri": "https://localhost:8080/",
          "height": 360
        }
      },
      "source": [
        "#Install Cleverhans (version Cleverhans 2.1.0 is most compatable with Python 2.x)\n",
        "!pip install cleverhans==2.1.0"
      ],
      "execution_count": 0,
      "outputs": [
        {
          "output_type": "stream",
          "text": [
            "Requirement already satisfied: cleverhans==2.1.0 in /usr/local/lib/python2.7/dist-packages (2.1.0)\n",
            "Requirement already satisfied: numpy in /usr/local/lib/python2.7/dist-packages (from cleverhans==2.1.0) (1.16.4)\n",
            "Requirement already satisfied: pycodestyle in /usr/local/lib/python2.7/dist-packages (from cleverhans==2.1.0) (2.5.0)\n",
            "Requirement already satisfied: matplotlib in /usr/local/lib/python2.7/dist-packages (from cleverhans==2.1.0) (2.2.4)\n",
            "Requirement already satisfied: nose in /usr/local/lib/python2.7/dist-packages (from cleverhans==2.1.0) (1.3.7)\n",
            "Requirement already satisfied: scipy in /usr/local/lib/python2.7/dist-packages (from cleverhans==2.1.0) (1.2.2)\n",
            "Requirement already satisfied: mnist~=0.2 in /usr/local/lib/python2.7/dist-packages (from cleverhans==2.1.0) (0.2.2)\n",
            "Requirement already satisfied: cycler>=0.10 in /usr/local/lib/python2.7/dist-packages (from matplotlib->cleverhans==2.1.0) (0.10.0)\n",
            "Requirement already satisfied: backports.functools-lru-cache in /usr/local/lib/python2.7/dist-packages (from matplotlib->cleverhans==2.1.0) (1.5)\n",
            "Requirement already satisfied: subprocess32 in /usr/local/lib/python2.7/dist-packages (from matplotlib->cleverhans==2.1.0) (3.5.4)\n",
            "Requirement already satisfied: kiwisolver>=1.0.1 in /usr/local/lib/python2.7/dist-packages (from matplotlib->cleverhans==2.1.0) (1.1.0)\n",
            "Requirement already satisfied: pytz in /usr/local/lib/python2.7/dist-packages (from matplotlib->cleverhans==2.1.0) (2018.9)\n",
            "Requirement already satisfied: six>=1.10 in /usr/local/lib/python2.7/dist-packages (from matplotlib->cleverhans==2.1.0) (1.12.0)\n",
            "Requirement already satisfied: python-dateutil>=2.1 in /usr/local/lib/python2.7/dist-packages (from matplotlib->cleverhans==2.1.0) (2.5.3)\n",
            "Requirement already satisfied: pyparsing!=2.0.4,!=2.1.2,!=2.1.6,>=2.0.1 in /usr/local/lib/python2.7/dist-packages (from matplotlib->cleverhans==2.1.0) (2.4.0)\n",
            "Requirement already satisfied: mock; python_version == \"2.7\" in /usr/local/lib/python2.7/dist-packages (from mnist~=0.2->cleverhans==2.1.0) (2.0.0)\n",
            "Requirement already satisfied: setuptools in /usr/local/lib/python2.7/dist-packages (from kiwisolver>=1.0.1->matplotlib->cleverhans==2.1.0) (41.4.0)\n",
            "Requirement already satisfied: funcsigs>=1; python_version < \"3.3\" in /usr/local/lib/python2.7/dist-packages (from mock; python_version == \"2.7\"->mnist~=0.2->cleverhans==2.1.0) (1.0.2)\n",
            "Requirement already satisfied: pbr>=0.11 in /usr/local/lib/python2.7/dist-packages (from mock; python_version == \"2.7\"->mnist~=0.2->cleverhans==2.1.0) (5.4.0)\n"
          ],
          "name": "stdout"
        }
      ]
    },
    {
      "cell_type": "code",
      "metadata": {
        "id": "mVKiKyxvrDio",
        "colab_type": "code",
        "outputId": "840a5f4a-a1c4-432c-a5d0-5a7528718068",
        "colab": {
          "base_uri": "https://localhost:8080/",
          "height": 34
        }
      },
      "source": [
        "#Import necessary packages\n",
        "from keras.datasets import mnist\n",
        "from keras import Sequential\n",
        "from keras.layers import Dense, BatchNormalization\n",
        "from keras import backend\n",
        "import keras\n",
        "from keras.models import load_model\n",
        "import tensorflow as tf\n",
        "import numpy as np\n",
        "import matplotlib.pyplot as plt\n",
        "from sklearn.decomposition import PCA\n",
        "from cleverhans.utils_keras import KerasModelWrapper\n",
        "from cleverhans.attacks import FastGradientMethod, MadryEtAl, DeepFool, CarliniWagnerL2\n",
        "import pickle \n",
        "from google.colab import drive\n",
        "drive.mount('/content/gdrive')"
      ],
      "execution_count": 0,
      "outputs": [
        {
          "output_type": "stream",
          "text": [
            "Drive already mounted at /content/gdrive; to attempt to forcibly remount, call drive.mount(\"/content/gdrive\", force_remount=True).\n"
          ],
          "name": "stdout"
        }
      ]
    },
    {
      "cell_type": "markdown",
      "metadata": {
        "id": "AR7lUPK3rL3d",
        "colab_type": "text"
      },
      "source": [
        "#Part 1: Training a target classifier"
      ]
    },
    {
      "cell_type": "code",
      "metadata": {
        "id": "rw3gpp66PYNA",
        "colab_type": "code",
        "colab": {}
      },
      "source": [
        "# Load data MNIST data and normalize to [0, 1]\n",
        "(data_train, labels_train), (data_test, labels_test) = mnist.load_data()\n",
        "data_train = data_train/255.0\n",
        "data_test = data_test/255.0\n",
        "\n",
        "#Reshape training and testing data into 784-dimensional vectors \n",
        "X_train= data_train.reshape(60000,784)\n",
        "X_test= data_test.reshape(10000,784)\n",
        "\n",
        "#Convert integer labels for training and testing data into one-hot vectors \n",
        "labels_train = keras.utils.np_utils.to_categorical(labels_train, num_classes=10)\n",
        "labels_test = keras.utils.np_utils.to_categorical(labels_test, num_classes=10)"
      ],
      "execution_count": 0,
      "outputs": []
    },
    {
      "cell_type": "code",
      "metadata": {
        "id": "ZxMW3VoKwdHy",
        "colab_type": "code",
        "colab": {}
      },
      "source": [
        "#Create classifier architecture, compile it, and train it\n",
        "def MNIST_Classifier():    \n",
        "    model = Sequential()\n",
        "    model.add(Dense(100,activation='relu',input_dim=784))\n",
        "    model.add(BatchNormalization())\n",
        "    model.add(Dense(100,activation='relu'))\n",
        "    model.add(BatchNormalization())\n",
        "    model.add(Dense(10,activation='softmax'))\n",
        "    return model"
      ],
      "execution_count": 0,
      "outputs": []
    },
    {
      "cell_type": "code",
      "metadata": {
        "id": "dRvltpU9rMZp",
        "colab_type": "code",
        "outputId": "f2663b71-e5e9-49b7-8128-191fafdb1db0",
        "colab": {
          "base_uri": "https://localhost:8080/",
          "height": 1000
        }
      },
      "source": [
        "#Create instance of classifier\n",
        "mnist_classifier = MNIST_Classifier()\n",
        "\n",
        "#Compile model using an appropriate loss and optimizer algorithm\n",
        "mnist_classifier.compile(loss='categorical_crossentropy',\n",
        "                   optimizer='adam',\n",
        "                   metrics=['accuracy'])\n",
        "\n",
        "#Train the model and assign training meta-data to a variable\n",
        "mnist_classifier_mdata = mnist_classifier.fit(X_train,labels_train,\n",
        "                                         validation_data=(X_test,labels_test),\n",
        "                                         epochs=50,\n",
        "                                         batch_size=256,\n",
        "                                         shuffle=True)\n",
        "\n",
        "# save model and history\n",
        "mnist_classifier.save('mnist_classifier.h5')\n",
        "!cp mnist_classifier.h5 /content/gdrive/My\\ Drive/ML2/Project-4/\n",
        "\n",
        "with open('mnist_classifier_history.pkl', 'wb') as f:  \n",
        "  pickle.dump(mnist_classifier_mdata.history, f)\n",
        "\n",
        "!cp mnist_classifier_history.pkl /content/gdrive/My\\ Drive/ML2/Project-4/"
      ],
      "execution_count": 0,
      "outputs": [
        {
          "output_type": "stream",
          "text": [
            "W1107 22:56:15.115520 140542455551872 deprecation.py:323] From /usr/local/lib/python2.7/dist-packages/tensorflow_core/python/ops/math_grad.py:1424: where (from tensorflow.python.ops.array_ops) is deprecated and will be removed in a future version.\n",
            "Instructions for updating:\n",
            "Use tf.where in 2.0, which has the same broadcast rule as np.where\n",
            "W1107 22:56:15.334399 140542455551872 module_wrapper.py:139] From /usr/local/lib/python2.7/dist-packages/keras/backend/tensorflow_backend.py:986: The name tf.assign_add is deprecated. Please use tf.compat.v1.assign_add instead.\n",
            "\n",
            "W1107 22:56:15.434782 140542455551872 module_wrapper.py:139] From /usr/local/lib/python2.7/dist-packages/keras/backend/tensorflow_backend.py:973: The name tf.assign is deprecated. Please use tf.compat.v1.assign instead.\n",
            "\n",
            "W1107 22:56:15.530695 140542455551872 module_wrapper.py:139] From /usr/local/lib/python2.7/dist-packages/keras/backend/tensorflow_backend.py:2741: The name tf.Session is deprecated. Please use tf.compat.v1.Session instead.\n",
            "\n",
            "W1107 22:56:15.538976 140542455551872 module_wrapper.py:139] From /usr/local/lib/python2.7/dist-packages/keras/backend/tensorflow_backend.py:174: The name tf.get_default_session is deprecated. Please use tf.compat.v1.get_default_session instead.\n",
            "\n",
            "W1107 22:56:15.540215 140542455551872 module_wrapper.py:139] From /usr/local/lib/python2.7/dist-packages/keras/backend/tensorflow_backend.py:181: The name tf.ConfigProto is deprecated. Please use tf.compat.v1.ConfigProto instead.\n",
            "\n",
            "W1107 22:56:15.572518 140542455551872 module_wrapper.py:139] From /usr/local/lib/python2.7/dist-packages/keras/backend/tensorflow_backend.py:190: The name tf.global_variables is deprecated. Please use tf.compat.v1.global_variables instead.\n",
            "\n",
            "W1107 22:56:15.574131 140542455551872 module_wrapper.py:139] From /usr/local/lib/python2.7/dist-packages/keras/backend/tensorflow_backend.py:199: The name tf.is_variable_initialized is deprecated. Please use tf.compat.v1.is_variable_initialized instead.\n",
            "\n"
          ],
          "name": "stderr"
        },
        {
          "output_type": "stream",
          "text": [
            "Train on 60000 samples, validate on 10000 samples\n",
            "Epoch 1/50\n"
          ],
          "name": "stdout"
        },
        {
          "output_type": "stream",
          "text": [
            "W1107 22:56:15.813371 140542455551872 module_wrapper.py:139] From /usr/local/lib/python2.7/dist-packages/keras/backend/tensorflow_backend.py:206: The name tf.variables_initializer is deprecated. Please use tf.compat.v1.variables_initializer instead.\n",
            "\n"
          ],
          "name": "stderr"
        },
        {
          "output_type": "stream",
          "text": [
            "60000/60000 [==============================] - 3s 55us/step - loss: 0.3107 - acc: 0.9093 - val_loss: 0.1425 - val_acc: 0.9577\n",
            "Epoch 2/50\n",
            "60000/60000 [==============================] - 2s 36us/step - loss: 0.1159 - acc: 0.9660 - val_loss: 0.1110 - val_acc: 0.9657\n",
            "Epoch 3/50\n",
            "60000/60000 [==============================] - 2s 37us/step - loss: 0.0794 - acc: 0.9769 - val_loss: 0.0933 - val_acc: 0.9694\n",
            "Epoch 4/50\n",
            "60000/60000 [==============================] - 2s 38us/step - loss: 0.0581 - acc: 0.9832 - val_loss: 0.0903 - val_acc: 0.9729\n",
            "Epoch 5/50\n",
            "60000/60000 [==============================] - 2s 37us/step - loss: 0.0442 - acc: 0.9871 - val_loss: 0.0838 - val_acc: 0.9754\n",
            "Epoch 6/50\n",
            "60000/60000 [==============================] - 2s 38us/step - loss: 0.0329 - acc: 0.9909 - val_loss: 0.0829 - val_acc: 0.9741\n",
            "Epoch 7/50\n",
            "60000/60000 [==============================] - 2s 37us/step - loss: 0.0270 - acc: 0.9920 - val_loss: 0.0911 - val_acc: 0.9726\n",
            "Epoch 8/50\n",
            "60000/60000 [==============================] - 2s 36us/step - loss: 0.0206 - acc: 0.9943 - val_loss: 0.0888 - val_acc: 0.9746\n",
            "Epoch 9/50\n",
            "60000/60000 [==============================] - 2s 35us/step - loss: 0.0155 - acc: 0.9961 - val_loss: 0.0920 - val_acc: 0.9748\n",
            "Epoch 10/50\n",
            "60000/60000 [==============================] - 2s 36us/step - loss: 0.0149 - acc: 0.9958 - val_loss: 0.0943 - val_acc: 0.9730\n",
            "Epoch 11/50\n",
            "60000/60000 [==============================] - 2s 36us/step - loss: 0.0134 - acc: 0.9960 - val_loss: 0.0917 - val_acc: 0.9755\n",
            "Epoch 12/50\n",
            "60000/60000 [==============================] - 2s 37us/step - loss: 0.0115 - acc: 0.9969 - val_loss: 0.0853 - val_acc: 0.9760\n",
            "Epoch 13/50\n",
            "60000/60000 [==============================] - 2s 36us/step - loss: 0.0096 - acc: 0.9974 - val_loss: 0.0947 - val_acc: 0.9752\n",
            "Epoch 14/50\n",
            "60000/60000 [==============================] - 2s 37us/step - loss: 0.0096 - acc: 0.9975 - val_loss: 0.0974 - val_acc: 0.9762\n",
            "Epoch 15/50\n",
            "60000/60000 [==============================] - 2s 37us/step - loss: 0.0113 - acc: 0.9962 - val_loss: 0.1033 - val_acc: 0.9759\n",
            "Epoch 16/50\n",
            "60000/60000 [==============================] - 2s 37us/step - loss: 0.0079 - acc: 0.9980 - val_loss: 0.0893 - val_acc: 0.9790\n",
            "Epoch 17/50\n",
            "60000/60000 [==============================] - 2s 36us/step - loss: 0.0074 - acc: 0.9978 - val_loss: 0.0999 - val_acc: 0.9756\n",
            "Epoch 18/50\n",
            "60000/60000 [==============================] - 2s 35us/step - loss: 0.0069 - acc: 0.9978 - val_loss: 0.0887 - val_acc: 0.9774\n",
            "Epoch 19/50\n",
            "60000/60000 [==============================] - 2s 35us/step - loss: 0.0055 - acc: 0.9984 - val_loss: 0.0952 - val_acc: 0.9770\n",
            "Epoch 20/50\n",
            "60000/60000 [==============================] - 2s 36us/step - loss: 0.0087 - acc: 0.9973 - val_loss: 0.1067 - val_acc: 0.9762\n",
            "Epoch 21/50\n",
            "60000/60000 [==============================] - 2s 35us/step - loss: 0.0082 - acc: 0.9974 - val_loss: 0.1024 - val_acc: 0.9751\n",
            "Epoch 22/50\n",
            "60000/60000 [==============================] - 2s 37us/step - loss: 0.0062 - acc: 0.9982 - val_loss: 0.0968 - val_acc: 0.9776\n",
            "Epoch 23/50\n",
            "60000/60000 [==============================] - 2s 37us/step - loss: 0.0037 - acc: 0.9991 - val_loss: 0.0905 - val_acc: 0.9804\n",
            "Epoch 24/50\n",
            "60000/60000 [==============================] - 2s 37us/step - loss: 0.0033 - acc: 0.9992 - val_loss: 0.0971 - val_acc: 0.9781\n",
            "Epoch 25/50\n",
            "60000/60000 [==============================] - 2s 37us/step - loss: 0.0041 - acc: 0.9989 - val_loss: 0.1149 - val_acc: 0.9754\n",
            "Epoch 26/50\n",
            "60000/60000 [==============================] - 2s 36us/step - loss: 0.0073 - acc: 0.9977 - val_loss: 0.1181 - val_acc: 0.9749\n",
            "Epoch 27/50\n",
            "60000/60000 [==============================] - 2s 37us/step - loss: 0.0070 - acc: 0.9978 - val_loss: 0.1105 - val_acc: 0.9750\n",
            "Epoch 28/50\n",
            "60000/60000 [==============================] - 2s 37us/step - loss: 0.0059 - acc: 0.9981 - val_loss: 0.1177 - val_acc: 0.9753\n",
            "Epoch 29/50\n",
            "60000/60000 [==============================] - 2s 37us/step - loss: 0.0065 - acc: 0.9979 - val_loss: 0.1095 - val_acc: 0.9759\n",
            "Epoch 30/50\n",
            "60000/60000 [==============================] - 2s 36us/step - loss: 0.0056 - acc: 0.9981 - val_loss: 0.1016 - val_acc: 0.9780\n",
            "Epoch 31/50\n",
            "60000/60000 [==============================] - 2s 36us/step - loss: 0.0034 - acc: 0.9990 - val_loss: 0.0904 - val_acc: 0.9807\n",
            "Epoch 32/50\n",
            "60000/60000 [==============================] - 2s 37us/step - loss: 0.0057 - acc: 0.9982 - val_loss: 0.1206 - val_acc: 0.9745\n",
            "Epoch 33/50\n",
            "60000/60000 [==============================] - 2s 38us/step - loss: 0.0050 - acc: 0.9983 - val_loss: 0.1058 - val_acc: 0.9782\n",
            "Epoch 34/50\n",
            "60000/60000 [==============================] - 2s 37us/step - loss: 0.0030 - acc: 0.9992 - val_loss: 0.1022 - val_acc: 0.9795\n",
            "Epoch 35/50\n",
            "60000/60000 [==============================] - 2s 37us/step - loss: 0.0016 - acc: 0.9996 - val_loss: 0.0928 - val_acc: 0.9815\n",
            "Epoch 36/50\n",
            "60000/60000 [==============================] - 2s 39us/step - loss: 0.0021 - acc: 0.9994 - val_loss: 0.1005 - val_acc: 0.9798\n",
            "Epoch 37/50\n",
            "60000/60000 [==============================] - 2s 39us/step - loss: 0.0040 - acc: 0.9988 - val_loss: 0.1036 - val_acc: 0.9796\n",
            "Epoch 38/50\n",
            "60000/60000 [==============================] - 2s 39us/step - loss: 0.0045 - acc: 0.9985 - val_loss: 0.1051 - val_acc: 0.9793\n",
            "Epoch 39/50\n",
            "60000/60000 [==============================] - 2s 39us/step - loss: 0.0062 - acc: 0.9980 - val_loss: 0.1222 - val_acc: 0.9764\n",
            "Epoch 40/50\n",
            "60000/60000 [==============================] - 2s 36us/step - loss: 0.0048 - acc: 0.9985 - val_loss: 0.0997 - val_acc: 0.9799\n",
            "Epoch 41/50\n",
            "60000/60000 [==============================] - 2s 36us/step - loss: 0.0061 - acc: 0.9980 - val_loss: 0.1182 - val_acc: 0.9776\n",
            "Epoch 42/50\n",
            "60000/60000 [==============================] - 2s 39us/step - loss: 0.0035 - acc: 0.9988 - val_loss: 0.1133 - val_acc: 0.9778\n",
            "Epoch 43/50\n",
            "60000/60000 [==============================] - 2s 38us/step - loss: 0.0018 - acc: 0.9995 - val_loss: 0.0998 - val_acc: 0.9802\n",
            "Epoch 44/50\n",
            "60000/60000 [==============================] - 2s 38us/step - loss: 0.0015 - acc: 0.9996 - val_loss: 0.1026 - val_acc: 0.9808\n",
            "Epoch 45/50\n",
            "60000/60000 [==============================] - 2s 39us/step - loss: 0.0013 - acc: 0.9997 - val_loss: 0.1050 - val_acc: 0.9806\n",
            "Epoch 46/50\n",
            "60000/60000 [==============================] - 2s 38us/step - loss: 0.0026 - acc: 0.9991 - val_loss: 0.1046 - val_acc: 0.9798\n",
            "Epoch 47/50\n",
            "60000/60000 [==============================] - 2s 37us/step - loss: 0.0042 - acc: 0.9989 - val_loss: 0.1132 - val_acc: 0.9796\n",
            "Epoch 48/50\n",
            "60000/60000 [==============================] - 2s 38us/step - loss: 0.0053 - acc: 0.9982 - val_loss: 0.1091 - val_acc: 0.9790\n",
            "Epoch 49/50\n",
            "60000/60000 [==============================] - 2s 38us/step - loss: 0.0059 - acc: 0.9980 - val_loss: 0.1169 - val_acc: 0.9769\n",
            "Epoch 50/50\n",
            "60000/60000 [==============================] - 2s 38us/step - loss: 0.0040 - acc: 0.9988 - val_loss: 0.1026 - val_acc: 0.9801\n"
          ],
          "name": "stdout"
        }
      ]
    },
    {
      "cell_type": "code",
      "metadata": {
        "id": "uOsXwFOvrs14",
        "colab_type": "code",
        "outputId": "cfead856-b1a7-41d2-fb93-09331316694f",
        "colab": {
          "base_uri": "https://localhost:8080/",
          "height": 295
        }
      },
      "source": [
        "# load saved model and history\n",
        "!cp /content/gdrive/My\\ Drive/ML2/Project-4/mnist_classifier.h5 ./\n",
        "!cp /content/gdrive/My\\ Drive/ML2/Project-4/mnist_classifier_history.pkl ./\n",
        "\n",
        "mnist_classifier = load_model('mnist_classifier.h5')\n",
        "\n",
        "with open('mnist_classifier_history.pkl', 'rb') as f:  \n",
        " mnist_classifier_history = pickle.load(f)\n",
        "\n",
        "#Plot loss vs epoch\n",
        "plt.plot(mnist_classifier_history['loss'])\n",
        "plt.plot(mnist_classifier_history['val_loss'],alpha = 0.6)\n",
        "plt.title('Loss vs Epoch')\n",
        "plt.ylabel('Loss')\n",
        "plt.xlabel('Epoch')\n",
        "plt.legend(['Train','Test'],loc='upper right')\n",
        "plt.show()"
      ],
      "execution_count": 0,
      "outputs": [
        {
          "output_type": "display_data",
          "data": {
            "image/png": "[encoded data removed]",
            "text/plain": [
              "<Figure size 432x288 with 1 Axes>"
            ]
          },
          "metadata": {
            "tags": []
          }
        }
      ]
    },
    {
      "cell_type": "code",
      "metadata": {
        "id": "4C4mOVvSr4KP",
        "colab_type": "code",
        "outputId": "b3dc235b-b9a6-4f6d-c39d-28d29935eddb",
        "colab": {
          "base_uri": "https://localhost:8080/",
          "height": 295
        }
      },
      "source": [
        "#Plot accuracy vs epoch\n",
        "plt.plot(mnist_classifier_history['acc'])\n",
        "plt.plot(mnist_classifier_history['val_acc'],alpha = 0.6)\n",
        "plt.title('CNN overfit Accuracy vs Epoch')\n",
        "plt.ylabel('Accuracy')\n",
        "plt.xlabel('Epoch')\n",
        "plt.legend(['train','test'],loc='upper left')\n",
        "plt.show()"
      ],
      "execution_count": 0,
      "outputs": [
        {
          "output_type": "display_data",
          "data": {
            "image/png": "[encoded data removed]",
            "text/plain": [
              "<Figure size 432x288 with 1 Axes>"
            ]
          },
          "metadata": {
            "tags": []
          }
        }
      ]
    },
    {
      "cell_type": "code",
      "metadata": {
        "id": "gr53zDpTr5wO",
        "colab_type": "code",
        "outputId": "fc0c3a00-3bcd-44fc-9c6e-4861671407d2",
        "colab": {
          "base_uri": "https://localhost:8080/",
          "height": 51
        }
      },
      "source": [
        "#Print accuracy of classifier on MNIST testing data\n",
        "score = mnist_classifier.evaluate(X_test,labels_test)\n",
        "print(\"Accuracy of Classifier: %0.2f%%\"%(score[1]*100))"
      ],
      "execution_count": 0,
      "outputs": [
        {
          "output_type": "stream",
          "text": [
            "10000/10000 [==============================] - 0s 43us/step\n",
            "Accuracy of Classifier: 98.01%\n"
          ],
          "name": "stdout"
        }
      ]
    },
    {
      "cell_type": "code",
      "metadata": {
        "id": "YEcrqpjas3Xh",
        "colab_type": "code",
        "colab": {}
      },
      "source": [
        "# Edit the classifier name fed into KerasModel Wrapper with the name of the \n",
        "# classifier from above and then run this block\n",
        "!cp /content/gdrive/My\\ Drive/ML2/Project-4/mnist_classifier.h5 ./\n",
        "mnist_classifier = load_model('mnist_classifier.h5')\n",
        "\n",
        "#Get TensorFlow Session to pass into Cleverhans modules\n",
        "sess = backend.get_session()\n",
        "\n",
        "#Create wrapper for classifier model so that it can be passed into Cleverhans modules\n",
        "wrap = KerasModelWrapper(mnist_classifier)"
      ],
      "execution_count": 0,
      "outputs": []
    },
    {
      "cell_type": "markdown",
      "metadata": {
        "id": "8_Ehc7tas5YS",
        "colab_type": "text"
      },
      "source": [
        "#Part 2: The Fast Gradient Method (FGM)"
      ]
    },
    {
      "cell_type": "code",
      "metadata": {
        "id": "GA5T9mkws9vJ",
        "colab_type": "code",
        "outputId": "217f1491-a190-4f8a-805b-60331946cbcd",
        "colab": {
          "base_uri": "https://localhost:8080/",
          "height": 51
        }
      },
      "source": [
        "#Implementing the FGSM attack\n",
        "\n",
        "#FGM Instance on trained classifier from Part 1\n",
        "fgsm = FastGradientMethod(wrap,sess=sess)\n",
        "\n",
        "#Attack parameters\n",
        "fgsm_params = { 'eps':0.25,\n",
        "                'clip_min':0.,\n",
        "                'clip_max':1.}\n",
        "\n",
        "#Generate adversarial data\n",
        "fgsm_attack_onTest_data = fgsm.generate_np(X_test,**fgsm_params)\n",
        "fgsm_attack_onTrain_data = fgsm.generate_np(X_train,**fgsm_params)\n",
        "\n",
        "#Evaluate accuracy on target classifier \n",
        "fgsm_adv_scores = mnist_classifier.evaluate(fgsm_attack_onTest_data,labels_test)\n",
        "print('FGSM Adversarial Attack Accuracy: %0.2f%%'%(fgsm_adv_scores[1]*100))"
      ],
      "execution_count": 0,
      "outputs": [
        {
          "output_type": "stream",
          "text": [
            "10000/10000 [==============================] - 1s 82us/step\n",
            "FGSM Adversarial Attack Accuracy: 8.79%\n"
          ],
          "name": "stdout"
        }
      ]
    },
    {
      "cell_type": "code",
      "metadata": {
        "id": "wE_rdYIrDeNZ",
        "colab_type": "code",
        "outputId": "4d0d8066-abcd-48a3-9e2e-85f92e95f453",
        "colab": {
          "base_uri": "https://localhost:8080/",
          "height": 703
        }
      },
      "source": [
        "#Show ten original samples and their corresponding adversarial samples\n",
        "num_samples = 10\n",
        "fig1,ax1 = plt.subplots(num_samples,2)\n",
        "fig1.set_size_inches(12,12)\n",
        "titles=['Original','FGSM Adversarial']\n",
        "for i in range(2): ax1[0,i].set_title(titles[i])\n",
        "for i in range(num_samples):\n",
        "  #original \n",
        "  ax1[i,0].imshow(X_test[i].reshape(28,28),cmap=plt.cm.gray)\n",
        "  ax1[i,0].get_xaxis().set_visible(False)\n",
        "  ax1[i,0].get_yaxis().set_visible(False)\n",
        "  #adversarial\n",
        "  ax1[i,1].imshow(fgsm_attack_onTest_data[i].reshape(28,28),cmap=plt.cm.gray)\n",
        "  ax1[i,1].get_xaxis().set_visible(False)\n",
        "  ax1[i,1].get_yaxis().set_visible(False)\n",
        "\n",
        "plt.show()"
      ],
      "execution_count": 0,
      "outputs": [
        {
          "output_type": "display_data",
          "data": {
            "image/png": "[encoded data removed]",
            "text/plain": [
              "<Figure size 864x864 with 20 Axes>"
            ]
          },
          "metadata": {
            "tags": []
          }
        }
      ]
    },
    {
      "cell_type": "code",
      "metadata": {
        "id": "qurgywiaJe-I",
        "colab_type": "code",
        "outputId": "85309c84-fd3c-4ef9-a7b7-115975be5d43",
        "colab": {
          "base_uri": "https://localhost:8080/",
          "height": 1000
        }
      },
      "source": [
        "#Implementing Detection via Autoencoders\n",
        "\n",
        "def autoencoder():\n",
        "    ae = Sequential()\n",
        "    ae.add(Dense(400, activation='relu', kernel_initializer=\"normal\", input_dim=784))\n",
        "    ae.add(Dense(200, activation='relu', kernel_initializer='normal'))\n",
        "    ae.add(Dense(100, activation='relu', kernel_initializer='normal'))\n",
        "    ae.add(Dense(200, activation='relu', kernel_initializer='normal'))\n",
        "    ae.add(Dense(400, activation='relu', kernel_initializer='normal'))\n",
        "    ae.add(Dense(784, activation='sigmoid', kernel_initializer='normal'))\n",
        "    return ae\n",
        "\n",
        "#Create and train the autoencoder using the mean squared error loss and adam optimizer\n",
        "\n",
        "#Create deep autoencoder graph\n",
        "ae_fgsm = autoencoder()\n",
        "\n",
        "#Compile model using an appropriate loss and optimizer algorithm\n",
        "ae_fgsm.compile(loss=\"mean_squared_error\",optimizer=\"adam\")\n",
        "\n",
        "#Train the model and assign training meta-data to a variable\n",
        "num_epochs = 50\n",
        "batch_size = 256\n",
        "\n",
        "ae_fgsm_history = ae_fgsm.fit(X_train,X_train,\n",
        "                             epochs = num_epochs,\n",
        "                             batch_size = batch_size,\n",
        "                             shuffle=True)\n",
        "\n",
        "# save model\n",
        "ae_fgsm.save('ae_fgsm.h5')\n",
        "!cp ae_fgsm.h5 /content/gdrive/My\\ Drive/ML2/Project-4/"
      ],
      "execution_count": 0,
      "outputs": [
        {
          "output_type": "stream",
          "text": [
            "W1111 18:00:06.427733 140222605977472 module_wrapper.py:139] From /usr/local/lib/python2.7/dist-packages/keras/backend/tensorflow_backend.py:4115: The name tf.random_normal is deprecated. Please use tf.random.normal instead.\n",
            "\n"
          ],
          "name": "stderr"
        },
        {
          "output_type": "stream",
          "text": [
            "Epoch 1/50\n",
            "60000/60000 [==============================] - 3s 51us/step - loss: 0.0539\n",
            "Epoch 2/50\n",
            "60000/60000 [==============================] - 2s 41us/step - loss: 0.0213\n",
            "Epoch 3/50\n",
            "60000/60000 [==============================] - 2s 41us/step - loss: 0.0159\n",
            "Epoch 4/50\n",
            "60000/60000 [==============================] - 2s 41us/step - loss: 0.0133\n",
            "Epoch 5/50\n",
            "60000/60000 [==============================] - 2s 41us/step - loss: 0.0116\n",
            "Epoch 6/50\n",
            "60000/60000 [==============================] - 2s 41us/step - loss: 0.0104\n",
            "Epoch 7/50\n",
            "60000/60000 [==============================] - 2s 41us/step - loss: 0.0095\n",
            "Epoch 8/50\n",
            "60000/60000 [==============================] - 2s 41us/step - loss: 0.0088\n",
            "Epoch 9/50\n",
            "60000/60000 [==============================] - 2s 41us/step - loss: 0.0081\n",
            "Epoch 10/50\n",
            "60000/60000 [==============================] - 2s 41us/step - loss: 0.0077\n",
            "Epoch 11/50\n",
            "60000/60000 [==============================] - 2s 41us/step - loss: 0.0072\n",
            "Epoch 12/50\n",
            "60000/60000 [==============================] - 2s 41us/step - loss: 0.0068\n",
            "Epoch 13/50\n",
            "60000/60000 [==============================] - 2s 41us/step - loss: 0.0065\n",
            "Epoch 14/50\n",
            "60000/60000 [==============================] - 2s 41us/step - loss: 0.0062\n",
            "Epoch 15/50\n",
            "60000/60000 [==============================] - 2s 41us/step - loss: 0.0060\n",
            "Epoch 16/50\n",
            "60000/60000 [==============================] - 2s 41us/step - loss: 0.0058\n",
            "Epoch 17/50\n",
            "60000/60000 [==============================] - 2s 41us/step - loss: 0.0056\n",
            "Epoch 18/50\n",
            "60000/60000 [==============================] - 3s 42us/step - loss: 0.0054\n",
            "Epoch 19/50\n",
            "60000/60000 [==============================] - 3s 42us/step - loss: 0.0052\n",
            "Epoch 20/50\n",
            "60000/60000 [==============================] - 2s 41us/step - loss: 0.0051\n",
            "Epoch 21/50\n",
            "60000/60000 [==============================] - 2s 41us/step - loss: 0.0049\n",
            "Epoch 22/50\n",
            "60000/60000 [==============================] - 2s 41us/step - loss: 0.0048\n",
            "Epoch 23/50\n",
            "60000/60000 [==============================] - 2s 41us/step - loss: 0.0047\n",
            "Epoch 24/50\n",
            "60000/60000 [==============================] - 2s 41us/step - loss: 0.0046\n",
            "Epoch 25/50\n",
            "60000/60000 [==============================] - 2s 41us/step - loss: 0.0045\n",
            "Epoch 26/50\n",
            "60000/60000 [==============================] - 2s 41us/step - loss: 0.0044\n",
            "Epoch 27/50\n",
            "60000/60000 [==============================] - 2s 41us/step - loss: 0.0043\n",
            "Epoch 28/50\n",
            "60000/60000 [==============================] - 2s 41us/step - loss: 0.0043\n",
            "Epoch 29/50\n",
            "60000/60000 [==============================] - 2s 41us/step - loss: 0.0042\n",
            "Epoch 30/50\n",
            "60000/60000 [==============================] - 2s 41us/step - loss: 0.0041\n",
            "Epoch 31/50\n",
            "60000/60000 [==============================] - 3s 42us/step - loss: 0.0040\n",
            "Epoch 32/50\n",
            "60000/60000 [==============================] - 2s 41us/step - loss: 0.0040\n",
            "Epoch 33/50\n",
            "60000/60000 [==============================] - 2s 41us/step - loss: 0.0039\n",
            "Epoch 34/50\n",
            "60000/60000 [==============================] - 2s 41us/step - loss: 0.0039\n",
            "Epoch 35/50\n",
            "60000/60000 [==============================] - 2s 41us/step - loss: 0.0038\n",
            "Epoch 36/50\n",
            "60000/60000 [==============================] - 2s 41us/step - loss: 0.0038\n",
            "Epoch 37/50\n",
            "60000/60000 [==============================] - 2s 41us/step - loss: 0.0037\n",
            "Epoch 38/50\n",
            "60000/60000 [==============================] - 2s 41us/step - loss: 0.0037\n",
            "Epoch 39/50\n",
            "60000/60000 [==============================] - 2s 41us/step - loss: 0.0036\n",
            "Epoch 40/50\n",
            "60000/60000 [==============================] - 2s 41us/step - loss: 0.0036\n",
            "Epoch 41/50\n",
            "60000/60000 [==============================] - 2s 41us/step - loss: 0.0035\n",
            "Epoch 42/50\n",
            "60000/60000 [==============================] - 2s 41us/step - loss: 0.0035\n",
            "Epoch 43/50\n",
            "60000/60000 [==============================] - 2s 41us/step - loss: 0.0034\n",
            "Epoch 44/50\n",
            "60000/60000 [==============================] - 2s 41us/step - loss: 0.0034\n",
            "Epoch 45/50\n",
            "60000/60000 [==============================] - 2s 41us/step - loss: 0.0033\n",
            "Epoch 46/50\n",
            "60000/60000 [==============================] - 2s 41us/step - loss: 0.0033\n",
            "Epoch 47/50\n",
            "60000/60000 [==============================] - 2s 41us/step - loss: 0.0033\n",
            "Epoch 48/50\n",
            "60000/60000 [==============================] - 2s 41us/step - loss: 0.0033\n",
            "Epoch 49/50\n",
            "60000/60000 [==============================] - 2s 41us/step - loss: 0.0032\n",
            "Epoch 50/50\n",
            "60000/60000 [==============================] - 2s 41us/step - loss: 0.0032\n"
          ],
          "name": "stdout"
        }
      ]
    },
    {
      "cell_type": "code",
      "metadata": {
        "id": "sGVPbCP_JvDo",
        "colab_type": "code",
        "outputId": "1b37ffc2-8b5e-4a46-8953-d4b9a8161586",
        "colab": {
          "base_uri": "https://localhost:8080/",
          "height": 68
        }
      },
      "source": [
        "# load ae_fgsm model\n",
        "!cp /content/gdrive/My\\ Drive/ML2/Project-4/ae_fgsm.h5 ./\n",
        "ae_fgsm = load_model('ae_fgsm.h5')\n",
        "\n",
        "#Using the autoencoder for detection and to determine a threshold \n",
        "\n",
        "# Create adversarial examples using FGSM on training data\n",
        "# fgsm_attack_onTrain_data = fgsm.generate_np(X_train,**fgsm_params)\n",
        "\n",
        "# Obtain reconstruction errors on training set and determine a threshold \n",
        "reconstructions_ae_fgsm_onTrain_data = ae_fgsm.predict(fgsm_attack_onTrain_data)\n",
        "error_train = keras.losses.mean_squared_error(reconstructions_ae_fgsm_onTrain_data,X_train)\n",
        "\n",
        "# Convert error tensor into NumPy array \n",
        "# CHANGE NAME 'error' TO WHAT YOU CALLED IT ABOVE\n",
        "error_train = error_train.eval(session=sess)\n",
        "\n",
        "# Determine threshold (based on min in this case) and print it \n",
        "min_error_th = min(error_train)\n",
        "print('The minimum reconstruction error to be used as threshold: '+str(min_error_th))\n",
        "\n",
        "# Calculate error of adversarial testing set\n",
        "reconstructions_ae_fgsm_onTest_data = ae_fgsm.predict(fgsm_attack_onTest_data)\n",
        "error_test = keras.losses.mean_squared_error(reconstructions_ae_fgsm_onTest_data,X_test)\n",
        "error_test = error_test.eval(session=sess)\n",
        "\n",
        "# Determine how many examples are above threshold and consider them adversarial\n",
        "# (true positive count)\n",
        "# Hint: Use a 'for' loop to compare each error value to the threshold\n",
        "true_pos = np.where(error_test>min_error_th,1 , 0 )\n",
        "tp_count = np.sum(true_pos)\n",
        "\n",
        "# Print number of true positive samples\n",
        "print('The number of true positives: '+str(tp_count))\n",
        "\n",
        "# Determine false positives on benign testing set\n",
        "reconstructions_ae_fgsm_onBenignTest = ae_fgsm.predict(X_test)\n",
        "error_benign_test = keras.losses.mean_squared_error(reconstructions_ae_fgsm_onBenignTest,X_test)\n",
        "error_benign_test = error_benign_test.eval(session=sess)\n",
        "\n",
        "# Determine how many examples are above threshold and consider them adversarial\n",
        "# (false positive count)\n",
        "# Hint: Use a 'for' loop to compare each error value to the threshold\n",
        "false_pos = np.where(error_benign_test>min_error_th,1 , 0 )\n",
        "fp_count = np.sum(false_pos)\n",
        "\n",
        "# Print number of false positive samples\n",
        "print('The number of false positives: '+str(fp_count))"
      ],
      "execution_count": 0,
      "outputs": [
        {
          "output_type": "stream",
          "text": [
            "The minimum reconstruction error to be used as threshold: 0.009473196283667612\n",
            "The number of true positives: 9999\n",
            "The number of false positives: 135\n"
          ],
          "name": "stdout"
        }
      ]
    },
    {
      "cell_type": "markdown",
      "metadata": {
        "id": "VE2WG6LnP14d",
        "colab_type": "text"
      },
      "source": [
        "#Part 3: Projected Gradient Descent"
      ]
    },
    {
      "cell_type": "code",
      "metadata": {
        "id": "iEkYKPN-P4Sj",
        "colab_type": "code",
        "outputId": "e910f982-9565-425a-bcb4-491f41281da1",
        "colab": {
          "base_uri": "https://localhost:8080/",
          "height": 51
        }
      },
      "source": [
        "#Implementing the PGD attack\n",
        "\n",
        "#PGD Instance on trained classifier from Part 1\n",
        "pgd = MadryEtAl(wrap, sess=sess)\n",
        "\n",
        "#Attack parameters\n",
        "pgd_params = {    'eps':0.25,\n",
        "                  'eps_iter':0.01,\n",
        "                  'nb_iter':20,\n",
        "                  'clip_min':0.0,\n",
        "                  'clip_max':1.0}\n",
        "\n",
        "#Generate adversarial data\n",
        "pgd_attack_onTest_data = pgd.generate_np(X_test,**pgd_params)\n",
        "pgd_attack_onTrain_data = pgd.generate_np(X_train,**pgd_params)\n",
        "\n",
        "#Evaluate accuracy of perturbed data on target classifier\n",
        "pgd_adv_scores = mnist_classifier.evaluate(pgd_attack_onTest_data,labels_test)\n",
        "print('PGD Adversarial Attack Accuracy: %0.2f%%'%(pgd_adv_scores[1]*100))"
      ],
      "execution_count": 0,
      "outputs": [
        {
          "output_type": "stream",
          "text": [
            "10000/10000 [==============================] - 4s 413us/step\n",
            "PGD Adversarial Attack Accuracy: 1.09%\n"
          ],
          "name": "stdout"
        }
      ]
    },
    {
      "cell_type": "code",
      "metadata": {
        "id": "urEHSPQISer1",
        "colab_type": "code",
        "outputId": "a874dee5-86a4-42d3-817a-f8bdde90b8e6",
        "colab": {
          "base_uri": "https://localhost:8080/",
          "height": 703
        }
      },
      "source": [
        "#Show ten original samples and their corresponding adversarial samples\n",
        "num_samples = 10\n",
        "fig1,ax1 = plt.subplots(num_samples,2)\n",
        "fig1.set_size_inches(12,12)\n",
        "titles=['Original','PGD Adversarial']\n",
        "for i in range(2): ax1[0,i].set_title(titles[i])\n",
        "for i in range(num_samples):\n",
        "  #original \n",
        "  ax1[i,0].imshow(X_test[i].reshape(28,28),cmap=plt.cm.gray)\n",
        "  ax1[i,0].get_xaxis().set_visible(False)\n",
        "  ax1[i,0].get_yaxis().set_visible(False)\n",
        "  #adversarial\n",
        "  ax1[i,1].imshow(pgd_attack_onTest_data[i].reshape(28,28),cmap=plt.cm.gray)\n",
        "  ax1[i,1].get_xaxis().set_visible(False)\n",
        "  ax1[i,1].get_yaxis().set_visible(False)\n",
        "\n",
        "plt.show()"
      ],
      "execution_count": 0,
      "outputs": [
        {
          "output_type": "display_data",
          "data": {
            "image/png": "[encoded data removed]",
            "text/plain": [
              "<Figure size 864x864 with 20 Axes>"
            ]
          },
          "metadata": {
            "tags": []
          }
        }
      ]
    },
    {
      "cell_type": "code",
      "metadata": {
        "id": "gTygGikdUWU8",
        "colab_type": "code",
        "outputId": "7f97453c-ca74-4b98-ca87-3a9a507c6b95",
        "colab": {
          "base_uri": "https://localhost:8080/",
          "height": 1000
        }
      },
      "source": [
        "#Implementing the adversarial training defense\n",
        "#Create instance of classifier\n",
        "adv_trained_clf = MNIST_Classifier()\n",
        "\n",
        "#Compile model using an appropriate loss and optimizer algorithm\n",
        "adv_trained_clf.compile(loss='categorical_crossentropy',\n",
        "                   optimizer='adam',\n",
        "                   metrics=['accuracy'])\n",
        "\n",
        "#Train the model and assign training meta-data to a variable\n",
        "adv_trained_clf_mdata = adv_trained_clf.fit(np.vstack((X_train,pgd_attack_onTrain_data)),\n",
        "                                            np.concatenate((labels_train,labels_train)),\n",
        "                                         validation_data=(X_test,labels_test),\n",
        "                                         epochs=50,\n",
        "                                         batch_size=256,\n",
        "                                         shuffle=True)\n",
        "\n",
        "# save model and history\n",
        "adv_trained_clf.save('adv_trained_clf.h5')\n",
        "!cp adv_trained_clf.h5 /content/gdrive/My\\ Drive/ML2/Project-4/\n",
        "\n",
        "with open('adv_trained_clf_history.pkl', 'wb') as f:  \n",
        "  pickle.dump(adv_trained_clf_mdata.history, f)\n",
        "\n",
        "!cp adv_trained_clf_history.pkl /content/gdrive/My\\ Drive/ML2/Project-4/"
      ],
      "execution_count": 0,
      "outputs": [
        {
          "output_type": "stream",
          "text": [
            "Train on 120000 samples, validate on 10000 samples\n",
            "Epoch 1/50\n",
            "120000/120000 [==============================] - 9s 79us/step - loss: 0.2080 - acc: 0.9393 - val_loss: 0.1474 - val_acc: 0.9534\n",
            "Epoch 2/50\n",
            "120000/120000 [==============================] - 5s 42us/step - loss: 0.0656 - acc: 0.9811 - val_loss: 0.1111 - val_acc: 0.9651\n",
            "Epoch 3/50\n",
            "120000/120000 [==============================] - 5s 43us/step - loss: 0.0442 - acc: 0.9866 - val_loss: 0.0924 - val_acc: 0.9719\n",
            "Epoch 4/50\n",
            "120000/120000 [==============================] - 5s 43us/step - loss: 0.0333 - acc: 0.9899 - val_loss: 0.0847 - val_acc: 0.9727\n",
            "Epoch 5/50\n",
            "120000/120000 [==============================] - 5s 42us/step - loss: 0.0250 - acc: 0.9922 - val_loss: 0.0904 - val_acc: 0.9727\n",
            "Epoch 6/50\n",
            "120000/120000 [==============================] - 5s 43us/step - loss: 0.0198 - acc: 0.9938 - val_loss: 0.0838 - val_acc: 0.9748\n",
            "Epoch 7/50\n",
            "120000/120000 [==============================] - 5s 43us/step - loss: 0.0165 - acc: 0.9948 - val_loss: 0.0755 - val_acc: 0.9767\n",
            "Epoch 8/50\n",
            "120000/120000 [==============================] - 5s 44us/step - loss: 0.0136 - acc: 0.9957 - val_loss: 0.0805 - val_acc: 0.9776\n",
            "Epoch 9/50\n",
            "120000/120000 [==============================] - 5s 43us/step - loss: 0.0127 - acc: 0.9959 - val_loss: 0.0904 - val_acc: 0.9742\n",
            "Epoch 10/50\n",
            "120000/120000 [==============================] - 5s 42us/step - loss: 0.0108 - acc: 0.9966 - val_loss: 0.0912 - val_acc: 0.9765\n",
            "Epoch 11/50\n",
            "120000/120000 [==============================] - 5s 43us/step - loss: 0.0089 - acc: 0.9973 - val_loss: 0.0854 - val_acc: 0.9775\n",
            "Epoch 12/50\n",
            "120000/120000 [==============================] - 5s 43us/step - loss: 0.0094 - acc: 0.9969 - val_loss: 0.0988 - val_acc: 0.9745\n",
            "Epoch 13/50\n",
            "120000/120000 [==============================] - 5s 43us/step - loss: 0.0092 - acc: 0.9970 - val_loss: 0.0884 - val_acc: 0.9775\n",
            "Epoch 14/50\n",
            "120000/120000 [==============================] - 5s 43us/step - loss: 0.0071 - acc: 0.9976 - val_loss: 0.0819 - val_acc: 0.9786\n",
            "Epoch 15/50\n",
            "120000/120000 [==============================] - 5s 43us/step - loss: 0.0060 - acc: 0.9981 - val_loss: 0.0883 - val_acc: 0.9778\n",
            "Epoch 16/50\n",
            "120000/120000 [==============================] - 5s 43us/step - loss: 0.0062 - acc: 0.9980 - val_loss: 0.0876 - val_acc: 0.9789\n",
            "Epoch 17/50\n",
            "120000/120000 [==============================] - 5s 42us/step - loss: 0.0059 - acc: 0.9980 - val_loss: 0.1019 - val_acc: 0.9766\n",
            "Epoch 18/50\n",
            "120000/120000 [==============================] - 5s 43us/step - loss: 0.0074 - acc: 0.9976 - val_loss: 0.0914 - val_acc: 0.9791\n",
            "Epoch 19/50\n",
            "120000/120000 [==============================] - 5s 42us/step - loss: 0.0040 - acc: 0.9987 - val_loss: 0.0926 - val_acc: 0.9783\n",
            "Epoch 20/50\n",
            "120000/120000 [==============================] - 5s 42us/step - loss: 0.0056 - acc: 0.9982 - val_loss: 0.0993 - val_acc: 0.9750\n",
            "Epoch 21/50\n",
            "120000/120000 [==============================] - 5s 44us/step - loss: 0.0058 - acc: 0.9982 - val_loss: 0.0949 - val_acc: 0.9783\n",
            "Epoch 22/50\n",
            "120000/120000 [==============================] - 5s 44us/step - loss: 0.0045 - acc: 0.9984 - val_loss: 0.0856 - val_acc: 0.9796\n",
            "Epoch 23/50\n",
            "120000/120000 [==============================] - 5s 43us/step - loss: 0.0042 - acc: 0.9986 - val_loss: 0.1050 - val_acc: 0.9764\n",
            "Epoch 24/50\n",
            "120000/120000 [==============================] - 5s 43us/step - loss: 0.0035 - acc: 0.9988 - val_loss: 0.0934 - val_acc: 0.9789\n",
            "Epoch 25/50\n",
            "120000/120000 [==============================] - 5s 43us/step - loss: 0.0043 - acc: 0.9986 - val_loss: 0.1024 - val_acc: 0.9785\n",
            "Epoch 26/50\n",
            "120000/120000 [==============================] - 5s 43us/step - loss: 0.0042 - acc: 0.9987 - val_loss: 0.0941 - val_acc: 0.9778\n",
            "Epoch 27/50\n",
            "120000/120000 [==============================] - 5s 43us/step - loss: 0.0035 - acc: 0.9989 - val_loss: 0.0931 - val_acc: 0.9792\n",
            "Epoch 28/50\n",
            "120000/120000 [==============================] - 5s 43us/step - loss: 0.0030 - acc: 0.9990 - val_loss: 0.1012 - val_acc: 0.9778\n",
            "Epoch 29/50\n",
            "120000/120000 [==============================] - 5s 44us/step - loss: 0.0039 - acc: 0.9987 - val_loss: 0.1097 - val_acc: 0.9747\n",
            "Epoch 30/50\n",
            "120000/120000 [==============================] - 5s 45us/step - loss: 0.0043 - acc: 0.9986 - val_loss: 0.1016 - val_acc: 0.9790\n",
            "Epoch 31/50\n",
            "120000/120000 [==============================] - 5s 44us/step - loss: 0.0027 - acc: 0.9992 - val_loss: 0.0929 - val_acc: 0.9791\n",
            "Epoch 32/50\n",
            "120000/120000 [==============================] - 5s 43us/step - loss: 0.0031 - acc: 0.9990 - val_loss: 0.0973 - val_acc: 0.9812\n",
            "Epoch 33/50\n",
            "120000/120000 [==============================] - 5s 42us/step - loss: 0.0037 - acc: 0.9987 - val_loss: 0.1019 - val_acc: 0.9774\n",
            "Epoch 34/50\n",
            "120000/120000 [==============================] - 5s 43us/step - loss: 0.0024 - acc: 0.9992 - val_loss: 0.0872 - val_acc: 0.9816\n",
            "Epoch 35/50\n",
            "120000/120000 [==============================] - 5s 42us/step - loss: 0.0013 - acc: 0.9996 - val_loss: 0.0924 - val_acc: 0.9804\n",
            "Epoch 36/50\n",
            "120000/120000 [==============================] - 5s 43us/step - loss: 0.0018 - acc: 0.9995 - val_loss: 0.1103 - val_acc: 0.9767\n",
            "Epoch 37/50\n",
            "120000/120000 [==============================] - 5s 43us/step - loss: 0.0055 - acc: 0.9981 - val_loss: 0.1059 - val_acc: 0.9758\n",
            "Epoch 38/50\n",
            "120000/120000 [==============================] - 5s 43us/step - loss: 0.0033 - acc: 0.9988 - val_loss: 0.0959 - val_acc: 0.9793\n",
            "Epoch 39/50\n",
            "120000/120000 [==============================] - 5s 43us/step - loss: 0.0024 - acc: 0.9993 - val_loss: 0.0970 - val_acc: 0.9799\n",
            "Epoch 40/50\n",
            "120000/120000 [==============================] - 5s 43us/step - loss: 0.0018 - acc: 0.9994 - val_loss: 0.1016 - val_acc: 0.9813\n",
            "Epoch 41/50\n",
            "120000/120000 [==============================] - 5s 43us/step - loss: 0.0020 - acc: 0.9994 - val_loss: 0.0991 - val_acc: 0.9806\n",
            "Epoch 42/50\n",
            "120000/120000 [==============================] - 5s 43us/step - loss: 0.0034 - acc: 0.9988 - val_loss: 0.1104 - val_acc: 0.9787\n",
            "Epoch 43/50\n",
            "120000/120000 [==============================] - 5s 42us/step - loss: 0.0021 - acc: 0.9993 - val_loss: 0.1042 - val_acc: 0.9789\n",
            "Epoch 44/50\n",
            "120000/120000 [==============================] - 5s 43us/step - loss: 0.0021 - acc: 0.9993 - val_loss: 0.1048 - val_acc: 0.9788\n",
            "Epoch 45/50\n",
            "120000/120000 [==============================] - 5s 42us/step - loss: 0.0018 - acc: 0.9995 - val_loss: 0.1123 - val_acc: 0.9785\n",
            "Epoch 46/50\n",
            "120000/120000 [==============================] - 5s 42us/step - loss: 0.0024 - acc: 0.9993 - val_loss: 0.1004 - val_acc: 0.9783\n",
            "Epoch 47/50\n",
            "120000/120000 [==============================] - 5s 43us/step - loss: 0.0027 - acc: 0.9991 - val_loss: 0.1107 - val_acc: 0.9785\n",
            "Epoch 48/50\n",
            "120000/120000 [==============================] - 5s 45us/step - loss: 0.0022 - acc: 0.9992 - val_loss: 0.1063 - val_acc: 0.9793\n",
            "Epoch 49/50\n",
            "120000/120000 [==============================] - 5s 42us/step - loss: 0.0024 - acc: 0.9992 - val_loss: 0.1056 - val_acc: 0.9789\n",
            "Epoch 50/50\n",
            "120000/120000 [==============================] - 5s 42us/step - loss: 0.0019 - acc: 0.9994 - val_loss: 0.1196 - val_acc: 0.9774\n"
          ],
          "name": "stdout"
        }
      ]
    },
    {
      "cell_type": "code",
      "metadata": {
        "id": "i6dMEXGBUlci",
        "colab_type": "code",
        "outputId": "6d07f26a-e370-43a7-befa-da37904bffa3",
        "colab": {
          "base_uri": "https://localhost:8080/",
          "height": 85
        }
      },
      "source": [
        "!cp /content/gdrive/My\\ Drive/ML2/Project-4/adv_trained_clf.h5 ./\n",
        "adv_trained_clf = load_model('adv_trained_clf.h5')\n",
        "\n",
        "#Using the defense to evaluate the accuracy of the perturbed data\n",
        "score_pgd_clf_advtest = adv_trained_clf.evaluate(pgd_attack_onTest_data,labels_test)\n",
        "score_pgd_clf_benigntest = adv_trained_clf.evaluate(X_test,labels_test)\n",
        "\n",
        "print('Accuracy of adversarial-trained-classifier on perturbed testing data: %0.2f%%'%(score_pgd_clf_advtest[1]*100))\n",
        "\n",
        "# accuracy of new classifier on un-perturbed testing data\n",
        "print('Accuracy of adversarial-trained-classifier on un-perturbed testing data: %0.2f%%'%(score_pgd_clf_benigntest[1]*100))"
      ],
      "execution_count": 0,
      "outputs": [
        {
          "output_type": "stream",
          "text": [
            "10000/10000 [==============================] - 2s 242us/step\n",
            "10000/10000 [==============================] - 1s 86us/step\n",
            "Accuracy of adversarial-trained-classifier on perturbed testing data: 97.96%\n",
            "Accuracy of adversarial-trained-classifier on un-perturbed testing data: 97.74%\n"
          ],
          "name": "stdout"
        }
      ]
    },
    {
      "cell_type": "markdown",
      "metadata": {
        "id": "MqIEiMdar_5q",
        "colab_type": "text"
      },
      "source": [
        "#Part 4: Carlini and Wagner Attack"
      ]
    },
    {
      "cell_type": "code",
      "metadata": {
        "id": "oyyNb-v5sCY6",
        "colab_type": "code",
        "outputId": "90af5032-91f0-4bcc-bd0c-c7defc343096",
        "colab": {
          "base_uri": "https://localhost:8080/",
          "height": 51
        }
      },
      "source": [
        "#Implementing the CW attack\n",
        "\n",
        "#CW Instance on trained classifier from Part 1\n",
        "CW = CarliniWagnerL2(wrap, sess=sess)\n",
        "\n",
        "#Attack parameters\n",
        "CW_params = { 'binary_search_steps':1,\n",
        "              \"y\": None,\n",
        "              'learning_rate':1.25,\n",
        "              'batch_size':16,\n",
        "              'initial_const':10,\n",
        "              'clip_min':0.0,\n",
        "              'clip_max':1.0}\n",
        "\n",
        "#Generate adversarial data\n",
        "CW_attack_onTest_data =  CW.generate_np(X_test,**CW_params)              \n",
        "\n",
        "#Evaluate accuracy of perturbed data on target \n",
        "CW_adv_scores = mnist_classifier.evaluate(CW_attack_onTest_data,labels_test)\n",
        "print('CW Adversarial Attack Accuracy: %0.2f%%'%(CW_adv_scores[1]*100))"
      ],
      "execution_count": 0,
      "outputs": [
        {
          "output_type": "stream",
          "text": [
            "10000/10000 [==============================] - 3s 257us/step\n",
            "CW Adversarial Attack Accuracy: 1.40%\n"
          ],
          "name": "stdout"
        }
      ]
    },
    {
      "cell_type": "code",
      "metadata": {
        "id": "rlEMqrlPurRL",
        "colab_type": "code",
        "outputId": "3165e4ed-acb3-49a5-a5ea-6242f36bd3f8",
        "colab": {
          "base_uri": "https://localhost:8080/",
          "height": 703
        }
      },
      "source": [
        "#Show ten original samples and their corresponding adversarial samples\n",
        "num_samples = 10\n",
        "fig1,ax1 = plt.subplots(num_samples,2)\n",
        "fig1.set_size_inches(12,12)\n",
        "titles=['Original','CW Adversarial']\n",
        "for i in range(2): ax1[0,i].set_title(titles[i])\n",
        "for i in range(num_samples):\n",
        "  #original \n",
        "  ax1[i,0].imshow(X_test[i].reshape(28,28),cmap=plt.cm.gray)\n",
        "  ax1[i,0].get_xaxis().set_visible(False)\n",
        "  ax1[i,0].get_yaxis().set_visible(False)\n",
        "  #adversarial\n",
        "  ax1[i,1].imshow(CW_attack_onTest_data[i].reshape(28,28),cmap=plt.cm.gray)\n",
        "  ax1[i,1].get_xaxis().set_visible(False)\n",
        "  ax1[i,1].get_yaxis().set_visible(False)\n",
        "\n",
        "plt.show()"
      ],
      "execution_count": 0,
      "outputs": [
        {
          "output_type": "display_data",
          "data": {
            "image/png": "[encoded data removed]",
            "text/plain": [
              "<Figure size 864x864 with 20 Axes>"
            ]
          },
          "metadata": {
            "tags": []
          }
        }
      ]
    },
    {
      "cell_type": "code",
      "metadata": {
        "id": "P-VhQHQ2uvmV",
        "colab_type": "code",
        "outputId": "023451c1-6219-45a1-9102-b9b60bd6092d",
        "colab": {
          "base_uri": "https://localhost:8080/",
          "height": 1000
        }
      },
      "source": [
        "#Implementing the dimensionality reduction (PCA) defense \n",
        "\n",
        "#Calculate PCA projection\n",
        "pca = PCA(100)\n",
        "pca.fit(X_train)\n",
        "pca_train = pca.transform(X_train)\n",
        "pca_test = pca.transform(X_test)\n",
        "\n",
        "#Transform perturbed CW data using the subspace from the original training data\n",
        "#pca_CW_train = pca.transform(CW_attack_onTrain_data)\n",
        "pca_CW_test = pca.transform(CW_attack_onTest_data)\n",
        "\n",
        "# create model for PCA\n",
        "def pca_model():\n",
        "    model = Sequential()\n",
        "    model.add(Dense(100, activation='relu', input_dim=100))    \n",
        "    model.add(BatchNormalization())\n",
        "    model.add(Dense(100, activation='relu')) \n",
        "    model.add(BatchNormalization())\n",
        "    model.add(Dense(10, activation='softmax')) \n",
        "    return model\n",
        "\n",
        "pca_classifier = pca_model()    \n",
        "\n",
        "#Create model graph, compile it, and train it using pca_train lables_train \n",
        "#Compile model using an appropriate loss and optimizer algorithm\n",
        "pca_classifier.compile(loss='categorical_crossentropy',\n",
        "                   optimizer='adam',\n",
        "                   metrics=['accuracy'])\n",
        "\n",
        "#Train the model and assign training meta-data to a variable\n",
        "pca_classifier_mdata = pca_classifier.fit(pca_train,labels_train,\n",
        "                                         validation_data=(pca_test,labels_test),\n",
        "                                         epochs=50,\n",
        "                                         batch_size=256,\n",
        "                                         shuffle=True)\n",
        "\n",
        "# save model and history\n",
        "pca_classifier.save('pca_classifier.h5')\n",
        "!cp pca_classifier.h5 /content/gdrive/My\\ Drive/ML2/Project-4/\n",
        "\n",
        "with open('pca_classifier_history.pkl', 'wb') as f:  \n",
        "  pickle.dump(pca_classifier_mdata.history, f)\n",
        "\n",
        "!cp pca_classifier_history.pkl /content/gdrive/My\\ Drive/ML2/Project-4/"
      ],
      "execution_count": 0,
      "outputs": [
        {
          "output_type": "stream",
          "text": [
            "Train on 60000 samples, validate on 10000 samples\n",
            "Epoch 1/50\n",
            "60000/60000 [==============================] - 5s 83us/step - loss: 0.4514 - acc: 0.8660 - val_loss: 0.1803 - val_acc: 0.9490\n",
            "Epoch 2/50\n",
            "60000/60000 [==============================] - 2s 39us/step - loss: 0.1536 - acc: 0.9559 - val_loss: 0.1276 - val_acc: 0.9645\n",
            "Epoch 3/50\n",
            "60000/60000 [==============================] - 2s 40us/step - loss: 0.1047 - acc: 0.9698 - val_loss: 0.1040 - val_acc: 0.9694\n",
            "Epoch 4/50\n",
            "60000/60000 [==============================] - 2s 39us/step - loss: 0.0772 - acc: 0.9777 - val_loss: 0.0892 - val_acc: 0.9731\n",
            "Epoch 5/50\n",
            "60000/60000 [==============================] - 2s 40us/step - loss: 0.0608 - acc: 0.9826 - val_loss: 0.0831 - val_acc: 0.9756\n",
            "Epoch 6/50\n",
            "60000/60000 [==============================] - 2s 39us/step - loss: 0.0486 - acc: 0.9862 - val_loss: 0.0806 - val_acc: 0.9751\n",
            "Epoch 7/50\n",
            "60000/60000 [==============================] - 2s 39us/step - loss: 0.0385 - acc: 0.9896 - val_loss: 0.0764 - val_acc: 0.9766\n",
            "Epoch 8/50\n",
            "60000/60000 [==============================] - 2s 39us/step - loss: 0.0317 - acc: 0.9913 - val_loss: 0.0740 - val_acc: 0.9773\n",
            "Epoch 9/50\n",
            "60000/60000 [==============================] - 2s 39us/step - loss: 0.0254 - acc: 0.9934 - val_loss: 0.0742 - val_acc: 0.9777\n",
            "Epoch 10/50\n",
            "60000/60000 [==============================] - 2s 39us/step - loss: 0.0210 - acc: 0.9949 - val_loss: 0.0791 - val_acc: 0.9763\n",
            "Epoch 11/50\n",
            "60000/60000 [==============================] - 2s 38us/step - loss: 0.0184 - acc: 0.9954 - val_loss: 0.0779 - val_acc: 0.9773\n",
            "Epoch 12/50\n",
            "60000/60000 [==============================] - 2s 38us/step - loss: 0.0153 - acc: 0.9961 - val_loss: 0.0762 - val_acc: 0.9778\n",
            "Epoch 13/50\n",
            "60000/60000 [==============================] - 2s 39us/step - loss: 0.0128 - acc: 0.9970 - val_loss: 0.0812 - val_acc: 0.9771\n",
            "Epoch 14/50\n",
            "60000/60000 [==============================] - 2s 39us/step - loss: 0.0104 - acc: 0.9978 - val_loss: 0.0810 - val_acc: 0.9777\n",
            "Epoch 15/50\n",
            "60000/60000 [==============================] - 2s 39us/step - loss: 0.0093 - acc: 0.9980 - val_loss: 0.0839 - val_acc: 0.9771\n",
            "Epoch 16/50\n",
            "60000/60000 [==============================] - 2s 40us/step - loss: 0.0089 - acc: 0.9977 - val_loss: 0.0856 - val_acc: 0.9768\n",
            "Epoch 17/50\n",
            "60000/60000 [==============================] - 2s 40us/step - loss: 0.0075 - acc: 0.9983 - val_loss: 0.0872 - val_acc: 0.9764\n",
            "Epoch 18/50\n",
            "60000/60000 [==============================] - 2s 39us/step - loss: 0.0089 - acc: 0.9977 - val_loss: 0.0875 - val_acc: 0.9775\n",
            "Epoch 19/50\n",
            "60000/60000 [==============================] - 2s 39us/step - loss: 0.0073 - acc: 0.9983 - val_loss: 0.0862 - val_acc: 0.9778\n",
            "Epoch 20/50\n",
            "60000/60000 [==============================] - 2s 39us/step - loss: 0.0064 - acc: 0.9984 - val_loss: 0.0922 - val_acc: 0.9752\n",
            "Epoch 21/50\n",
            "60000/60000 [==============================] - 2s 38us/step - loss: 0.0048 - acc: 0.9991 - val_loss: 0.0912 - val_acc: 0.9766\n",
            "Epoch 22/50\n",
            "60000/60000 [==============================] - 2s 38us/step - loss: 0.0047 - acc: 0.9988 - val_loss: 0.0941 - val_acc: 0.9776\n",
            "Epoch 23/50\n",
            "60000/60000 [==============================] - 2s 39us/step - loss: 0.0069 - acc: 0.9981 - val_loss: 0.0942 - val_acc: 0.9771\n",
            "Epoch 24/50\n",
            "60000/60000 [==============================] - 2s 40us/step - loss: 0.0085 - acc: 0.9973 - val_loss: 0.1012 - val_acc: 0.9766\n",
            "Epoch 25/50\n",
            "60000/60000 [==============================] - 2s 39us/step - loss: 0.0056 - acc: 0.9986 - val_loss: 0.0950 - val_acc: 0.9776\n",
            "Epoch 26/50\n",
            "60000/60000 [==============================] - 2s 39us/step - loss: 0.0047 - acc: 0.9988 - val_loss: 0.0971 - val_acc: 0.9783\n",
            "Epoch 27/50\n",
            "60000/60000 [==============================] - 2s 38us/step - loss: 0.0045 - acc: 0.9988 - val_loss: 0.0986 - val_acc: 0.9778\n",
            "Epoch 28/50\n",
            "60000/60000 [==============================] - 2s 38us/step - loss: 0.0029 - acc: 0.9995 - val_loss: 0.0936 - val_acc: 0.9781\n",
            "Epoch 29/50\n",
            "60000/60000 [==============================] - 2s 39us/step - loss: 0.0029 - acc: 0.9993 - val_loss: 0.1015 - val_acc: 0.9787\n",
            "Epoch 30/50\n",
            "60000/60000 [==============================] - 2s 39us/step - loss: 0.0034 - acc: 0.9991 - val_loss: 0.0984 - val_acc: 0.9771\n",
            "Epoch 31/50\n",
            "60000/60000 [==============================] - 2s 39us/step - loss: 0.0054 - acc: 0.9984 - val_loss: 0.1068 - val_acc: 0.9757\n",
            "Epoch 32/50\n",
            "60000/60000 [==============================] - 2s 39us/step - loss: 0.0066 - acc: 0.9980 - val_loss: 0.1070 - val_acc: 0.9767\n",
            "Epoch 33/50\n",
            "60000/60000 [==============================] - 2s 40us/step - loss: 0.0057 - acc: 0.9983 - val_loss: 0.1026 - val_acc: 0.9778\n",
            "Epoch 34/50\n",
            "60000/60000 [==============================] - 2s 39us/step - loss: 0.0049 - acc: 0.9984 - val_loss: 0.0980 - val_acc: 0.9775\n",
            "Epoch 35/50\n",
            "60000/60000 [==============================] - 2s 40us/step - loss: 0.0032 - acc: 0.9992 - val_loss: 0.0988 - val_acc: 0.9798\n",
            "Epoch 36/50\n",
            "60000/60000 [==============================] - 2s 40us/step - loss: 0.0036 - acc: 0.9991 - val_loss: 0.1052 - val_acc: 0.9778\n",
            "Epoch 37/50\n",
            "60000/60000 [==============================] - 2s 38us/step - loss: 0.0029 - acc: 0.9992 - val_loss: 0.1039 - val_acc: 0.9785\n",
            "Epoch 38/50\n",
            "60000/60000 [==============================] - 2s 41us/step - loss: 0.0038 - acc: 0.9990 - val_loss: 0.1113 - val_acc: 0.9766\n",
            "Epoch 39/50\n",
            "60000/60000 [==============================] - 2s 40us/step - loss: 0.0050 - acc: 0.9985 - val_loss: 0.1040 - val_acc: 0.9781\n",
            "Epoch 40/50\n",
            "60000/60000 [==============================] - 2s 39us/step - loss: 0.0031 - acc: 0.9991 - val_loss: 0.1095 - val_acc: 0.9769\n",
            "Epoch 41/50\n",
            "60000/60000 [==============================] - 2s 39us/step - loss: 0.0028 - acc: 0.9994 - val_loss: 0.1106 - val_acc: 0.9766\n",
            "Epoch 42/50\n",
            "60000/60000 [==============================] - 2s 39us/step - loss: 0.0034 - acc: 0.9988 - val_loss: 0.1157 - val_acc: 0.9766\n",
            "Epoch 43/50\n",
            "60000/60000 [==============================] - 2s 40us/step - loss: 0.0045 - acc: 0.9987 - val_loss: 0.1053 - val_acc: 0.9775\n",
            "Epoch 44/50\n",
            "60000/60000 [==============================] - 2s 40us/step - loss: 0.0025 - acc: 0.9993 - val_loss: 0.1036 - val_acc: 0.9790\n",
            "Epoch 45/50\n",
            "60000/60000 [==============================] - 2s 39us/step - loss: 0.0017 - acc: 0.9996 - val_loss: 0.1048 - val_acc: 0.9791\n",
            "Epoch 46/50\n",
            "60000/60000 [==============================] - 2s 40us/step - loss: 0.0019 - acc: 0.9995 - val_loss: 0.1017 - val_acc: 0.9796\n",
            "Epoch 47/50\n",
            "60000/60000 [==============================] - 2s 38us/step - loss: 0.0030 - acc: 0.9993 - val_loss: 0.1085 - val_acc: 0.9790\n",
            "Epoch 48/50\n",
            "60000/60000 [==============================] - 2s 39us/step - loss: 0.0057 - acc: 0.9982 - val_loss: 0.1126 - val_acc: 0.9778\n",
            "Epoch 49/50\n",
            "60000/60000 [==============================] - 2s 41us/step - loss: 0.0037 - acc: 0.9988 - val_loss: 0.1091 - val_acc: 0.9792\n",
            "Epoch 50/50\n",
            "60000/60000 [==============================] - 2s 40us/step - loss: 0.0033 - acc: 0.9990 - val_loss: 0.1126 - val_acc: 0.9781\n"
          ],
          "name": "stdout"
        }
      ]
    },
    {
      "cell_type": "code",
      "metadata": {
        "id": "o9L61AfG2y94",
        "colab_type": "code",
        "outputId": "0857ec29-cb97-4c37-9166-f54f22b48133",
        "colab": {
          "base_uri": "https://localhost:8080/",
          "height": 68
        }
      },
      "source": [
        "!cp /content/gdrive/My\\ Drive/ML2/Project-4/pca_classifier.h5 ./\n",
        "pca_classifier = load_model('pca_classifier.h5')\n",
        "\n",
        "#Using the defense (and comparing to baseline accuracy)\n",
        "score_pca_clf_on_CW_Test_data = pca_classifier.evaluate(pca_CW_test,labels_test)\n",
        "score_baseline_clf_on_CW_Test_data = mnist_classifier.evaluate(CW_attack_onTest_data,labels_test)\n",
        "print('Accuracy of PCA-based defense classifier: %0.2f%% compared to baseline classifier: %0.2f%%'\\\n",
        "%(score_pca_clf_on_CW_Test_data[1]*100,score_baseline_clf_on_CW_Test_data[1]*100))\n"
      ],
      "execution_count": 0,
      "outputs": [
        {
          "output_type": "stream",
          "text": [
            "10000/10000 [==============================] - 2s 171us/step\n",
            "10000/10000 [==============================] - 1s 80us/step\n",
            "Accuracy of PCA-based defense classifier: 85.54% compared to baseline classifier: 1.40%\n"
          ],
          "name": "stdout"
        }
      ]
    },
    {
      "cell_type": "markdown",
      "metadata": {
        "id": "KP0mENqGhDt0",
        "colab_type": "text"
      },
      "source": [
        "#Part 5: DeepFool "
      ]
    },
    {
      "cell_type": "code",
      "metadata": {
        "id": "zHraovc2hES3",
        "colab_type": "code",
        "outputId": "7499b842-4e45-4af7-a0d9-f06ef08a8cbc",
        "colab": {
          "base_uri": "https://localhost:8080/",
          "height": 51
        }
      },
      "source": [
        "#Implementing the DeepFool attack\n",
        "\n",
        "#DeepFool Instance on trained classifier from Part 1\n",
        "deepfool = DeepFool(wrap,sess= sess)\n",
        "\n",
        "#Attack parameters\n",
        "DF_params = { 'nb_candidate':10,\n",
        "              'max_iter':50,\n",
        "              'clip_min':0.0,\n",
        "              'clip_max':1.0}\n",
        "\n",
        "#Generate adversarial data\n",
        "DF_attack_onTest_data = deepfool.generate_np(X_test,**DF_params)   \n",
        "\n",
        "#Evaluate accuracy of perturbed data on target classifier\n",
        "DF_adv_scores = mnist_classifier.evaluate(DF_attack_onTest_data,labels_test)\n",
        "print('DF Adversarial Attack Accuracy: %0.2f%%'%(DF_adv_scores[1]*100))"
      ],
      "execution_count": 0,
      "outputs": [
        {
          "output_type": "stream",
          "text": [
            "10000/10000 [==============================] - 2s 176us/step\n",
            "DF Adversarial Attack Accuracy: 1.42%\n"
          ],
          "name": "stdout"
        }
      ]
    },
    {
      "cell_type": "code",
      "metadata": {
        "id": "zEsLfmxThZ6M",
        "colab_type": "code",
        "outputId": "315a22b9-6422-4b4a-d3de-629e99d49870",
        "colab": {
          "base_uri": "https://localhost:8080/",
          "height": 703
        }
      },
      "source": [
        "#Show ten original samples and their corresponding adversarial samples\n",
        "num_samples = 10\n",
        "fig1,ax1 = plt.subplots(num_samples,2)\n",
        "fig1.set_size_inches(12,12)\n",
        "titles=['Original','DeepFool Adversarial']\n",
        "for i in range(2): ax1[0,i].set_title(titles[i])\n",
        "for i in range(num_samples):\n",
        "  #original \n",
        "  ax1[i,0].imshow(X_test[i].reshape(28,28),cmap=plt.cm.gray)\n",
        "  ax1[i,0].get_xaxis().set_visible(False)\n",
        "  ax1[i,0].get_yaxis().set_visible(False)\n",
        "  #adversarial\n",
        "  ax1[i,1].imshow(DF_attack_onTest_data[i].reshape(28,28),cmap=plt.cm.gray)\n",
        "  ax1[i,1].get_xaxis().set_visible(False)\n",
        "  ax1[i,1].get_yaxis().set_visible(False)\n",
        "\n",
        "plt.show()"
      ],
      "execution_count": 0,
      "outputs": [
        {
          "output_type": "display_data",
          "data": {
            "image/png": "[encoded data removed]",
            "text/plain": [
              "<Figure size 864x864 with 20 Axes>"
            ]
          },
          "metadata": {
            "tags": []
          }
        }
      ]
    },
    {
      "cell_type": "code",
      "metadata": {
        "id": "tOapt7QaM4U_",
        "colab_type": "code",
        "outputId": "9a024eeb-9745-4a97-8031-ca53fa46ea96",
        "colab": {
          "base_uri": "https://localhost:8080/",
          "height": 1000
        }
      },
      "source": [
        "#Implementing the Denoising Autoencoder Defense\n",
        "\n",
        "def autoencoder():\n",
        "    ae = Sequential()\n",
        "    ae.add(Dense(400, activation=None, kernel_initializer=\"normal\", input_dim=784))\n",
        "    ae.add(Dense(200, activation=None, kernel_initializer='normal'))\n",
        "    ae.add(Dense(100, activation=None, kernel_initializer='normal'))\n",
        "    ae.add(Dense(200, activation=None, kernel_initializer='normal'))\n",
        "    ae.add(Dense(400, activation=None, kernel_initializer='normal'))\n",
        "    ae.add(Dense(784, activation='sigmoid', kernel_initializer='normal'))\n",
        "    return ae\n",
        "\n",
        "#Create training data for DAE \n",
        "DF_attack_onTrain_data = deepfool.generate_np(X_train,**DF_params)   \n",
        "data_total_train = np.concatenate([DF_attack_onTrain_data, X_train])\n",
        "\n",
        "# df_attack_data_train = deepfool.generate_np(X_train, **fgm_params)\n",
        "# data_total_train = np.concatenate([df_attack_data_train, X_train])\n",
        "\n",
        "#Create and train DAE graph\n",
        "ae_df = autoencoder()\n",
        "\n",
        "#Compile model using an appropriate loss and optimizer algorithm\n",
        "ae_df.compile(loss=\"mean_squared_error\",optimizer=\"adam\")\n",
        "\n",
        "#Train the model and assign training meta-data to a variable\n",
        "num_epochs = 50\n",
        "batch_size = 256\n",
        "\n",
        "ae_df_history = ae_df.fit(data_total_train,\n",
        "                          np.concatenate([X_train, X_train]),\n",
        "                          epochs = num_epochs,\n",
        "                          batch_size = batch_size,\n",
        "                          shuffle=True)\n",
        "\n",
        "# save model\n",
        "ae_df.save('ae_df.h5')\n",
        "!cp ae_df.h5 /content/gdrive/My\\ Drive/ML2/Project-4/"
      ],
      "execution_count": 0,
      "outputs": [
        {
          "output_type": "stream",
          "text": [
            "W1111 20:12:46.993799 140199666685824 module_wrapper.py:139] From /usr/local/lib/python2.7/dist-packages/keras/backend/tensorflow_backend.py:4115: The name tf.random_normal is deprecated. Please use tf.random.normal instead.\n",
            "\n"
          ],
          "name": "stderr"
        },
        {
          "output_type": "stream",
          "text": [
            "Epoch 1/50\n",
            "120000/120000 [==============================] - 6s 52us/step - loss: 0.0255\n",
            "Epoch 2/50\n",
            "120000/120000 [==============================] - 5s 40us/step - loss: 0.0079\n",
            "Epoch 3/50\n",
            "120000/120000 [==============================] - 5s 39us/step - loss: 0.0056\n",
            "Epoch 4/50\n",
            "120000/120000 [==============================] - 5s 41us/step - loss: 0.0045\n",
            "Epoch 5/50\n",
            "120000/120000 [==============================] - 5s 41us/step - loss: 0.0038\n",
            "Epoch 6/50\n",
            "120000/120000 [==============================] - 5s 40us/step - loss: 0.0033\n",
            "Epoch 7/50\n",
            "120000/120000 [==============================] - 5s 41us/step - loss: 0.0030\n",
            "Epoch 8/50\n",
            "120000/120000 [==============================] - 5s 40us/step - loss: 0.0028\n",
            "Epoch 9/50\n",
            "120000/120000 [==============================] - 5s 40us/step - loss: 0.0026\n",
            "Epoch 10/50\n",
            "120000/120000 [==============================] - 5s 40us/step - loss: 0.0024\n",
            "Epoch 11/50\n",
            "120000/120000 [==============================] - 5s 40us/step - loss: 0.0023\n",
            "Epoch 12/50\n",
            "120000/120000 [==============================] - 5s 40us/step - loss: 0.0022\n",
            "Epoch 13/50\n",
            "120000/120000 [==============================] - 5s 40us/step - loss: 0.0022\n",
            "Epoch 14/50\n",
            "120000/120000 [==============================] - 5s 40us/step - loss: 0.0021\n",
            "Epoch 15/50\n",
            "120000/120000 [==============================] - 5s 40us/step - loss: 0.0021\n",
            "Epoch 16/50\n",
            "120000/120000 [==============================] - 5s 40us/step - loss: 0.0020\n",
            "Epoch 17/50\n",
            "120000/120000 [==============================] - 5s 40us/step - loss: 0.0020\n",
            "Epoch 18/50\n",
            "120000/120000 [==============================] - 5s 39us/step - loss: 0.0020\n",
            "Epoch 19/50\n",
            "120000/120000 [==============================] - 5s 39us/step - loss: 0.0020\n",
            "Epoch 20/50\n",
            "120000/120000 [==============================] - 5s 39us/step - loss: 0.0020\n",
            "Epoch 21/50\n",
            "120000/120000 [==============================] - 5s 40us/step - loss: 0.0020\n",
            "Epoch 22/50\n",
            "120000/120000 [==============================] - 5s 40us/step - loss: 0.0020\n",
            "Epoch 23/50\n",
            "120000/120000 [==============================] - 5s 39us/step - loss: 0.0020\n",
            "Epoch 24/50\n",
            "120000/120000 [==============================] - 5s 40us/step - loss: 0.0019\n",
            "Epoch 25/50\n",
            "120000/120000 [==============================] - 5s 39us/step - loss: 0.0019\n",
            "Epoch 26/50\n",
            "120000/120000 [==============================] - 5s 39us/step - loss: 0.0019\n",
            "Epoch 27/50\n",
            "120000/120000 [==============================] - 5s 40us/step - loss: 0.0019\n",
            "Epoch 28/50\n",
            "120000/120000 [==============================] - 5s 39us/step - loss: 0.0019\n",
            "Epoch 29/50\n",
            "120000/120000 [==============================] - 5s 39us/step - loss: 0.0019\n",
            "Epoch 30/50\n",
            "120000/120000 [==============================] - 5s 40us/step - loss: 0.0019\n",
            "Epoch 31/50\n",
            "120000/120000 [==============================] - 5s 40us/step - loss: 0.0019\n",
            "Epoch 32/50\n",
            "120000/120000 [==============================] - 5s 40us/step - loss: 0.0019\n",
            "Epoch 33/50\n",
            "120000/120000 [==============================] - 5s 40us/step - loss: 0.0019\n",
            "Epoch 34/50\n",
            "120000/120000 [==============================] - 5s 40us/step - loss: 0.0019\n",
            "Epoch 35/50\n",
            "120000/120000 [==============================] - 5s 40us/step - loss: 0.0019\n",
            "Epoch 36/50\n",
            "120000/120000 [==============================] - 5s 39us/step - loss: 0.0019\n",
            "Epoch 37/50\n",
            "120000/120000 [==============================] - 5s 40us/step - loss: 0.0019\n",
            "Epoch 38/50\n",
            "120000/120000 [==============================] - 5s 40us/step - loss: 0.0019\n",
            "Epoch 39/50\n",
            "120000/120000 [==============================] - 5s 40us/step - loss: 0.0019\n",
            "Epoch 40/50\n",
            "120000/120000 [==============================] - 5s 40us/step - loss: 0.0019\n",
            "Epoch 41/50\n",
            "120000/120000 [==============================] - 5s 40us/step - loss: 0.0019\n",
            "Epoch 42/50\n",
            "120000/120000 [==============================] - 5s 40us/step - loss: 0.0019\n",
            "Epoch 43/50\n",
            "120000/120000 [==============================] - 5s 40us/step - loss: 0.0019\n",
            "Epoch 44/50\n",
            "120000/120000 [==============================] - 5s 40us/step - loss: 0.0019\n",
            "Epoch 45/50\n",
            "120000/120000 [==============================] - 5s 39us/step - loss: 0.0019\n",
            "Epoch 46/50\n",
            "120000/120000 [==============================] - 5s 40us/step - loss: 0.0019\n",
            "Epoch 47/50\n",
            "120000/120000 [==============================] - 5s 39us/step - loss: 0.0019\n",
            "Epoch 48/50\n",
            "120000/120000 [==============================] - 5s 40us/step - loss: 0.0019\n",
            "Epoch 49/50\n",
            "120000/120000 [==============================] - 5s 39us/step - loss: 0.0019\n",
            "Epoch 50/50\n",
            "120000/120000 [==============================] - 5s 40us/step - loss: 0.0019\n",
            "cp: cannot stat 'ae_df.h5': No such file or directory\n"
          ],
          "name": "stdout"
        }
      ]
    },
    {
      "cell_type": "code",
      "metadata": {
        "id": "5CjKifVRNMMV",
        "colab_type": "code",
        "outputId": "abd4d01b-fb9d-4b86-9f8b-5b2735e566eb",
        "colab": {
          "base_uri": "https://localhost:8080/",
          "height": 51
        }
      },
      "source": [
        "!cp /content/gdrive/My\\ Drive/ML2/Project-4/ae_df.h5 ./\n",
        "ae_df = load_model('ae_df.h5')\n",
        "\n",
        "#Using the defense\n",
        "\n",
        "#Use DAE to to remove adversarial perturbation \n",
        "reconstructions_ae_df_on_DF_Test_data = ae_df.predict(DF_attack_onTest_data)\n",
        "\n",
        "#Evaluate accuracy of DF samples after denoising \n",
        "score_denoised_DF_Test_samples = mnist_classifier.evaluate(reconstructions_ae_df_on_DF_Test_data,labels_test)\n",
        "print('Accuracy of denoised-DF samples: %0.2f%%'%(score_denoised_DF_Test_samples[1]*100))"
      ],
      "execution_count": 0,
      "outputs": [
        {
          "output_type": "stream",
          "text": [
            "10000/10000 [==============================] - 1s 74us/step\n",
            "Accuracy of denoised-DF samples: 97.91%\n"
          ],
          "name": "stdout"
        }
      ]
    },
    {
      "cell_type": "code",
      "metadata": {
        "id": "6NSAW0v3NSMB",
        "colab_type": "code",
        "outputId": "3e698da1-7e36-4e99-a95f-a6a02a161b24",
        "colab": {
          "base_uri": "https://localhost:8080/",
          "height": 703
        }
      },
      "source": [
        "#Show ten samples of adversarial samples after denoising\n",
        "num_samples = 10\n",
        "fig1,ax1 = plt.subplots(num_samples,3)\n",
        "fig1.set_size_inches(12,12)\n",
        "titles=['Original','DeepFool Adversarial','Denoised using AE']\n",
        "for i in range(3): ax1[0,i].set_title(titles[i])\n",
        "for i in range(num_samples):\n",
        "  #original \n",
        "  ax1[i,0].imshow(X_test[i].reshape(28,28),cmap=plt.cm.gray)\n",
        "  ax1[i,0].get_xaxis().set_visible(False)\n",
        "  ax1[i,0].get_yaxis().set_visible(False)\n",
        "  #adversarial\n",
        "  ax1[i,1].imshow(DF_attack_onTest_data[i].reshape(28,28),cmap=plt.cm.gray)\n",
        "  ax1[i,1].get_xaxis().set_visible(False)\n",
        "  ax1[i,1].get_yaxis().set_visible(False)\n",
        "  #denoised\n",
        "  ax1[i,2].imshow(reconstructions_ae_df_on_DF_Test_data[i].reshape(28,28),cmap=plt.cm.gray)\n",
        "  ax1[i,2].get_xaxis().set_visible(False)\n",
        "  ax1[i,2].get_yaxis().set_visible(False)\n",
        "plt.show()"
      ],
      "execution_count": 0,
      "outputs": [
        {
          "output_type": "display_data",
          "data": {
            "image/png": "[encoded data removed]",
            "text/plain": [
              "<Figure size 864x864 with 30 Axes>"
            ]
          },
          "metadata": {
            "tags": []
          }
        }
      ]
    }
  ]
}