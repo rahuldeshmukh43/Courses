{
  "nbformat": 4,
  "nbformat_minor": 0,
  "metadata": {
    "colab": {
      "name": "hw04.ipynb",
      "provenance": [],
      "collapsed_sections": []
    },
    "kernelspec": {
      "name": "python3",
      "display_name": "Python 3"
    },
    "accelerator": "GPU"
  },
  "cells": [
    {
      "cell_type": "markdown",
      "metadata": {
        "id": "SlPQatUMAZhN",
        "colab_type": "text"
      },
      "source": [
        "ResNet-type Skip connection blocks\\\n",
        "author: rahul deshmukh\\\n",
        "email: deshmuk5@purdue.edu\n",
        "\n",
        "Sources:\n",
        "1. https://towardsdatascience.com/an-overview-of-resnet-and-its-variants-5281e2f56035\\\n",
        "2. https://arxiv.org/pdf/1512.03385.pdf\n",
        "3. http://ethereon.github.io/netscope/#/gist/db945b393d40bfa26006\n",
        "4. https://engineering.purdue.edu/kak/distDLS/DLStudio-1.0.4.html\n",
        "\n"
      ]
    },
    {
      "cell_type": "code",
      "metadata": {
        "id": "pgSIT4ssA-YU",
        "colab_type": "code",
        "outputId": "d618e959-62af-4e5f-8125-b9fde3068aa5",
        "colab": {
          "base_uri": "https://localhost:8080/",
          "height": 127
        }
      },
      "source": [
        "import csv,os\n",
        "import matplotlib.pyplot as plt\n",
        "import numpy as np\n",
        "from skimage import io, transform\n",
        "\n",
        "import torch\n",
        "import torch.nn as nn\n",
        "import torch.nn.functional as F\n",
        "from torch.utils.data import Dataset, DataLoader\n",
        "import torchvision\n",
        "from torchsummary import summary\n",
        "\n",
        "from google.colab import drive\n",
        "drive.mount('/content/gdrive')"
      ],
      "execution_count": 1,
      "outputs": [
        {
          "output_type": "stream",
          "text": [
            "Go to this URL in a browser: https://accounts.google.com/o/oauth2/auth?client_id=947318989803-6bn6qk8qdgf4n4g3pfee6491hc0brc4i.apps.googleusercontent.com&redirect_uri=urn%3aietf%3awg%3aoauth%3a2.0%3aoob&response_type=code&scope=email%20https%3a%2f%2fwww.googleapis.com%2fauth%2fdocs.test%20https%3a%2f%2fwww.googleapis.com%2fauth%2fdrive%20https%3a%2f%2fwww.googleapis.com%2fauth%2fdrive.photos.readonly%20https%3a%2f%2fwww.googleapis.com%2fauth%2fpeopleapi.readonly\n",
            "\n",
            "Enter your authorization code:\n",
            "··········\n",
            "Mounted at /content/gdrive\n"
          ],
          "name": "stdout"
        }
      ]
    },
    {
      "cell_type": "markdown",
      "metadata": {
        "id": "p-D6aDM9BXt_",
        "colab_type": "text"
      },
      "source": [
        "## (1) Network definition"
      ]
    },
    {
      "cell_type": "code",
      "metadata": {
        "id": "zP9ky7dcBMGw",
        "colab_type": "code",
        "colab": {}
      },
      "source": [
        "class BottleNeck_Block(nn.Module):\n",
        "  \"\"\" 3-conv layer bottleneck block\"\"\"\n",
        "  def __init__(self,in_channels,mid_channels,out_channels, downsample=False, skip_connections=True):\n",
        "    super().__init__()\n",
        "    self.in_channels = in_channels\n",
        "    self.mid_channels = mid_channels\n",
        "    self.out_channels = out_channels\n",
        "    self.downsample = downsample\n",
        "    self.skip_connections = skip_connections\n",
        "\n",
        "    norm_layer = nn.BatchNorm2d\n",
        "    self.bn_in = norm_layer(in_channels)\n",
        "    self.bn_mid = norm_layer(mid_channels)\n",
        "    self.bn_out = norm_layer(out_channels)    \n",
        "    if downsample:\n",
        "      self.conv1 = nn.Conv2d(in_channels, mid_channels, 1, stride=2)\n",
        "      self.downsampler = nn.Conv2d(in_channels,in_channels, 1, stride=2)\n",
        "    else:\n",
        "      self.conv1 = nn.Conv2d(in_channels, mid_channels, 1)\n",
        "      # self.downsampler = nn.Conv2d(in_channels,out_channels, 1)\n",
        "    self.conv2 = nn.Conv2d(mid_channels,mid_channels,3,padding=1)\n",
        "    self.conv3 = nn.Conv2d(mid_channels,out_channels, 1)    \n",
        "\n",
        "\n",
        "  def forward(self,x):\n",
        "    identity = x.clone()\n",
        "    # first conv layer\n",
        "    out = self.conv1(x)\n",
        "    out = self.bn_mid(out)\n",
        "    out = F.relu(out)\n",
        "    # second conv layer\n",
        "    out = self.conv2(out)\n",
        "    out = self.bn_mid(out)\n",
        "    out = F.relu(out)\n",
        "    # third conv layer\n",
        "    out = self.conv3(out)\n",
        "    out = self.bn_out(out)\n",
        "    if self.downsample:\n",
        "      identity = self.downsampler(identity)\n",
        "      identity = self.bn_in(identity)\n",
        "    # elif self.in_channels != self.out_channels: \n",
        "    #   identity = self.downsampler(identity)\n",
        "    #   identity = self.bn_out(identity)\n",
        "      \n",
        "    if self.skip_connections:\n",
        "      if self.in_channels == self.out_channels:\n",
        "          out += identity                              \n",
        "      else:\n",
        "        for num in range(self.out_channels//self.in_channels):\n",
        "          out[:,num*self.in_channels:(num+1)*self.in_channels,:,:] += identity\n",
        "        # out += identity\n",
        "    return(F.relu(out))\n",
        "\n",
        "class ResNet_BottleNeck(nn.Module):\n",
        "  def __init__(self,config):\n",
        "    super().__init__()\n",
        "    self.config = config\n",
        "    self.conv = nn.Conv2d(3,64,7,stride=2,padding=3) \n",
        "    self.pool = nn.MaxPool2d(3,stride=2, padding=1)\n",
        "    \n",
        "    # self.btlnck_blk_64_256_ds = BottleNeck_Block(64,64,256,downsample=True)\n",
        "    self.btlnck_blk_64_256 = BottleNeck_Block(64,64,256)\n",
        "    self.btlnck_blk256 = BottleNeck_Block(256,64,256)\n",
        "\n",
        "    self.btlnck_blk_256_512_ds = BottleNeck_Block(256,128,512,downsample=True)\n",
        "    self.btlnck_blk512 = BottleNeck_Block(512,128,512)\n",
        "\n",
        "    self.btlnck_blk_512_1024_ds = BottleNeck_Block(512,256,1024,downsample=True)\n",
        "    self.btlnck_blk1024 = BottleNeck_Block(1024,256,1024)\n",
        "\n",
        "    self.btlnck_blk_1024_2048_ds = BottleNeck_Block(1024,512,2048,downsample=True)\n",
        "    self.btlnck_blk2048 = BottleNeck_Block(2048,512,2048)\n",
        "\n",
        "    self.av_pool = nn.AvgPool2d(7,1)\n",
        "    self.fc1 =  nn.Linear(2048, 5)\n",
        "\n",
        "  def forward(self,x):\n",
        "    x = self.pool(F.relu(self.conv(x)))\n",
        "    x = self.btlnck_blk_64_256(x)\n",
        "    for _ in range(self.config[0]-1):\n",
        "      x = self.btlnck_blk256(x)                                               \n",
        "    x = self.btlnck_blk_256_512_ds(x)\n",
        "    for _ in range(self.config[1]-1):\n",
        "      x = self.btlnck_blk512(x)                                               \n",
        "    x = self.btlnck_blk_512_1024_ds(x)\n",
        "    for _ in range(self.config[2]-1):\n",
        "      x = self.btlnck_blk1024(x)\n",
        "    x = self.btlnck_blk_1024_2048_ds(x)\n",
        "    for _ in range(self.config[3]-1):\n",
        "      x = self.btlnck_blk2048(x)\n",
        "    x = self.av_pool(x)\n",
        "    x = x.view(-1, 2048)\n",
        "    x = self.fc1(x)\n",
        "    return x \n",
        "\n",
        "class ResNet50(ResNet_BottleNeck):\n",
        "  config = np.array([3,4,6,3]) \n",
        "  def __init__(self, config=config):\n",
        "    super().__init__(config)\n",
        "\n",
        "class ResNet101(ResNet_BottleNeck):\n",
        "  config = np.array([3,4,23,3]) \n",
        "  def __init__(self, config=config):\n",
        "    super().__init__(config)\n",
        "\n",
        "class ResNet152(ResNet_BottleNeck):\n",
        "  config = np.array([3,8,36,3]) \n",
        "  def __init__(self, config=config):\n",
        "    super().__init__(config)\n",
        "\n",
        "def run_code_for_training(net,train_dataloader, epochs, device, datalen):\n",
        "  net.to(device)\n",
        "  criterion = nn.CrossEntropyLoss()\n",
        "  #optimizer = torch.optim.SGD(net.parameters(), lr=1e-4, momentum=0.9)\n",
        "  optimizer = torch.optim.Adam(net.parameters(),lr=1e-4)\n",
        "  epoch_loss=[]\n",
        "  for epoch in range(epochs):  \n",
        "      print(\"\\n\")\n",
        "      running_loss = 0.0\n",
        "      running_epoch_loss=0.0\n",
        "      for i, data in enumerate(train_dataloader):\n",
        "          inputs, labels = data\n",
        "          inputs = inputs.to(device)\n",
        "          labels = labels.to(device)\n",
        "          optimizer.zero_grad()\n",
        "          # Make the predictions with the model:\n",
        "          outputs = net(inputs)\n",
        "\n",
        "          loss = criterion(outputs, labels)\n",
        "\n",
        "          loss.backward()\n",
        "          optimizer.step()\n",
        "          running_loss += loss.item()\n",
        "          running_epoch_loss +=loss.item()\n",
        "          if (i+1)%200 == 0:    \n",
        "              avg_loss = running_loss / float(200)\n",
        "              print(\"[epoch:%d, batch:%5d] batch avergaged loss: %.3f\" % (epoch + 1, i + 1, avg_loss))\n",
        "              running_loss = 0.0\n",
        "      epoch_loss.append(running_epoch_loss/datalen)\n",
        "      running_epoch_loss=0.0\n",
        "  print(\"\\nFinished Training\\n\")\n",
        "  return(epoch_loss)\n",
        "\n",
        "def run_code_for_testing(net, test_data_loader, device):\n",
        "  accuracy=0\n",
        "  count=0\n",
        "  with torch.set_grad_enabled(False):\n",
        "    net.eval()\n",
        "    net.to(device)  \n",
        "    for i,data in enumerate(test_data_loader):\n",
        "      x, y_true = data\n",
        "      x, y_true = x.to(device), y_true.to(device)\n",
        "      y_pred = net(x)\n",
        "      _, y_pred = torch.max(F.softmax(y_pred, dim=1), dim=1)\n",
        "      for b in range(y_pred.shape[0]): \n",
        "        if y_true[b]==y_pred[b]: accuracy+=1\n",
        "      count += y_pred.shape[0]\n",
        "    accuracy = accuracy/count\n",
        "  return accuracy*100"
      ],
      "execution_count": 0,
      "outputs": []
    },
    {
      "cell_type": "markdown",
      "metadata": {
        "id": "95hymHyoqiPL",
        "colab_type": "text"
      },
      "source": [
        "##(2) ImageNet experiment\n",
        "### Foreword:\n",
        "1. The data was downloaded using https://github.com/mf1024/ImageNet-Datasets-Downloader\n",
        "2. imagenet5 folder contains 5 classes and a total of 5517 images\n",
        "3. The data was partitioned into training and testing with 80:20 ratio. Such that each class follows this ratio\n",
        "4. Samples for training and testing were drawn after shuffling the data in each class.\n",
        "\n",
        "\n",
        "\n"
      ]
    },
    {
      "cell_type": "markdown",
      "metadata": {
        "id": "BGr0dsdlr6Qz",
        "colab_type": "text"
      },
      "source": [
        "### Custom dataset for ImageNet\n",
        "\n"
      ]
    },
    {
      "cell_type": "code",
      "metadata": {
        "id": "4bR6VL6KsBOP",
        "colab_type": "code",
        "colab": {}
      },
      "source": [
        "#%% ----------------- Class Definitions --------------------------------------#\n",
        "class ImageNetDataset(Dataset):\n",
        "  in_channels=3\n",
        "  image_size = 224\n",
        "  def __init__(self,root_dir, train=True, transform = None):\n",
        "    self.root_dir = root_dir\n",
        "    self.train = train\n",
        "    self.transform = transform \n",
        "    if train: \n",
        "        self.csvfile = root_dir + 'train_data.csv'\n",
        "    else: \n",
        "        self.csvfile = root_dir + 'test_data.csv'\n",
        "    with open(self.csvfile,'rt') as f:\n",
        "      reader = csv.reader(f,delimiter=',')\n",
        "      self.data_list = [row for row in reader]\n",
        "\n",
        "    self.normalize = torchvision.transforms.Normalize((0.5, 0.5, 0.5), (0.5, 0.5, 0.5))\n",
        "\n",
        "  def __len__(self):\n",
        "    self.datalen = len(self.data_list)\n",
        "    return(self.datalen)\n",
        "      \n",
        "  def __getitem__(self,idx):\n",
        "    img_name = self.root_dir + self.data_list[idx][0]\n",
        "    class_id =  int(self.data_list[idx][1])\n",
        "    image = io.imread(img_name)/255        \n",
        "    #resize image and mask\n",
        "    image = transform.resize(image,(self.image_size, self.image_size, self.in_channels),\n",
        "                              anti_aliasing=False)        \n",
        "    # reshape from (H,W,C) -> (C,H,W)            \n",
        "    image = image.transpose(2,0,1)\n",
        "    image_tensor = torch.from_numpy(image.astype(np.float32))    \n",
        "    image_tensor = self.normalize(image_tensor)\n",
        "    # augmentation\n",
        "    if self.transform is not None: image_tensor = self.transform(image_tensor)                 \n",
        "    return(image_tensor, class_id)"
      ],
      "execution_count": 0,
      "outputs": []
    },
    {
      "cell_type": "markdown",
      "metadata": {
        "id": "npAne08ZsjWP",
        "colab_type": "text"
      },
      "source": [
        "### Create ImageNet dataloaders\n"
      ]
    },
    {
      "cell_type": "code",
      "metadata": {
        "id": "Hmm-0rcmsaRk",
        "colab_type": "code",
        "colab": {}
      },
      "source": [
        "root_dir = './gdrive/My Drive/ECE695_DL/HW4/imagenet5/'\n",
        "save_dir = './gdrive/My Drive/ECE695_DL/HW4/'\n",
        "batch_size = 4\n",
        "\n",
        "train_dataset = ImageNetDataset(root_dir)\n",
        "test_dataset = ImageNetDataset(root_dir, train=False)\n",
        "\n",
        "train_dataloader = DataLoader(train_dataset,batch_size=batch_size, shuffle=True, num_workers=4)\n",
        "test_dataloader = DataLoader(test_dataset,batch_size=batch_size, shuffle=False, num_workers=4)"
      ],
      "execution_count": 0,
      "outputs": []
    },
    {
      "cell_type": "markdown",
      "metadata": {
        "id": "SrAiJcL2IQiI",
        "colab_type": "text"
      },
      "source": [
        "### Print Network summary"
      ]
    },
    {
      "cell_type": "code",
      "metadata": {
        "id": "QKMVA9Q_IPgd",
        "colab_type": "code",
        "colab": {}
      },
      "source": [
        "net = ResNet101()\n",
        "# summary(net, (3,224,224),-1,device='cpu')"
      ],
      "execution_count": 0,
      "outputs": []
    },
    {
      "cell_type": "markdown",
      "metadata": {
        "id": "mtXMqtquIbfB",
        "colab_type": "text"
      },
      "source": [
        "### Train network"
      ]
    },
    {
      "cell_type": "code",
      "metadata": {
        "id": "CZWW6oFRIbz2",
        "colab_type": "code",
        "outputId": "fc001a8e-4874-4cb8-ede2-1981b82c104e",
        "colab": {
          "base_uri": "https://localhost:8080/",
          "height": 1000
        }
      },
      "source": [
        "if torch.cuda.is_available():\n",
        "  device = torch.device(\"cuda:0\")\n",
        "else:\n",
        "  device = torch.device(\"cpu\")\n",
        "\n",
        "epochs=20\n",
        "\n",
        "if os.path.exists(save_dir+'wts50.pkl'):\n",
        "  net.load_state_dict(torch.load(save_dir+'wts50.pkl'))\n",
        "  epoch_counter = int(np.load(save_dir+'epoch_counter.npy'))\n",
        "else:\n",
        "  epoch_counter = 0\n",
        "\n",
        "train_loss= run_code_for_training(net, train_dataloader, epochs, device, train_dataset.datalen)\n",
        "classification_accuracy= run_code_for_testing(net,test_dataloader,device)\n",
        "# save wts and epochs\n",
        "torch.save(net.state_dict(), save_dir + 'wts50.pkl')\n",
        "np.save(save_dir+'epoch_counter.npy',epoch_counter+epochs)"
      ],
      "execution_count": 6,
      "outputs": [
        {
          "output_type": "stream",
          "text": [
            "\n",
            "\n",
            "[epoch:1, batch:  200] batch avergaged loss: 1.718\n",
            "[epoch:1, batch:  400] batch avergaged loss: 1.548\n",
            "[epoch:1, batch:  600] batch avergaged loss: 1.486\n",
            "[epoch:1, batch:  800] batch avergaged loss: 1.403\n",
            "[epoch:1, batch: 1000] batch avergaged loss: 1.430\n",
            "\n",
            "\n",
            "[epoch:2, batch:  200] batch avergaged loss: 1.358\n",
            "[epoch:2, batch:  400] batch avergaged loss: 1.363\n",
            "[epoch:2, batch:  600] batch avergaged loss: 1.282\n",
            "[epoch:2, batch:  800] batch avergaged loss: 1.293\n",
            "[epoch:2, batch: 1000] batch avergaged loss: 1.304\n",
            "\n",
            "\n",
            "[epoch:3, batch:  200] batch avergaged loss: 1.225\n",
            "[epoch:3, batch:  400] batch avergaged loss: 1.206\n",
            "[epoch:3, batch:  600] batch avergaged loss: 1.218\n",
            "[epoch:3, batch:  800] batch avergaged loss: 1.205\n",
            "[epoch:3, batch: 1000] batch avergaged loss: 1.173\n",
            "\n",
            "\n",
            "[epoch:4, batch:  200] batch avergaged loss: 1.121\n",
            "[epoch:4, batch:  400] batch avergaged loss: 1.150\n",
            "[epoch:4, batch:  600] batch avergaged loss: 1.167\n",
            "[epoch:4, batch:  800] batch avergaged loss: 1.106\n",
            "[epoch:4, batch: 1000] batch avergaged loss: 1.101\n",
            "\n",
            "\n",
            "[epoch:5, batch:  200] batch avergaged loss: 1.060\n",
            "[epoch:5, batch:  400] batch avergaged loss: 1.089\n",
            "[epoch:5, batch:  600] batch avergaged loss: 1.001\n",
            "[epoch:5, batch:  800] batch avergaged loss: 1.102\n",
            "[epoch:5, batch: 1000] batch avergaged loss: 1.060\n",
            "\n",
            "\n",
            "[epoch:6, batch:  200] batch avergaged loss: 0.981\n",
            "[epoch:6, batch:  400] batch avergaged loss: 1.051\n",
            "[epoch:6, batch:  600] batch avergaged loss: 1.065\n",
            "[epoch:6, batch:  800] batch avergaged loss: 0.983\n",
            "[epoch:6, batch: 1000] batch avergaged loss: 0.988\n",
            "\n",
            "\n",
            "[epoch:7, batch:  200] batch avergaged loss: 0.978\n",
            "[epoch:7, batch:  400] batch avergaged loss: 0.939\n",
            "[epoch:7, batch:  600] batch avergaged loss: 0.925\n",
            "[epoch:7, batch:  800] batch avergaged loss: 0.985\n",
            "[epoch:7, batch: 1000] batch avergaged loss: 0.918\n",
            "\n",
            "\n",
            "[epoch:8, batch:  200] batch avergaged loss: 0.921\n",
            "[epoch:8, batch:  400] batch avergaged loss: 0.964\n",
            "[epoch:8, batch:  600] batch avergaged loss: 0.880\n",
            "[epoch:8, batch:  800] batch avergaged loss: 0.855\n",
            "[epoch:8, batch: 1000] batch avergaged loss: 0.911\n",
            "\n",
            "\n",
            "[epoch:9, batch:  200] batch avergaged loss: 0.848\n",
            "[epoch:9, batch:  400] batch avergaged loss: 0.847\n",
            "[epoch:9, batch:  600] batch avergaged loss: 0.845\n",
            "[epoch:9, batch:  800] batch avergaged loss: 0.827\n",
            "[epoch:9, batch: 1000] batch avergaged loss: 0.850\n",
            "\n",
            "\n",
            "[epoch:10, batch:  200] batch avergaged loss: 0.738\n",
            "[epoch:10, batch:  400] batch avergaged loss: 0.735\n",
            "[epoch:10, batch:  600] batch avergaged loss: 0.811\n",
            "[epoch:10, batch:  800] batch avergaged loss: 0.830\n",
            "[epoch:10, batch: 1000] batch avergaged loss: 0.809\n",
            "\n",
            "\n",
            "[epoch:11, batch:  200] batch avergaged loss: 0.696\n",
            "[epoch:11, batch:  400] batch avergaged loss: 0.841\n",
            "[epoch:11, batch:  600] batch avergaged loss: 0.714\n",
            "[epoch:11, batch:  800] batch avergaged loss: 0.744\n",
            "[epoch:11, batch: 1000] batch avergaged loss: 0.770\n",
            "\n",
            "\n",
            "[epoch:12, batch:  200] batch avergaged loss: 0.717\n",
            "[epoch:12, batch:  400] batch avergaged loss: 0.681\n",
            "[epoch:12, batch:  600] batch avergaged loss: 0.701\n",
            "[epoch:12, batch:  800] batch avergaged loss: 0.675\n",
            "[epoch:12, batch: 1000] batch avergaged loss: 0.642\n",
            "\n",
            "\n",
            "[epoch:13, batch:  200] batch avergaged loss: 0.621\n",
            "[epoch:13, batch:  400] batch avergaged loss: 0.648\n",
            "[epoch:13, batch:  600] batch avergaged loss: 0.607\n",
            "[epoch:13, batch:  800] batch avergaged loss: 0.658\n",
            "[epoch:13, batch: 1000] batch avergaged loss: 0.616\n",
            "\n",
            "\n",
            "[epoch:14, batch:  200] batch avergaged loss: 0.568\n",
            "[epoch:14, batch:  400] batch avergaged loss: 0.555\n",
            "[epoch:14, batch:  600] batch avergaged loss: 0.558\n",
            "[epoch:14, batch:  800] batch avergaged loss: 0.587\n",
            "[epoch:14, batch: 1000] batch avergaged loss: 0.607\n",
            "\n",
            "\n",
            "[epoch:15, batch:  200] batch avergaged loss: 0.476\n",
            "[epoch:15, batch:  400] batch avergaged loss: 0.542\n",
            "[epoch:15, batch:  600] batch avergaged loss: 0.558\n",
            "[epoch:15, batch:  800] batch avergaged loss: 0.579\n",
            "[epoch:15, batch: 1000] batch avergaged loss: 0.574\n",
            "\n",
            "\n",
            "[epoch:16, batch:  200] batch avergaged loss: 0.470\n",
            "[epoch:16, batch:  400] batch avergaged loss: 0.515\n",
            "[epoch:16, batch:  600] batch avergaged loss: 0.460\n",
            "[epoch:16, batch:  800] batch avergaged loss: 0.543\n",
            "[epoch:16, batch: 1000] batch avergaged loss: 0.514\n",
            "\n",
            "\n",
            "[epoch:17, batch:  200] batch avergaged loss: 0.408\n",
            "[epoch:17, batch:  400] batch avergaged loss: 0.457\n",
            "[epoch:17, batch:  600] batch avergaged loss: 0.492\n",
            "[epoch:17, batch:  800] batch avergaged loss: 0.470\n",
            "[epoch:17, batch: 1000] batch avergaged loss: 0.505\n",
            "\n",
            "\n",
            "[epoch:18, batch:  200] batch avergaged loss: 0.342\n",
            "[epoch:18, batch:  400] batch avergaged loss: 0.355\n",
            "[epoch:18, batch:  600] batch avergaged loss: 0.405\n",
            "[epoch:18, batch:  800] batch avergaged loss: 0.412\n",
            "[epoch:18, batch: 1000] batch avergaged loss: 0.452\n",
            "\n",
            "\n",
            "[epoch:19, batch:  200] batch avergaged loss: 0.278\n",
            "[epoch:19, batch:  400] batch avergaged loss: 0.368\n",
            "[epoch:19, batch:  600] batch avergaged loss: 0.347\n",
            "[epoch:19, batch:  800] batch avergaged loss: 0.410\n",
            "[epoch:19, batch: 1000] batch avergaged loss: 0.431\n",
            "\n",
            "\n",
            "[epoch:20, batch:  200] batch avergaged loss: 0.287\n",
            "[epoch:20, batch:  400] batch avergaged loss: 0.334\n",
            "[epoch:20, batch:  600] batch avergaged loss: 0.293\n",
            "[epoch:20, batch:  800] batch avergaged loss: 0.335\n",
            "[epoch:20, batch: 1000] batch avergaged loss: 0.343\n",
            "\n",
            "Finished Training\n",
            "\n"
          ],
          "name": "stdout"
        }
      ]
    },
    {
      "cell_type": "markdown",
      "metadata": {
        "id": "p1N1QEhKIlYE",
        "colab_type": "text"
      },
      "source": [
        "### Print to file"
      ]
    },
    {
      "cell_type": "code",
      "metadata": {
        "id": "2jwfvIEJIlqE",
        "colab_type": "code",
        "colab": {}
      },
      "source": [
        "with open(save_dir+'output.txt','a') as f:\n",
        "  for i,loss in enumerate(train_loss):\n",
        "    f.write('Epoch  %d:\\t %0.4f\\n'%(epoch_counter+i, train_loss[i]))\n",
        "f.close()\n",
        "with open(save_dir+'accuracy.txt','w') as f:\n",
        "  f.write('Test Accuracy:\\t %0.4f%%'%(classification_accuracy))\n",
        "f.close()"
      ],
      "execution_count": 0,
      "outputs": []
    },
    {
      "cell_type": "code",
      "metadata": {
        "id": "im_CxIBoz3hH",
        "colab_type": "code",
        "colab": {
          "base_uri": "https://localhost:8080/",
          "height": 395
        },
        "outputId": "d67e6756-6d47-4a9a-ff72-c869c7a334a1"
      },
      "source": [
        "%cat ./gdrive/My\\ Drive/ECE695_DL/HW4/output.txt\n",
        "%cat ./gdrive/My\\ Drive/ECE695_DL/HW4/accuracy.txt"
      ],
      "execution_count": 8,
      "outputs": [
        {
          "output_type": "stream",
          "text": [
            "Epoch  0:\t 0.3759\n",
            "Epoch  1:\t 0.3287\n",
            "Epoch  2:\t 0.2992\n",
            "Epoch  3:\t 0.2807\n",
            "Epoch  4:\t 0.2653\n",
            "Epoch  5:\t 0.2523\n",
            "Epoch  6:\t 0.2362\n",
            "Epoch  7:\t 0.2255\n",
            "Epoch  8:\t 0.2115\n",
            "Epoch  9:\t 0.1969\n",
            "Epoch  10:\t 0.1901\n",
            "Epoch  11:\t 0.1723\n",
            "Epoch  12:\t 0.1591\n",
            "Epoch  13:\t 0.1437\n",
            "Epoch  14:\t 0.1373\n",
            "Epoch  15:\t 0.1260\n",
            "Epoch  16:\t 0.1158\n",
            "Epoch  17:\t 0.0990\n",
            "Epoch  18:\t 0.0910\n",
            "Epoch  19:\t 0.0814\n",
            "Test Accuracy:\t 18.0018%"
          ],
          "name": "stdout"
        }
      ]
    },
    {
      "cell_type": "markdown",
      "metadata": {
        "id": "uLT28vY75V6L",
        "colab_type": "text"
      },
      "source": [
        "### Loss plot\n"
      ]
    },
    {
      "cell_type": "code",
      "metadata": {
        "id": "UX-IfVbo5UY_",
        "colab_type": "code",
        "colab": {
          "base_uri": "https://localhost:8080/",
          "height": 279
        },
        "outputId": "3775ae85-28a9-4979-cc82-8aa2e334ab8a"
      },
      "source": [
        "plt.plot(np.arange(1,epochs+1,1),train_loss)\n",
        "plt.xlabel('epochs')\n",
        "plt.ylabel('Training Loss')\n",
        "plt.show()"
      ],
      "execution_count": 9,
      "outputs": [
        {
          "output_type": "display_data",
          "data": {
            "image/png": "[encoded data removed]",
            "text/plain": [
              "<Figure size 432x288 with 1 Axes>"
            ]
          },
          "metadata": {
            "tags": []
          }
        }
      ]
    }
  ]
}