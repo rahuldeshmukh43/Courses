{
  "nbformat": 4,
  "nbformat_minor": 0,
  "metadata": {
    "colab": {
      "name": "DL_Lab_Instructions.ipynb",
      "provenance": [],
      "collapsed_sections": []
    },
    "kernelspec": {
      "name": "python3",
      "display_name": "Python 3"
    },
    "accelerator": "GPU"
  },
  "cells": [
    {
      "cell_type": "markdown",
      "metadata": {
        "id": "zmwWs4S9cRIn"
      },
      "source": [
        "# ECE 637 Deep Learning Laboratory Instructions\n",
        "\n",
        "**Instructions**\n",
        "This Jupyter notebook document entitled **DL_Lab_Instructions** contains instructions for doing your laboratory exercise. \n",
        "A second Jupyter notebook document entited **DL_Lab_Exercises** contains all the exercises that you will need to perform.\n",
        "\n",
        "As you read each section of this lab, you should try runing the associated code snippets. \n",
        "The colaboratory environment allows you to run code snippets locally by clicking on the play button on the left of the code. This is a wonderful feature that allows you to experiment as you read. You should take advantage of this and experiment and test different ideas, so you can become more familiar with the Python and the Jupyter programing environment. \n",
        "\n",
        "At the end of each sub-section, there will be exercises to perform. \n",
        "You should perform the excercise in the document DL_Lab_Exercises, which will contain all your results. \n",
        "You can then hand in your results by printing the DL_Lab_Exercises document as a pdf with all code and simulation results included."
      ]
    },
    {
      "cell_type": "markdown",
      "metadata": {
        "id": "Zz2T0QYYpwVR"
      },
      "source": [
        "## Section 1: Introduction to Python and Keras\n",
        "\n",
        "This section introduces basic Python semantics. From previous labs, you are already familiar with Matlab programming,  so the lab emphasizes important differences between Python and Matlab semantics.\n",
        "\n",
        "\n"
      ]
    },
    {
      "cell_type": "markdown",
      "metadata": {
        "id": "cvc3e959wWfS"
      },
      "source": [
        "### Basics\n",
        "Python is similar to Matlab in that variables are dynamically created, so there is no need to allocate memory. Moreover, Python variables can hold data of any type. Here are some examples.\n"
      ]
    },
    {
      "cell_type": "code",
      "metadata": {
        "id": "0ULezOydpUaU",
        "colab": {
          "base_uri": "https://localhost:8080/"
        },
        "outputId": "6e3f8f82-b88b-4f33-ab12-00e1da759e51"
      },
      "source": [
        "# Python                                      # Matlab\n",
        "x = 6          # a number (int)               x = 6\n",
        "y = [1, 2, 3]  # a list                       x = [1,2,3]  Note: x here for matlab is a matrix\n",
        "z = 'six'      # or \"six\", a string           x = 'six'\n",
        "x, y, z        # print the items"
      ],
      "execution_count": 1,
      "outputs": [
        {
          "output_type": "execute_result",
          "data": {
            "text/plain": [
              "(6, [1, 2, 3], 'six')"
            ]
          },
          "metadata": {
            "tags": []
          },
          "execution_count": 1
        }
      ]
    },
    {
      "cell_type": "markdown",
      "metadata": {
        "id": "CODfTO3RwvIh"
      },
      "source": [
        "**Important**: A list in Python is different than a matrix in Matlab. A list is just a placeholder for variables of any type. So it is more like a cell array."
      ]
    },
    {
      "cell_type": "code",
      "metadata": {
        "id": "ratuWodmxKbu",
        "colab": {
          "base_uri": "https://localhost:8080/"
        },
        "outputId": "4728da87-46e7-4de8-bc28-d5b595e20913"
      },
      "source": [
        "A = [1, 'one', True, 1+1, 6/9, 60//9]  # create a list\n",
        "A                                      # print the list"
      ],
      "execution_count": 2,
      "outputs": [
        {
          "output_type": "execute_result",
          "data": {
            "text/plain": [
              "[1, 'one', True, 2, 0.6666666666666666, 6]"
            ]
          },
          "metadata": {
            "tags": []
          },
          "execution_count": 2
        }
      ]
    },
    {
      "cell_type": "markdown",
      "metadata": {
        "id": "SoB6QkRaxcrW"
      },
      "source": [
        "In Matlab, if we want to add 1 to every entry in a matrix we do this.\n",
        "\n",
        "```\n",
        "A = [1, 1, 1]\n",
        "A + 1\n",
        "```\n",
        "However, in Python this is not allowed:"
      ]
    },
    {
      "cell_type": "code",
      "metadata": {
        "id": "vWLKMvy3zWey"
      },
      "source": [
        "A = [1, 1, 1]\n",
        "#A + 1            # uncommand this line and execute this block to generate and error"
      ],
      "execution_count": 3,
      "outputs": []
    },
    {
      "cell_type": "markdown",
      "metadata": {
        "id": "MaNfVItFzk8b"
      },
      "source": [
        "The error here is simply because a **list** can only \"add\" with another **list**. \"Add\" here means concatenation."
      ]
    },
    {
      "cell_type": "code",
      "metadata": {
        "id": "RyxC07uD0-sf",
        "colab": {
          "base_uri": "https://localhost:8080/"
        },
        "outputId": "81ef5c70-87df-4bfe-a3f2-561c9ebd4905"
      },
      "source": [
        "A = [1, 1, 1]\n",
        "A + [2]"
      ],
      "execution_count": 4,
      "outputs": [
        {
          "output_type": "execute_result",
          "data": {
            "text/plain": [
              "[1, 1, 1, 2]"
            ]
          },
          "metadata": {
            "tags": []
          },
          "execution_count": 4
        }
      ]
    },
    {
      "cell_type": "markdown",
      "metadata": {
        "id": "tjmI5d-lpMHQ"
      },
      "source": [
        "Also Python is a **0-index** language, which means all indices start at 0 (unlike in Matlab which starts at \"1\")."
      ]
    },
    {
      "cell_type": "code",
      "metadata": {
        "id": "fsHMuM7_qJYW",
        "colab": {
          "base_uri": "https://localhost:8080/"
        },
        "outputId": "8f1c08b1-d1d7-4ea7-fea7-429ccfa264dd"
      },
      "source": [
        "# Python                    # Matlab\n",
        "A = [0, 1, 2, 3, 4]         # A = [0, 1, 2, 3, 4]       create a list/array\n",
        "first = A[0]                # A(1)                      pick the first element   \n",
        "last = A[-1]                # A(end)                    pick the last element\n",
        "first, last"
      ],
      "execution_count": 5,
      "outputs": [
        {
          "output_type": "execute_result",
          "data": {
            "text/plain": [
              "(0, 4)"
            ]
          },
          "metadata": {
            "tags": []
          },
          "execution_count": 5
        }
      ]
    },
    {
      "cell_type": "markdown",
      "metadata": {
        "id": "W9j3Ywnnr1L8"
      },
      "source": [
        "**Important**: Python can have negative indexing. It basically helps to index the array from right to left, starting at \"-1\"."
      ]
    },
    {
      "cell_type": "code",
      "metadata": {
        "id": "-NbJwYDQsqcu",
        "colab": {
          "base_uri": "https://localhost:8080/"
        },
        "outputId": "43d5fe4f-c16e-4736-b434-56b3ef37db04"
      },
      "source": [
        "A = [0, 1, 2, 3, 4]\n",
        "print(A[-1], A[-2], A[-3], A[-4], A[-5])\n",
        "print(A[ 4], A[ 3], A[ 2], A[ 1], A[ 0])"
      ],
      "execution_count": 6,
      "outputs": [
        {
          "output_type": "stream",
          "text": [
            "4 3 2 1 0\n",
            "4 3 2 1 0\n"
          ],
          "name": "stdout"
        }
      ]
    },
    {
      "cell_type": "markdown",
      "metadata": {
        "id": "RfjjcFMonPN_"
      },
      "source": [
        "Lists are just one of the native classes in Python. In fact **everything** in Python is an object of a class and each class comes with it's class functions. You can find the class of an object with the `type` function and you can access the class functions and class attributes with the `.` (period) operator.Here are some examples of that."
      ]
    },
    {
      "cell_type": "code",
      "metadata": {
        "id": "2itIdhdNnxe4",
        "colab": {
          "base_uri": "https://localhost:8080/"
        },
        "outputId": "62e100d4-3b68-4efa-c6cd-ccf381c8802d"
      },
      "source": [
        "a = 'Hello World!'\n",
        "print(type(a))   # string\n",
        "a.find('l')      # class function of str that \n",
        "                 # finds the index of the first 'l'\n",
        "\n",
        "b = a.lower()    # class function of str that \n",
        "                 # makes the string lowercase\n",
        "print(a)\n",
        "print(b)\n",
        "print('Hello again!'.lower())     # yes, even string litrals are objects\n"
      ],
      "execution_count": 7,
      "outputs": [
        {
          "output_type": "stream",
          "text": [
            "<class 'str'>\n",
            "Hello World!\n",
            "hello world!\n",
            "hello again!\n"
          ],
          "name": "stdout"
        }
      ]
    },
    {
      "cell_type": "markdown",
      "metadata": {
        "id": "lr0ViwsbtYJO"
      },
      "source": [
        "The main data classes are **lists**, **tuples**, **dictionaries**, **strings** and **sets**. You should make yourself familiar with the syntax and the main functions associated with these classes."
      ]
    },
    {
      "cell_type": "markdown",
      "metadata": {
        "id": "wvuXB3wDptPI"
      },
      "source": [
        "#### Exercise 1.1:\n",
        "Perform Exercise 1.1 in Jupyter notebook document **DL_Lab_Exercises**.\n",
        "\n",
        "\n",
        "\n",
        "---\n",
        "\n"
      ]
    },
    {
      "cell_type": "markdown",
      "metadata": {
        "id": "IBwocFbxwPEy"
      },
      "source": [
        "\n",
        "### Packages\n",
        "Matlab is great for matrix operations and data visualization. However, in order to perform these actions in Python, you must use associated Python packages. Three commonly used Python packages are:\n",
        "\n",
        "*   Numpy - Matrix processing package\n",
        "*   Scipy - Scientific function package\n",
        "*   Matplotlib - Data visualization package\n",
        "\n",
        "In the following subsection, we will introduce these Python packages and use them to apply a low pass filter to a signal with noisy sinusoidal waves.\n",
        "\n"
      ]
    },
    {
      "cell_type": "markdown",
      "metadata": {
        "id": "vAd5Gpz133AP"
      },
      "source": [
        "\n",
        "When you open a new python environment, the environment itself is empty. If you want to use certain packages, you need to **import** them first. There are several ways that we can import packages:"
      ]
    },
    {
      "cell_type": "code",
      "metadata": {
        "id": "CLeP7bdYpoDu"
      },
      "source": [
        "import numpy as np                     # import the numpy packages and use the shorter name \"np\"\n",
        "import matplotlib.pyplot as plt        # import matplotlib's pyplot package using the alias \"plt\"\n",
        "from scipy import signal               # import the package \"signal\" from scipy"
      ],
      "execution_count": 8,
      "outputs": []
    },
    {
      "cell_type": "markdown",
      "metadata": {
        "id": "YHi9UCVFM6Bm"
      },
      "source": [
        "Let's try to use these three packages to filter a noisy signal.  We will first  generate the input signal using numpy and matplotlib."
      ]
    },
    {
      "cell_type": "code",
      "metadata": {
        "id": "2Qn0cw0OIEEU",
        "colab": {
          "base_uri": "https://localhost:8080/",
          "height": 281
        },
        "outputId": "d47f482f-c2a0-4d1d-cf25-0f18d4c99cc8"
      },
      "source": [
        "# Python Code                          # Matlab Code\n",
        "t = np.linspace(-np.pi, np.pi, 100)    # t = linspace(-pi, pi, 100);\n",
        "f = np.sin(t)                          # f = sin(t);\n",
        "n = np.random.randn(100)*0.1           # n = randn(100,1)*0.1;\n",
        "f_n = f+n                              # f_n = f+n;\n",
        "plt.subplot(2,1,1)                     # subplot(2,1,1)\n",
        "plt.plot(t,f)                          # plot(t, f)\n",
        "plt.title('original')                  # title('original')\n",
        "plt.subplot(2,1,2)                     # subplot(2,1,2)\n",
        "plt.plot(t,f_n)                        # plot(t, f_n)\n",
        "plt.title('noisy')                     # title('noisy')\n",
        "plt.show()"
      ],
      "execution_count": 9,
      "outputs": [
        {
          "output_type": "display_data",
          "data": {
            "image/png": "[encoded data removed]",
            "text/plain": [
              "<Figure size 432x288 with 2 Axes>"
            ]
          },
          "metadata": {
            "tags": [],
            "needs_background": "light"
          }
        }
      ]
    },
    {
      "cell_type": "markdown",
      "metadata": {
        "id": "OO79T5DyNm_t"
      },
      "source": [
        "Apply a median filter with window size 5 to our signal."
      ]
    },
    {
      "cell_type": "code",
      "metadata": {
        "id": "gXzh_dC9JSdY",
        "colab": {
          "base_uri": "https://localhost:8080/",
          "height": 265
        },
        "outputId": "f40a0898-1aee-46c0-f014-b5bb7e94c723"
      },
      "source": [
        "# Python Code\n",
        "y = signal.medfilt(f_n, kernel_size = 5)\n",
        "plt.plot(t, f_n, t, y)\n",
        "plt.legend(('Noisy','Filtered'))\n",
        "plt.show()"
      ],
      "execution_count": 10,
      "outputs": [
        {
          "output_type": "display_data",
          "data": {
            "image/png": "[encoded data removed]",
            "text/plain": [
              "<Figure size 432x288 with 1 Axes>"
            ]
          },
          "metadata": {
            "tags": [],
            "needs_background": "light"
          }
        }
      ]
    },
    {
      "cell_type": "markdown",
      "metadata": {
        "id": "Mm1L4TQXYICL"
      },
      "source": [
        "There also exists Python packages for neural networks and deep learning. Here are some popular packages:\n",
        "\n",
        "*   TensorFlow (Google)\n",
        "*   Pytorch (Facebook)\n",
        "*   Keras (François Chollet)\n",
        "*   Caffe (Berkeley)\n",
        "\n",
        "In this lab, we will use Keras as our deep learning packages."
      ]
    },
    {
      "cell_type": "code",
      "metadata": {
        "id": "VOxgiT22RLQS",
        "colab": {
          "base_uri": "https://localhost:8080/",
          "height": 35
        },
        "outputId": "2279ab2d-97f3-4d7e-fb3e-cd5e49df458e"
      },
      "source": [
        "import keras\n",
        "keras.__version__"
      ],
      "execution_count": 11,
      "outputs": [
        {
          "output_type": "execute_result",
          "data": {
            "application/vnd.google.colaboratory.intrinsic+json": {
              "type": "string"
            },
            "text/plain": [
              "'2.4.3'"
            ]
          },
          "metadata": {
            "tags": []
          },
          "execution_count": 11
        }
      ]
    },
    {
      "cell_type": "markdown",
      "metadata": {
        "id": "Urzw6WEKSmW1"
      },
      "source": [
        "####Exercise 1.2\n",
        "Perform Exercise 1.2 in Jupyter notebook document **DL_Lab_Exercises**.\n",
        "\n",
        "\n",
        "---\n",
        "\n",
        "\n"
      ]
    },
    {
      "cell_type": "markdown",
      "metadata": {
        "id": "4-A43uls066h"
      },
      "source": [
        "## Section 2: Image Classfication using Dense Networks\n",
        "In this section, you will learn how to build and use a fully connected or dense neural network to perform simple classification tasks on images of hand-written digits.\n",
        "To do this, we will use the [MNIST data set](https://en.wikipedia.org/wiki/MNIST_database) that is included with the Keras package.\n",
        "\n",
        "We will do this in four steps:\n",
        "1. Loading data - Here we download the images into numpy arrays.\n",
        "\n",
        "2. Constructing the network - In this step we specify the architecture of the network that we plan to use.\n",
        "\n",
        "3. Training the network - In this step we use an optimization algorithm known as stochastic gradient descent to minimize a loss function of our choosing.\n",
        "\n",
        "4. Testing the network - In this step, we run our test data through the network to determine the accuracy of our classifications."
      ]
    },
    {
      "cell_type": "markdown",
      "metadata": {
        "id": "HeWO5KJX5gNm"
      },
      "source": [
        "### Loading Data\n",
        "\n",
        "In the following section, we will learn how to load data for training and testing into our Keras environment. \n",
        "The following commands download the MNIST data set from the server and put the data in our workspace."
      ]
    },
    {
      "cell_type": "code",
      "metadata": {
        "id": "24qn8jFj32DV",
        "colab": {
          "base_uri": "https://localhost:8080/"
        },
        "outputId": "cb8b777c-1779-41ec-e331-66a324d1cfe1"
      },
      "source": [
        "import keras\n",
        "from keras.datasets import mnist\n",
        "(train_images, train_labels), (test_images, test_labels) = mnist.load_data()\n",
        "\n",
        "print(type(train_images))\n",
        "print(type(train_images[0,0,0]))"
      ],
      "execution_count": 12,
      "outputs": [
        {
          "output_type": "stream",
          "text": [
            "Downloading data from https://storage.googleapis.com/tensorflow/tf-keras-datasets/mnist.npz\n",
            "11493376/11490434 [==============================] - 0s 0us/step\n",
            "<class 'numpy.ndarray'>\n",
            "<class 'numpy.uint8'>\n"
          ],
          "name": "stdout"
        }
      ]
    },
    {
      "cell_type": "markdown",
      "metadata": {
        "id": "d4ojXtFy6XPj"
      },
      "source": [
        "The MNIST data set contains two arrays, \"train_images\" and \"test_images\". \n",
        "The training data will be used to train our algorithms.\n",
        "However, in order to access the accuracy of our resulting classifier, we will need a separate set of testing images.\n",
        "\n",
        "The training data has 60,000 grayscale images of size 28x28 while the testing data has 10,000 that are stored as numpy ND-arrays of `unint8` integers."
      ]
    },
    {
      "cell_type": "code",
      "metadata": {
        "id": "j6SPSUvf60Vq",
        "colab": {
          "base_uri": "https://localhost:8080/"
        },
        "outputId": "4d36bc02-6751-43be-d64b-97ac3602b786"
      },
      "source": [
        "print(f'Training Data Shape:   {train_images.shape}')          # This is a so-called f-string\n",
        "print(f'Testing Data Shape:    {test_images.shape}')"
      ],
      "execution_count": 13,
      "outputs": [
        {
          "output_type": "stream",
          "text": [
            "Training Data Shape:   (60000, 28, 28)\n",
            "Testing Data Shape:    (10000, 28, 28)\n"
          ],
          "name": "stdout"
        }
      ]
    },
    {
      "cell_type": "markdown",
      "metadata": {
        "id": "4mvNPhfsT4Ka"
      },
      "source": [
        "It is often useful to reshape the data into conventional format with dimenstions (height, width, channels). Since these are gray scale images, each image image only has a single channel (as opposed to 3 with RGB images)."
      ]
    },
    {
      "cell_type": "code",
      "metadata": {
        "id": "ArZvuIDOTEI6",
        "colab": {
          "base_uri": "https://localhost:8080/"
        },
        "outputId": "b472184c-8176-460d-998d-d665fa4b4b47"
      },
      "source": [
        "train_images = train_images.reshape((60000, 28, 28, 1))\n",
        "test_images = test_images.reshape((10000, 28, 28, 1))\n",
        "\n",
        "print(f'Training Data Shape:   {train_images.shape}')\n",
        "print(f'Testing Data Shape:    {test_images.shape}')\n"
      ],
      "execution_count": 14,
      "outputs": [
        {
          "output_type": "stream",
          "text": [
            "Training Data Shape:   (60000, 28, 28, 1)\n",
            "Testing Data Shape:    (10000, 28, 28, 1)\n"
          ],
          "name": "stdout"
        }
      ]
    },
    {
      "cell_type": "markdown",
      "metadata": {
        "id": "Wka6pQXG7AyX"
      },
      "source": [
        "The following example shows how to visualize the first image in the training set using the \"imshow\" function in the matplotlib package. \n"
      ]
    },
    {
      "cell_type": "code",
      "metadata": {
        "id": "UbiCxque668k",
        "colab": {
          "base_uri": "https://localhost:8080/",
          "height": 265
        },
        "outputId": "b33a96a4-ede3-476e-e6b5-dc1f8e073bf6"
      },
      "source": [
        "image = train_images[0,:,:,0]     # Select first image\n",
        "plt.imshow(image, cmap='gray')  # Display as a gray scale image\n",
        "ax = plt.gca()                  # Get handle to image\n",
        "ax.grid(b=None)                 # Turn off grid\n",
        "plt.show()                      # Show image"
      ],
      "execution_count": 15,
      "outputs": [
        {
          "output_type": "display_data",
          "data": {
            "image/png": "[encoded data removed]",
            "text/plain": [
              "<Figure size 432x288 with 1 Axes>"
            ]
          },
          "metadata": {
            "tags": [],
            "needs_background": "light"
          }
        }
      ]
    },
    {
      "cell_type": "markdown",
      "metadata": {
        "id": "KW89YaYkbFm3"
      },
      "source": [
        "The MNIST data set also contains two arrays, \"train_labels\" and \"test_labels\". \n",
        "These arrays contain the \"ground truth\" labels for each of the digit images. \n",
        "Ground truth will be needed to both perform \"supervised\" training of the classifier, and then also to evaluate the accuracy of the classifier on the testing data. \n",
        "\n",
        "The following commands list the sizes of the two training arrays and print out the value of the first training label."
      ]
    },
    {
      "cell_type": "code",
      "metadata": {
        "id": "s13ZRICDbT4P",
        "colab": {
          "base_uri": "https://localhost:8080/"
        },
        "outputId": "ab1b2f97-e2a6-4825-884b-bec1f7f093ac"
      },
      "source": [
        "print(f'Training Labels Shape: {train_labels.shape}')\n",
        "print(f'Testing Labels Shape:  {test_labels.shape}')"
      ],
      "execution_count": 16,
      "outputs": [
        {
          "output_type": "stream",
          "text": [
            "Training Labels Shape: (60000,)\n",
            "Testing Labels Shape:  (10000,)\n"
          ],
          "name": "stdout"
        }
      ]
    },
    {
      "cell_type": "markdown",
      "metadata": {
        "id": "38bE6Y80bet7"
      },
      "source": [
        "Notice that the training labels array has length 60,000, and the testing label array has length 10,000. This makes sense since there should be one label for each image. Each entry in the array contains an integer corresponding the handwritten digit. \n",
        "\n",
        "\n",
        "A quick sanity check on of the first training label shows that the first image is correctly labled with \"5\"."
      ]
    },
    {
      "cell_type": "code",
      "metadata": {
        "id": "mbbymQnJag6X",
        "colab": {
          "base_uri": "https://localhost:8080/"
        },
        "outputId": "23d5e942-03ff-4bb4-8ca3-d38bfc9005a8"
      },
      "source": [
        "print(f'First label: {train_labels[0]}')"
      ],
      "execution_count": 17,
      "outputs": [
        {
          "output_type": "stream",
          "text": [
            "First label: 5\n"
          ],
          "name": "stdout"
        }
      ]
    },
    {
      "cell_type": "markdown",
      "metadata": {
        "id": "lDNH0PeicPH5"
      },
      "source": [
        "#### Exercise 2.1\n",
        "\n",
        "Perform Exercise 2.1 in Jupyter notebook document DL_Lab_Exercises.\n",
        "\n",
        "\n",
        "\n",
        "---\n"
      ]
    },
    {
      "cell_type": "markdown",
      "metadata": {
        "id": "Mn0yW37Mdt9S"
      },
      "source": [
        "### Constructing the Network \n",
        "Deep neural networks typically consist of successive processing layers, with each layer formed by a linear transformation followed by a non-linear operation.\n",
        "In this section, each layer of our network will be formed by a fully connected layer (Dense). \n",
        "This approach is simple, but it tends to result in networks that require a great deal of computation and many parameters to optimize.\n",
        "\n",
        "Here is how we define a sequential model from the [**keras.models**](https://keras.io/models/about-keras-models/) package and how we add dense layers from the [**keras.layers**](https://keras.io/layers/core/) package."
      ]
    },
    {
      "cell_type": "code",
      "metadata": {
        "id": "Ls_CowKFgIJC"
      },
      "source": [
        "from keras import models\n",
        "from keras import layers\n",
        "\n",
        "network = models.Sequential()\n",
        "network.add(layers.Flatten(input_shape=(28, 28, 1)))\n",
        "network.add(layers.Dense(512, activation='relu'))\n",
        "network.add(layers.Dense(10, activation='softmax'))"
      ],
      "execution_count": 18,
      "outputs": []
    },
    {
      "cell_type": "markdown",
      "metadata": {
        "id": "HbM6ys-Gl05-"
      },
      "source": [
        "\n",
        "Let us go through this squence of commands in order to understand what it does.\n",
        "\n",
        "```\n",
        "network = models.Sequential()\n",
        "```\n",
        "* The `Sequential` function creates a placeholder named \"network\" for the newly created network. \n",
        "Once this is done, then we can use the following comand to sequentially add layers to the model.\n",
        "\n",
        "```\n",
        "network.add(layers.Flatten(input_shape=(28, 28, 1)))\n",
        "```\n",
        "*  `network.add()` - This command adds a layer to the model.\n",
        "*  `input_shape=(28,28,1)` - This specifies that the input images will have size (28x28x1). This parameter only needs to be specified for the first layer. Subsequent layers infer the proper input size automatically.\n",
        "* `Flatten` - Since we are using a fully connected layer first, we reshape the input tensor into a 1-D vector\n",
        "\n",
        "```\n",
        "network.add(layers.Dense(512, activation='relu'))\n",
        "```\n",
        "*  `layers.Dense()` - This command specifies that the layer will be a fully connected or \"dense\" linear network. \n",
        "*  `512` - The first argument specifies that the there will be 512 outputs to the first first layer of the network.\n",
        "*  `activation='relu'` - This specifies that the non-linear activation mapping will be a rectifying linear unit commonly known as a ReLU. This is a simple and effective choice.\n",
        "\n",
        "The next following command adds a second layer to the network:\n",
        "\n",
        "```\n",
        "network.add(layers.Dense(10, activation='softmax'))\n",
        "```\n",
        "The output dimension in 10 and the activation function for this layer is the \"softmax\" function which is a non-linear operator that converts the output into a pseudo probability distribution.\n",
        "\n",
        "Finally, we can print a summary of our neural network we have constructed by using the command `network.summary()` as shown below. The dimenstions that are of size `None` correspond to the batch size. This also shows how many trainable parameters are in the network and where they are located.\n"
      ]
    },
    {
      "cell_type": "code",
      "metadata": {
        "id": "rEQhCfu8cr7f",
        "colab": {
          "base_uri": "https://localhost:8080/"
        },
        "outputId": "bac803ad-37ff-4298-bd66-3824706abb05"
      },
      "source": [
        "network.summary()"
      ],
      "execution_count": 19,
      "outputs": [
        {
          "output_type": "stream",
          "text": [
            "Model: \"sequential\"\n",
            "_________________________________________________________________\n",
            "Layer (type)                 Output Shape              Param #   \n",
            "=================================================================\n",
            "flatten (Flatten)            (None, 784)               0         \n",
            "_________________________________________________________________\n",
            "dense (Dense)                (None, 512)               401920    \n",
            "_________________________________________________________________\n",
            "dense_1 (Dense)              (None, 10)                5130      \n",
            "=================================================================\n",
            "Total params: 407,050\n",
            "Trainable params: 407,050\n",
            "Non-trainable params: 0\n",
            "_________________________________________________________________\n"
          ],
          "name": "stdout"
        }
      ]
    },
    {
      "cell_type": "markdown",
      "metadata": {
        "id": "dhPFdwUqWaJk"
      },
      "source": [
        "\n",
        "\n",
        "---\n",
        "\n"
      ]
    },
    {
      "cell_type": "markdown",
      "metadata": {
        "id": "m8HGUkEAL_6B"
      },
      "source": [
        "### Training the Network\n",
        "\n",
        "**Optimization:** \n",
        "In order to train the network, we will run an optimization engine that minimizes a loss function that we choose. \n",
        "The key to optimization of neural networks is an algorithm called back propogation that computes the gradient of the loss function with repect to the network parameters or weights. \n",
        "The following command sets up the optimizer and sets its parameters."
      ]
    },
    {
      "cell_type": "code",
      "metadata": {
        "id": "dYlVocAUPgPs"
      },
      "source": [
        "network.compile(optimizer='rmsprop', loss='categorical_crossentropy', metrics=['accuracy'])"
      ],
      "execution_count": 20,
      "outputs": []
    },
    {
      "cell_type": "markdown",
      "metadata": {
        "id": "a7ht-x9-PlVo"
      },
      "source": [
        "Here the optimizer we use is called \"rmsprop\", and the loss function is called \"categorical crossentropy\".\n",
        "The \"metrics\" parameter allows us to access values during the iterations of the optimization.\n",
        "The details of this optimization algorithm are complex and go beyond the scope of this lab. \n",
        "However, the beauty of Keras is that it allows you to build and train neural networks without having to deal with the details of this very important optimization process.\n",
        "If you are interested in more details, you will find the following links helpful. ([Optimizer](http://ruder.io/optimizing-gradient-descent/), [Losses](https://keras.io/losses/)). \n",
        "\n",
        "**Data preprocessing:**\n",
        "\n",
        "Since the weights in the neural network are initialized near zero, we also want to rescale the data into the range from 0 to 1 (i.e., roughly the same order of magnitude of the weights).  \n",
        "More information about initialization of weights can be found [here](https://towardsdatascience.com/random-initialization-for-neural-networks-a-thing-of-the-past-bfcdd806bf9e)."
      ]
    },
    {
      "cell_type": "code",
      "metadata": {
        "id": "gOsGFXpZdeae"
      },
      "source": [
        "train_images_nor = train_images.astype('float32') / 255\n",
        "test_images_nor = test_images.astype('float32') / 255"
      ],
      "execution_count": 21,
      "outputs": []
    },
    {
      "cell_type": "markdown",
      "metadata": {
        "id": "ElsB-YbCU-UW"
      },
      "source": [
        "Since we are using \"categorical_crossentropy\" as our loss function, we will also need to convert our labels into \"categorical form\".\n",
        "In categorical each label is a vector of length 10, with a single 1 in the position associated with the correct class. \n",
        "This is much less effecient to store, but it offers important advantages for training the network."
      ]
    },
    {
      "cell_type": "code",
      "metadata": {
        "id": "w36wiG96VWtY",
        "colab": {
          "base_uri": "https://localhost:8080/"
        },
        "outputId": "72573dfa-360d-473d-e9f1-76b50127da92"
      },
      "source": [
        "from keras.utils import to_categorical\n",
        "\n",
        "train_labels_cat = to_categorical(train_labels)\n",
        "test_labels_cat = to_categorical(test_labels)\n",
        "\n",
        "print(f'Training Labels Shape: {train_labels_cat.shape}')\n",
        "print(f'Testing Labels Shape:  {test_labels_cat.shape}')"
      ],
      "execution_count": 22,
      "outputs": [
        {
          "output_type": "stream",
          "text": [
            "Training Labels Shape: (60000, 10)\n",
            "Testing Labels Shape:  (10000, 10)\n"
          ],
          "name": "stdout"
        }
      ]
    },
    {
      "cell_type": "markdown",
      "metadata": {
        "id": "BBuZTtYXZKtA"
      },
      "source": [
        "Each lable is now encoded as a 10-dimensional 1-hot vector. From above the first label, \"5\", is now encoded as follows:"
      ]
    },
    {
      "cell_type": "code",
      "metadata": {
        "id": "tMmj0-1SWaxT",
        "colab": {
          "base_uri": "https://localhost:8080/"
        },
        "outputId": "54804b8e-ecc5-4437-9f81-0d4b0679b762"
      },
      "source": [
        "print(f'train_labels_cat[0]:  {train_labels_cat[0]}')"
      ],
      "execution_count": 23,
      "outputs": [
        {
          "output_type": "stream",
          "text": [
            "train_labels_cat[0]:  [0. 0. 0. 0. 0. 1. 0. 0. 0. 0.]\n"
          ],
          "name": "stdout"
        }
      ]
    },
    {
      "cell_type": "markdown",
      "metadata": {
        "id": "YRRTWoArW_k8"
      },
      "source": [
        "**Training:**\n",
        "The `fit` command can next be used to run the optimization algorithm and train the network. \n",
        "Key parameters are defined below:\n",
        "*  `train_images_nor` - This is the input data array used for training the network.\n",
        "*  `train_labels_cat` - These are the labels used for training.\n",
        "*  `epochs=5` - This specifies that the algorithm should run 5 epochs, where a single epoch is defined as one full pass through all the training data.\n",
        "*  `batch_size=128` - This specifies that data is processed in batches of 128 training images. With each batch, a gradient update is performed for the network parameters."
      ]
    },
    {
      "cell_type": "code",
      "metadata": {
        "id": "2Re81BI2Zts5",
        "colab": {
          "base_uri": "https://localhost:8080/"
        },
        "outputId": "cc1ab4d0-f7fa-48ee-d983-338f5411e874"
      },
      "source": [
        "hist = network.fit(train_images_nor, train_labels_cat, epochs=5, batch_size=128)"
      ],
      "execution_count": 24,
      "outputs": [
        {
          "output_type": "stream",
          "text": [
            "Epoch 1/5\n",
            "469/469 [==============================] - 4s 3ms/step - loss: 0.4326 - accuracy: 0.8728\n",
            "Epoch 2/5\n",
            "469/469 [==============================] - 1s 3ms/step - loss: 0.1118 - accuracy: 0.9661\n",
            "Epoch 3/5\n",
            "469/469 [==============================] - 1s 3ms/step - loss: 0.0716 - accuracy: 0.9790\n",
            "Epoch 4/5\n",
            "469/469 [==============================] - 1s 3ms/step - loss: 0.0474 - accuracy: 0.9857\n",
            "Epoch 5/5\n",
            "469/469 [==============================] - 1s 3ms/step - loss: 0.0345 - accuracy: 0.9903\n"
          ],
          "name": "stdout"
        }
      ]
    },
    {
      "cell_type": "markdown",
      "metadata": {
        "id": "L-5x_ui_dONV"
      },
      "source": [
        "The optimization algorithm prints out the value of loss as well as the accuracy of the network immediately after each epoch during train. \n",
        "Notice that the final accuracy is about 99% after 5 epochs of training, which seems quite good. \n",
        "However, it isn't clear if this result can be trusted since the network was provided the correct classes in the training process.\n",
        "\n",
        "In order to better access the networks performance, we next run it on the new testing data to see its accuracy.\n",
        "This step, which is often called \"inference\", is run with the the network parameters that we learned from the training step."
      ]
    },
    {
      "cell_type": "code",
      "metadata": {
        "id": "XfNNywxrdQ7F",
        "colab": {
          "base_uri": "https://localhost:8080/"
        },
        "outputId": "0c426008-e6ba-4b5c-9f60-589281d6e023"
      },
      "source": [
        "test_loss, test_acc = network.evaluate(test_images_nor, test_labels_cat)\n",
        "print('test_accuracy:', test_acc)"
      ],
      "execution_count": 25,
      "outputs": [
        {
          "output_type": "stream",
          "text": [
            "313/313 [==============================] - 1s 2ms/step - loss: 0.0670 - accuracy: 0.9811\n",
            "test_accuracy: 0.9811000227928162\n"
          ],
          "name": "stdout"
        }
      ]
    },
    {
      "cell_type": "markdown",
      "metadata": {
        "id": "pTv7u21ueq6j"
      },
      "source": [
        "The accuracy on the testing data only about 98% which is lower what we obtained on the training data, but still relatively good considering that the network had not yet seen the test images.\n",
        "In general, the accuracy on the training data is higher than accuracy on the testing data.\n",
        "This is because the network will tend to \"overfit\" to the training data especially when the number of training examples is low.\n"
      ]
    },
    {
      "cell_type": "markdown",
      "metadata": {
        "id": "ZN_VlmAceZR8"
      },
      "source": [
        "#### Exercise 2.2\n",
        "\n",
        "Perform Exercise 2.2 in Jupyter notebook document DL_Lab_Exercises.\n"
      ]
    },
    {
      "cell_type": "markdown",
      "metadata": {
        "id": "tBU4Q_BHfE4x"
      },
      "source": [
        "#### Exercise 2.3\n",
        "Perform Exercise 2.3 in Jupyter notebook document DL_Lab_Exercises.\n",
        "\n",
        "\n",
        "---\n",
        "\n",
        "\n",
        "\n"
      ]
    },
    {
      "cell_type": "markdown",
      "metadata": {
        "id": "au5xs64ogXkT"
      },
      "source": [
        "## Section 3: Image Classification using Convolutional Neural Networks (CNN)\n",
        "\n",
        "In this section, we will learn how to implement a convolutional neural network (CNN). \n",
        "CNN's have the advantage that they can dramatically reduce the number of parameters and the computation relative to dense networks. \n",
        "This makes it practical to implement deep neural networks containing many layers, which have been demonstrated to greatly improve accurcy in tasks such as classification. \n",
        "\n",
        "The code for a CNN is similar to that for a dense network. We first need to import the Keras package and download the MINIST data just like before:"
      ]
    },
    {
      "cell_type": "code",
      "metadata": {
        "id": "HdJPx1QEu34s"
      },
      "source": [
        "from keras.datasets import mnist\n",
        "from keras.utils import to_categorical\n",
        "\n",
        "(train_images, train_labels), (test_images, test_labels) = mnist.load_data()\n",
        "\n",
        "train_images = train_images.reshape((60000, 28, 28, 1))\n",
        "train_images_nor = train_images.astype('float32') / 255\n",
        "test_images = test_images.reshape((10000, 28, 28, 1))\n",
        "test_images_nor = test_images.astype('float32') / 255\n",
        "\n",
        "train_labels_cat = to_categorical(train_labels)\n",
        "test_labels_cat = to_categorical(test_labels)\n"
      ],
      "execution_count": 26,
      "outputs": []
    },
    {
      "cell_type": "markdown",
      "metadata": {
        "id": "MCSoNs1TxHZ7"
      },
      "source": [
        "Next we will need to define the core structure of the CNN by using the sequential model to add layers to the network.\n",
        "The layers of our CNN are organized into two distinct sections corresponding to the feature extraction and feature classification.\n",
        "\n",
        "The **feature extraction** section consists of convolution and pooling layers that are designed to extract local features from the images that will be used in classification.\n",
        "The maxpooling operations are used in order to reduce the dimension of the signal, while through the non-linear max( ) operation the most dominant features can permiate.\n",
        "\n",
        "The **classification section** consists of dense layers used to compute the final classification of the image.\n",
        "The dense layers are practical to use at this point because the dimensionality of the images has been reduced significantly. \n",
        "Finally, the softmax operation is used in the final layer in order to create an output that can be interpreted as a probability distribution over the possible classes.\n",
        "\n",
        "The code below implements such a network using a total of 4 full layers."
      ]
    },
    {
      "cell_type": "code",
      "metadata": {
        "id": "TU6tZpBbcUP6",
        "colab": {
          "base_uri": "https://localhost:8080/"
        },
        "outputId": "94373acf-2aaa-4bba-eb71-b72669ca1a31"
      },
      "source": [
        "from keras import layers\n",
        "from keras import models\n",
        "\n",
        "model = models.Sequential()\n",
        "# ---- Feature extraction section\n",
        "# First Layer\n",
        "model.add(layers.Conv2D(16, (3, 3), activation='relu', input_shape=(28, 28, 1)))\n",
        "model.add(layers.MaxPooling2D((2, 2)))\n",
        "# Second Layer\n",
        "model.add(layers.Conv2D(32, (3, 3), activation='relu'))\n",
        "model.add(layers.MaxPooling2D((2, 2)))\n",
        "\n",
        "# ---- Classification section\n",
        "# Rearrange the data\n",
        "model.add(layers.Flatten())\n",
        "# Third Layer\n",
        "model.add(layers.Dense(64, activation='relu'))\n",
        "# Fourth Layer\n",
        "model.add(layers.Dense(10, activation='softmax'))\n",
        "\n",
        "model.summary()"
      ],
      "execution_count": 27,
      "outputs": [
        {
          "output_type": "stream",
          "text": [
            "Model: \"sequential_1\"\n",
            "_________________________________________________________________\n",
            "Layer (type)                 Output Shape              Param #   \n",
            "=================================================================\n",
            "conv2d (Conv2D)              (None, 26, 26, 16)        160       \n",
            "_________________________________________________________________\n",
            "max_pooling2d (MaxPooling2D) (None, 13, 13, 16)        0         \n",
            "_________________________________________________________________\n",
            "conv2d_1 (Conv2D)            (None, 11, 11, 32)        4640      \n",
            "_________________________________________________________________\n",
            "max_pooling2d_1 (MaxPooling2 (None, 5, 5, 32)          0         \n",
            "_________________________________________________________________\n",
            "flatten_1 (Flatten)          (None, 800)               0         \n",
            "_________________________________________________________________\n",
            "dense_2 (Dense)              (None, 64)                51264     \n",
            "_________________________________________________________________\n",
            "dense_3 (Dense)              (None, 10)                650       \n",
            "=================================================================\n",
            "Total params: 56,714\n",
            "Trainable params: 56,714\n",
            "Non-trainable params: 0\n",
            "_________________________________________________________________\n"
          ],
          "name": "stdout"
        }
      ]
    },
    {
      "cell_type": "markdown",
      "metadata": {
        "id": "1wRFyoicn-gL"
      },
      "source": [
        "1.\n",
        "* In the first layer we are feeding in images of size 28x28x1 which is specified by the `input_shape` argument. This is different than with the fully connected networks above where the images were flattened into 1D vectors of length 784. CNNs work on images in their usual 3D array representation, where the dimenstions are width, height and (color) cannel.\n",
        "* The number of feature maps is set to 16 and the kernel size is 3x3. That means that the input is being convolved with 16 different trainable 3x3 kernels each yielding a different feature map.\n",
        "* The max-pooling layer defines a 2D pooling operation. For each 2x2 window in the input the maximum activation is being permeated.\n",
        "\n",
        "2.\n",
        "* The second layer is similar to the first one. After these two layers the max-pooling (and boundary cropping) reduce the feature map sizes significantly from 28x28 to 13x13 and finally to 5x5, while the number of maps is being grown from 1 to 16 and finally to 32. \n",
        "\n",
        "3.\n",
        "* In the third layer we transition to a dense network. Here the `layers.Flatten` command flattens the tensors so that they can be fed into the dense layers similar to the fully connected networks that we looked at in the previous section.\n",
        "\n",
        "4.\n",
        "* In the forth layer, again, we map the activations to a pseudo probability density using a dense layer and a soft-max non-linearitly.\n"
      ]
    },
    {
      "cell_type": "markdown",
      "metadata": {
        "id": "WPFnSLGH1tQX"
      },
      "source": [
        "Next we compile the model and train it with the `model.fit` command the same way as in the previous section."
      ]
    },
    {
      "cell_type": "code",
      "metadata": {
        "id": "ta3H6KkExNQf",
        "colab": {
          "base_uri": "https://localhost:8080/"
        },
        "outputId": "702791ec-3a2f-470d-c0f5-591527a5f3fd"
      },
      "source": [
        "model.compile(optimizer='rmsprop',\n",
        "              loss='categorical_crossentropy',\n",
        "              metrics=['accuracy'])\n",
        "\n",
        "model.fit(train_images_nor, train_labels_cat, epochs=5, batch_size=128)\n",
        "\n",
        "test_loss, test_acc = model.evaluate(test_images_nor, test_labels_cat)\n",
        "print('test_acc:', test_acc)"
      ],
      "execution_count": 28,
      "outputs": [
        {
          "output_type": "stream",
          "text": [
            "Epoch 1/5\n",
            "469/469 [==============================] - 32s 4ms/step - loss: 0.5838 - accuracy: 0.8277\n",
            "Epoch 2/5\n",
            "469/469 [==============================] - 2s 4ms/step - loss: 0.0844 - accuracy: 0.9736\n",
            "Epoch 3/5\n",
            "469/469 [==============================] - 2s 4ms/step - loss: 0.0555 - accuracy: 0.9825\n",
            "Epoch 4/5\n",
            "469/469 [==============================] - 2s 4ms/step - loss: 0.0420 - accuracy: 0.9871\n",
            "Epoch 5/5\n",
            "469/469 [==============================] - 2s 4ms/step - loss: 0.0328 - accuracy: 0.9899\n",
            "313/313 [==============================] - 1s 2ms/step - loss: 0.0369 - accuracy: 0.9882\n",
            "test_acc: 0.9882000088691711\n"
          ],
          "name": "stdout"
        }
      ]
    },
    {
      "cell_type": "markdown",
      "metadata": {
        "id": "bw1kW1AXEBfL"
      },
      "source": [
        "This time the training accuracy is about 99.5% and the testing accuracy is about 99%. This is higher than with the fully connected network in the previous section, which was about 98% in testing. However, note that surprisingly the number of parameters in this CNN is smaller, too. The fully connected network has 407,050 parameters, while the CNN only has 56,714.\n",
        "\n",
        "This is one of the reasons why convolutional neural network are so popular in image processing applications. \n",
        "They can dramatically reduce the number of parameters that are being used in the neural network, while achieveing a high accuracy. \n",
        "\n",
        "These observations show valuable benefits of CNNs. Networks with fewer parameters are generally less likely to overfit and can be more time and memory efficient.\n"
      ]
    },
    {
      "cell_type": "markdown",
      "metadata": {
        "id": "iPwwPc6F7Xuj"
      },
      "source": [
        "#### Exercise 3.1\n",
        "Perform Exercise 3.1 in Jupyter notebook document DL_Lab_Exercises.\n",
        "\n",
        "\n",
        "---\n",
        "\n"
      ]
    },
    {
      "cell_type": "markdown",
      "metadata": {
        "id": "EEUQI9By8eve"
      },
      "source": [
        "##Section 4: Autoencoders\n",
        "\n",
        "Autoencoders are a general class of neural networks that consist of two components: an encoder and a decoder.\n",
        "The encoder takes the image and encodes it into a low dimensional vector representation. \n",
        "The decoder then takes the vector and decompresses it into something close to the original image.\n",
        "Autoencoders have a variety of useful applications including denoising of images.\n",
        "Moreover, they are just cool because they provide a mechanism to represent complex image content as low dimensional vectors.\n",
        "\n",
        "Another important feature of autoencoders is that they use unsupervised training. \n",
        "In other words, they can be trained without using the training labels.\n",
        "This is important because in many cases it may be difficult to obtain labeled training data or ground truth. \n",
        "\n",
        "In this section, we will learn how to implement a simple autoencoder using a CNN. "
      ]
    },
    {
      "cell_type": "markdown",
      "metadata": {
        "id": "0sZ1JGLBnK3B"
      },
      "source": [
        "### Simple autoencoders\n",
        "We will first implement a simple autoencoder consisting of an encoder and decoder each formed by one dense layer. \n",
        "\n",
        "In order to initialize our program, we start by importing the required packages, downloading the data, reshaping the data to fit in a dense network, and then normlizing the data to the range of [0, 1]."
      ]
    },
    {
      "cell_type": "code",
      "metadata": {
        "id": "qB0doBxN6QCU"
      },
      "source": [
        "from keras.datasets import mnist\n",
        "from keras.utils import to_categorical\n",
        "\n",
        "(train_images, train_labels), (test_images, test_labels) = mnist.load_data()\n",
        "\n",
        "train_images = train_images.reshape((60000, 28, 28, 1))\n",
        "train_images_nor = train_images.astype('float32') / 255\n",
        "test_images = test_images.reshape((10000, 28, 28, 1))\n",
        "test_images_nor = test_images.astype('float32') / 255\n",
        "\n",
        "train_labels_cat = to_categorical(train_labels)\n",
        "test_labels_cat = to_categorical(test_labels)"
      ],
      "execution_count": 29,
      "outputs": []
    },
    {
      "cell_type": "markdown",
      "metadata": {
        "id": "d0gCGQQLrp3I"
      },
      "source": [
        "The following commands construct a simple autoencoder with an encoding dimension of `encoding_dim`.\n",
        "This means that the images, in this case hand written digits, are represented with high fidelily by a `encoding_dim` dimensional vector which is a lower dimensional space than the original images. \n",
        "Both the encoder and decoder are formed by a dense layer.\n",
        "However, the encoder uses a ReLU and then decoder uses a sigmoid. \n",
        "The sigmoid is used for the output because it tends to be able to represent a continuously valued image more accurately, but at the cost of slightly greater complexity."
      ]
    },
    {
      "cell_type": "code",
      "metadata": {
        "id": "U7TyP1oZfLNP"
      },
      "source": [
        "encoding_dim = 32\n",
        "input_dim = train_images_nor.shape[1:]\n",
        "\n",
        "# define the encoder layers\n",
        "encoder = models.Sequential()\n",
        "encoder.add(layers.Flatten(input_shape=input_dim))\n",
        "encoder.add(layers.Dense(encoding_dim, activation='relu'))\n",
        "\n",
        "# define the decoder layers\n",
        "decoder = models.Sequential()\n",
        "decoder.add(layers.Dense(input_dim[0]*input_dim[1]*input_dim[2], activation='sigmoid'))\n",
        "decoder.add(layers.Reshape(input_dim))\n",
        "\n",
        "# concatenate the encoder and decoder\n",
        "autoencoder = models.Sequential()\n",
        "autoencoder.add(encoder)\n",
        "autoencoder.add(decoder)"
      ],
      "execution_count": 30,
      "outputs": []
    },
    {
      "cell_type": "markdown",
      "metadata": {
        "id": "r-X9cYPpOJLK"
      },
      "source": [
        "The following comands prints out the structure of the resulting network for the encoder, the decoder, and the complete autoencoder."
      ]
    },
    {
      "cell_type": "code",
      "metadata": {
        "id": "X7IOCZuhODyb",
        "colab": {
          "base_uri": "https://localhost:8080/"
        },
        "outputId": "4cb9086e-0e65-44ac-aee0-7a5dd5927750"
      },
      "source": [
        "# print out the format of the encoder and decoder\n",
        "encoder.summary()\n",
        "decoder.summary()\n",
        "autoencoder.summary()"
      ],
      "execution_count": 31,
      "outputs": [
        {
          "output_type": "stream",
          "text": [
            "Model: \"sequential_2\"\n",
            "_________________________________________________________________\n",
            "Layer (type)                 Output Shape              Param #   \n",
            "=================================================================\n",
            "flatten_2 (Flatten)          (None, 784)               0         \n",
            "_________________________________________________________________\n",
            "dense_4 (Dense)              (None, 32)                25120     \n",
            "=================================================================\n",
            "Total params: 25,120\n",
            "Trainable params: 25,120\n",
            "Non-trainable params: 0\n",
            "_________________________________________________________________\n",
            "Model: \"sequential_3\"\n",
            "_________________________________________________________________\n",
            "Layer (type)                 Output Shape              Param #   \n",
            "=================================================================\n",
            "dense_5 (Dense)              (None, 784)               25872     \n",
            "_________________________________________________________________\n",
            "reshape (Reshape)            (None, 28, 28, 1)         0         \n",
            "=================================================================\n",
            "Total params: 25,872\n",
            "Trainable params: 25,872\n",
            "Non-trainable params: 0\n",
            "_________________________________________________________________\n",
            "Model: \"sequential_4\"\n",
            "_________________________________________________________________\n",
            "Layer (type)                 Output Shape              Param #   \n",
            "=================================================================\n",
            "sequential_2 (Sequential)    (None, 32)                25120     \n",
            "_________________________________________________________________\n",
            "sequential_3 (Sequential)    (None, 28, 28, 1)         25872     \n",
            "=================================================================\n",
            "Total params: 50,992\n",
            "Trainable params: 50,992\n",
            "Non-trainable params: 0\n",
            "_________________________________________________________________\n"
          ],
          "name": "stdout"
        }
      ]
    },
    {
      "cell_type": "markdown",
      "metadata": {
        "id": "KWStdtVvx2tJ"
      },
      "source": [
        "Next we compile the simple autoencoder using the \"Adam\" optimizer and \"binary crossentropy\" loss function. Then we run the training on the model for 20 epochs, with a batch size = 256.\n",
        "Setting the parameter `shuffle=True`specifies that for each new epoch a new random shuffling of the batches will occur. This helps to speed convergence of the training."
      ]
    },
    {
      "cell_type": "code",
      "metadata": {
        "id": "9YrqKH7J4kCg",
        "colab": {
          "base_uri": "https://localhost:8080/"
        },
        "outputId": "05a78c2e-dd37-44d2-9190-e5738556869a"
      },
      "source": [
        "autoencoder.compile(optimizer='adam', loss='mean_squared_error')\n",
        "history = autoencoder.fit(train_images_nor, train_images_nor, \n",
        "                epochs=20, \n",
        "                batch_size=256,\n",
        "                shuffle=True)\n",
        "\n"
      ],
      "execution_count": 32,
      "outputs": [
        {
          "output_type": "stream",
          "text": [
            "Epoch 1/20\n",
            "235/235 [==============================] - 1s 3ms/step - loss: 0.1074\n",
            "Epoch 2/20\n",
            "235/235 [==============================] - 1s 3ms/step - loss: 0.0376\n",
            "Epoch 3/20\n",
            "235/235 [==============================] - 1s 3ms/step - loss: 0.0276\n",
            "Epoch 4/20\n",
            "235/235 [==============================] - 1s 3ms/step - loss: 0.0223\n",
            "Epoch 5/20\n",
            "235/235 [==============================] - 1s 3ms/step - loss: 0.0187\n",
            "Epoch 6/20\n",
            "235/235 [==============================] - 1s 3ms/step - loss: 0.0161\n",
            "Epoch 7/20\n",
            "235/235 [==============================] - 1s 3ms/step - loss: 0.0144\n",
            "Epoch 8/20\n",
            "235/235 [==============================] - 1s 3ms/step - loss: 0.0132\n",
            "Epoch 9/20\n",
            "235/235 [==============================] - 1s 3ms/step - loss: 0.0123\n",
            "Epoch 10/20\n",
            "235/235 [==============================] - 1s 3ms/step - loss: 0.0117\n",
            "Epoch 11/20\n",
            "235/235 [==============================] - 1s 3ms/step - loss: 0.0113\n",
            "Epoch 12/20\n",
            "235/235 [==============================] - 1s 3ms/step - loss: 0.0110\n",
            "Epoch 13/20\n",
            "235/235 [==============================] - 1s 3ms/step - loss: 0.0109\n",
            "Epoch 14/20\n",
            "235/235 [==============================] - 1s 3ms/step - loss: 0.0107\n",
            "Epoch 15/20\n",
            "235/235 [==============================] - 1s 3ms/step - loss: 0.0106\n",
            "Epoch 16/20\n",
            "235/235 [==============================] - 1s 3ms/step - loss: 0.0105\n",
            "Epoch 17/20\n",
            "235/235 [==============================] - 1s 3ms/step - loss: 0.0104\n",
            "Epoch 18/20\n",
            "235/235 [==============================] - 1s 3ms/step - loss: 0.0104\n",
            "Epoch 19/20\n",
            "235/235 [==============================] - 1s 3ms/step - loss: 0.0103\n",
            "Epoch 20/20\n",
            "235/235 [==============================] - 1s 3ms/step - loss: 0.0103\n"
          ],
          "name": "stdout"
        }
      ]
    },
    {
      "cell_type": "markdown",
      "metadata": {
        "id": "g2L7o0vy6bBb"
      },
      "source": [
        "Next we plot the loss function, in this case Root Mean Squared Error, as a function of the epoch number"
      ]
    },
    {
      "cell_type": "code",
      "metadata": {
        "id": "mIZqm5OC71Vb",
        "colab": {
          "base_uri": "https://localhost:8080/",
          "height": 315
        },
        "outputId": "84128336-ce3f-4ec2-f97a-0113e78875bf"
      },
      "source": [
        "plt.plot(np.sqrt(history.history['loss']))\n",
        "plt.title('Loss')\n",
        "plt.show()\n",
        "\n",
        "test_loss = autoencoder.evaluate(test_images_nor, test_images_nor)\n",
        "print('test_acc:', test_loss) "
      ],
      "execution_count": 33,
      "outputs": [
        {
          "output_type": "display_data",
          "data": {
            "image/png": "[encoded data removed]",
            "text/plain": [
              "<Figure size 432x288 with 1 Axes>"
            ]
          },
          "metadata": {
            "tags": [],
            "needs_background": "light"
          }
        },
        {
          "output_type": "stream",
          "text": [
            "313/313 [==============================] - 1s 1ms/step - loss: 0.0099\n",
            "test_acc: 0.009944060817360878\n"
          ],
          "name": "stdout"
        }
      ]
    },
    {
      "cell_type": "markdown",
      "metadata": {
        "id": "8jxf4UZTWHAT"
      },
      "source": [
        "The following function helps us plot the input images, the encoded representation and the reconstructed images."
      ]
    },
    {
      "cell_type": "code",
      "metadata": {
        "id": "ipXzmVZtX0k0"
      },
      "source": [
        "def showImages(input_imgs, encoded_imgs, output_imgs, size=1.5, groundTruth=None):\n",
        "\n",
        "  numCols = 3 if groundTruth is None else 4\n",
        "  \n",
        "  num_images = input_imgs.shape[0]\n",
        "      \n",
        "  encoded_imgs = encoded_imgs.reshape((num_images, 1, -1))\n",
        "    \n",
        "\n",
        "  plt.figure(figsize=((numCols+encoded_imgs.shape[2]/input_imgs.shape[2])*size, num_images*size))\n",
        "\n",
        "  pltIdx = 0\n",
        "  col = 0\n",
        "  for i in range(0, num_images):\n",
        "\n",
        "    col += 1\n",
        "    # plot input image\n",
        "    pltIdx += 1\n",
        "    ax = plt.subplot(num_images, numCols, pltIdx)\n",
        "    plt.imshow(input_imgs[i].reshape(28, 28))\n",
        "    plt.gray()\n",
        "    ax.get_xaxis().set_visible(False)\n",
        "    ax.get_yaxis().set_visible(False)\n",
        "    if col == 1:\n",
        "      plt.title('Input Image')\n",
        "\n",
        "    # plot encoding\n",
        "    pltIdx += 1\n",
        "    ax = plt.subplot(num_images, numCols, pltIdx)\n",
        "    plt.imshow(encoded_imgs[i])\n",
        "    plt.gray()\n",
        "    ax.get_xaxis().set_visible(False)\n",
        "    ax.get_yaxis().set_visible(False)\n",
        "    if col == 1:\n",
        "      plt.title('Encoded Image')\n",
        "\n",
        "    # plot reconstructed image\n",
        "    pltIdx += 1\n",
        "    ax = plt.subplot(num_images, numCols, pltIdx)\n",
        "    plt.imshow(output_imgs[i].reshape(28, 28))\n",
        "    plt.gray()\n",
        "    ax.get_xaxis().set_visible(False)\n",
        "    ax.get_yaxis().set_visible(False)\n",
        "    if col == 1:\n",
        "      plt.title('Reconstructed Image')\n",
        "  \n",
        "    if numCols == 4:\n",
        "      # plot ground truth image\n",
        "      pltIdx += 1\n",
        "      ax = plt.subplot(num_images, numCols, pltIdx)\n",
        "      plt.imshow(groundTruth[i].reshape(28, 28))\n",
        "      plt.gray()\n",
        "      ax.get_xaxis().set_visible(False)\n",
        "      ax.get_yaxis().set_visible(False)\n",
        "      \n",
        "      if col == 1:\n",
        "        plt.title('Ground Truth')\n",
        "\n",
        "  plt.show()"
      ],
      "execution_count": 34,
      "outputs": []
    },
    {
      "cell_type": "markdown",
      "metadata": {
        "id": "1EzvVDZDWS1a"
      },
      "source": [
        "And with that we can plot the first couple of images from the test data set and the corresponding encodings and reconstructions. The `predict` function helps us feed the test images through the network. We sort the images by their label so same-class examples are next to one another. Note that similar images also have similar encoding vectors."
      ]
    },
    {
      "cell_type": "code",
      "metadata": {
        "id": "RQKgegKKMHPv",
        "colab": {
          "base_uri": "https://localhost:8080/",
          "height": 703
        },
        "outputId": "7111d29b-fc36-4508-e5c7-82cc5beadbd8"
      },
      "source": [
        "num_images = 6\n",
        "\n",
        "input_labels = test_labels[0:num_images]\n",
        "I = np.argsort(input_labels)\n",
        "\n",
        "input_imgs = test_images[I]\n",
        "\n",
        "encoded_imgs = encoder.predict(test_images_nor[I])\n",
        "output_imgs = decoder.predict(encoded_imgs)\n",
        "\n",
        "\n",
        "showImages(input_imgs, encoded_imgs, output_imgs, size=2)"
      ],
      "execution_count": 35,
      "outputs": [
        {
          "output_type": "display_data",
          "data": {
            "image/png": "[encoded data removed]",
            "text/plain": [
              "<Figure size 596.571x864 with 18 Axes>"
            ]
          },
          "metadata": {
            "tags": [],
            "needs_background": "light"
          }
        }
      ]
    },
    {
      "cell_type": "markdown",
      "metadata": {
        "id": "ur8yd6Yl2bJ1"
      },
      "source": [
        "### CNN autoencoders\n",
        "In this section, we demonstrate how to use CNNs for autoencoders.\n",
        "First we import the data and required packages.\n",
        "Then we reshape and scale the images."
      ]
    },
    {
      "cell_type": "code",
      "metadata": {
        "id": "XRBXE15lYqzW"
      },
      "source": [
        "from keras.datasets import mnist\n",
        "from keras.utils import to_categorical\n",
        "\n",
        "(train_images, train_labels), (test_images, test_labels) = mnist.load_data()\n",
        "\n",
        "train_images = train_images.reshape((60000, 28, 28, 1))\n",
        "train_images_nor = train_images.astype('float32') / 255\n",
        "test_images = test_images.reshape((10000, 28, 28, 1))\n",
        "test_images_nor = test_images.astype('float32') / 255\n",
        "\n",
        "train_labels_cat = to_categorical(train_labels)\n",
        "test_labels_cat = to_categorical(test_labels)"
      ],
      "execution_count": 36,
      "outputs": []
    },
    {
      "cell_type": "markdown",
      "metadata": {
        "id": "i7-VOVtcB-uf"
      },
      "source": [
        "Next we build the models for both the encoder and decoder. Note that the middle section resembles the fully connected autoencoder from above. But here we are using a contractive concolutional section in front and a expansive convolutional section in the back of the network.\n",
        "This makes the fully connected section have fewer parameters due to lower dimensionality. The encoding dimesion is still `encoding_dim` as before. So information passes through the same sized bottleneck."
      ]
    },
    {
      "cell_type": "code",
      "metadata": {
        "id": "2n8jXqGUB4YP"
      },
      "source": [
        "# Build Encoder\n",
        "encoder = models.Sequential()\n",
        "encoder.add(layers.Conv2D(32, (3, 3), activation='relu', padding='same', input_shape=train_images.shape[1:]))\n",
        "encoder.add(layers.MaxPooling2D((2, 2),                  padding='same'))\n",
        "encoder.add(layers.Conv2D(16, (3, 3),  activation='relu', padding='same'))\n",
        "encoder.add(layers.MaxPooling2D((2, 2),                  padding='same'))\n",
        "encoder.add(layers.Conv2D(8, (3, 3),  activation='relu', padding='same', name='convOutput'))\n",
        "\n",
        "encoder.add(layers.Flatten())\n",
        "encoder.add(layers.Dense(encoding_dim, activation='relu'))\n",
        "\n",
        "\n",
        "# shape considerations\n",
        "convShape = encoder.get_layer('convOutput').output_shape[1:]\n",
        "denseShape = convShape[0]*convShape[1]*convShape[2]\n",
        "\n",
        "\n",
        "# Build Decoder\n",
        "decoder = models.Sequential()\n",
        "decoder.add(layers.Dense(denseShape, input_shape=(encoding_dim,)))\n",
        "decoder.add(layers.Reshape(convShape))\n",
        "\n",
        "decoder.add(layers.Conv2D(8, (3, 3),  activation='relu',    padding='same'))\n",
        "decoder.add(layers.UpSampling2D((2, 2)))\n",
        "decoder.add(layers.Conv2D(16, (3, 3),  activation='relu',    padding='same'))\n",
        "decoder.add(layers.UpSampling2D((2, 2)))\n",
        "decoder.add(layers.Conv2D(32, (3, 3), activation='relu',    padding='same'))\n",
        "decoder.add(layers.Conv2D(1, (3, 3),  activation='sigmoid', padding='same'))\n"
      ],
      "execution_count": 37,
      "outputs": []
    },
    {
      "cell_type": "markdown",
      "metadata": {
        "id": "ORFVQ7rsCjsS"
      },
      "source": [
        "Then we build the autoencoder by putting the encoder and decoder together, and we print out the resulting model."
      ]
    },
    {
      "cell_type": "code",
      "metadata": {
        "id": "Ph599EaTCg4b",
        "colab": {
          "base_uri": "https://localhost:8080/"
        },
        "outputId": "5d328905-2df5-4c73-ca2a-9535b460117f"
      },
      "source": [
        "# Build Autoencoder\n",
        "autoencoder = models.Sequential()\n",
        "autoencoder.add(encoder)\n",
        "autoencoder.add(decoder)\n",
        "\n",
        "encoder.summary()\n",
        "decoder.summary()\n",
        "autoencoder.summary()"
      ],
      "execution_count": 38,
      "outputs": [
        {
          "output_type": "stream",
          "text": [
            "Model: \"sequential_5\"\n",
            "_________________________________________________________________\n",
            "Layer (type)                 Output Shape              Param #   \n",
            "=================================================================\n",
            "conv2d_2 (Conv2D)            (None, 28, 28, 32)        320       \n",
            "_________________________________________________________________\n",
            "max_pooling2d_2 (MaxPooling2 (None, 14, 14, 32)        0         \n",
            "_________________________________________________________________\n",
            "conv2d_3 (Conv2D)            (None, 14, 14, 16)        4624      \n",
            "_________________________________________________________________\n",
            "max_pooling2d_3 (MaxPooling2 (None, 7, 7, 16)          0         \n",
            "_________________________________________________________________\n",
            "convOutput (Conv2D)          (None, 7, 7, 8)           1160      \n",
            "_________________________________________________________________\n",
            "flatten_3 (Flatten)          (None, 392)               0         \n",
            "_________________________________________________________________\n",
            "dense_6 (Dense)              (None, 32)                12576     \n",
            "=================================================================\n",
            "Total params: 18,680\n",
            "Trainable params: 18,680\n",
            "Non-trainable params: 0\n",
            "_________________________________________________________________\n",
            "Model: \"sequential_6\"\n",
            "_________________________________________________________________\n",
            "Layer (type)                 Output Shape              Param #   \n",
            "=================================================================\n",
            "dense_7 (Dense)              (None, 392)               12936     \n",
            "_________________________________________________________________\n",
            "reshape_1 (Reshape)          (None, 7, 7, 8)           0         \n",
            "_________________________________________________________________\n",
            "conv2d_4 (Conv2D)            (None, 7, 7, 8)           584       \n",
            "_________________________________________________________________\n",
            "up_sampling2d (UpSampling2D) (None, 14, 14, 8)         0         \n",
            "_________________________________________________________________\n",
            "conv2d_5 (Conv2D)            (None, 14, 14, 16)        1168      \n",
            "_________________________________________________________________\n",
            "up_sampling2d_1 (UpSampling2 (None, 28, 28, 16)        0         \n",
            "_________________________________________________________________\n",
            "conv2d_6 (Conv2D)            (None, 28, 28, 32)        4640      \n",
            "_________________________________________________________________\n",
            "conv2d_7 (Conv2D)            (None, 28, 28, 1)         289       \n",
            "=================================================================\n",
            "Total params: 19,617\n",
            "Trainable params: 19,617\n",
            "Non-trainable params: 0\n",
            "_________________________________________________________________\n",
            "Model: \"sequential_7\"\n",
            "_________________________________________________________________\n",
            "Layer (type)                 Output Shape              Param #   \n",
            "=================================================================\n",
            "sequential_5 (Sequential)    (None, 32)                18680     \n",
            "_________________________________________________________________\n",
            "sequential_6 (Sequential)    (None, 28, 28, 1)         19617     \n",
            "=================================================================\n",
            "Total params: 38,297\n",
            "Trainable params: 38,297\n",
            "Non-trainable params: 0\n",
            "_________________________________________________________________\n"
          ],
          "name": "stdout"
        }
      ]
    },
    {
      "cell_type": "markdown",
      "metadata": {
        "id": "S7Uc8pMXDU9T"
      },
      "source": [
        "Next we compile the simple autoencoder using the \"Adam\" optimizer and \"binary crossentropy\" loss function. Then we run the training on the model for 20 epochs, with a batch size = 256.\n",
        "Setting the parameter `shuffle=True` specifies that for each new epoch a new random shuffling of the batches will occur. This helps to speed convergence of the training."
      ]
    },
    {
      "cell_type": "code",
      "metadata": {
        "id": "N5GCG8TbdQng",
        "colab": {
          "base_uri": "https://localhost:8080/"
        },
        "outputId": "4e4697ad-12c1-4eb9-a188-2ab54d9d39c7"
      },
      "source": [
        "autoencoder.compile(optimizer='adam', loss='mean_squared_error')\n",
        "history = autoencoder.fit(train_images_nor, train_images_nor, \n",
        "                epochs=20, \n",
        "                batch_size=256,\n",
        "                shuffle=True)"
      ],
      "execution_count": 39,
      "outputs": [
        {
          "output_type": "stream",
          "text": [
            "Epoch 1/20\n",
            "235/235 [==============================] - 4s 13ms/step - loss: 0.1015\n",
            "Epoch 2/20\n",
            "235/235 [==============================] - 3s 12ms/step - loss: 0.0249\n",
            "Epoch 3/20\n",
            "235/235 [==============================] - 3s 12ms/step - loss: 0.0182\n",
            "Epoch 4/20\n",
            "235/235 [==============================] - 3s 12ms/step - loss: 0.0155\n",
            "Epoch 5/20\n",
            "235/235 [==============================] - 3s 12ms/step - loss: 0.0143\n",
            "Epoch 6/20\n",
            "235/235 [==============================] - 3s 12ms/step - loss: 0.0133\n",
            "Epoch 7/20\n",
            "235/235 [==============================] - 3s 12ms/step - loss: 0.0127\n",
            "Epoch 8/20\n",
            "235/235 [==============================] - 3s 12ms/step - loss: 0.0122\n",
            "Epoch 9/20\n",
            "235/235 [==============================] - 3s 12ms/step - loss: 0.0118\n",
            "Epoch 10/20\n",
            "235/235 [==============================] - 3s 12ms/step - loss: 0.0114\n",
            "Epoch 11/20\n",
            "235/235 [==============================] - 3s 12ms/step - loss: 0.0112\n",
            "Epoch 12/20\n",
            "235/235 [==============================] - 3s 12ms/step - loss: 0.0109\n",
            "Epoch 13/20\n",
            "235/235 [==============================] - 3s 12ms/step - loss: 0.0107\n",
            "Epoch 14/20\n",
            "235/235 [==============================] - 3s 12ms/step - loss: 0.0104\n",
            "Epoch 15/20\n",
            "235/235 [==============================] - 3s 12ms/step - loss: 0.0103\n",
            "Epoch 16/20\n",
            "235/235 [==============================] - 3s 12ms/step - loss: 0.0101\n",
            "Epoch 17/20\n",
            "235/235 [==============================] - 3s 12ms/step - loss: 0.0100\n",
            "Epoch 18/20\n",
            "235/235 [==============================] - 3s 13ms/step - loss: 0.0099\n",
            "Epoch 19/20\n",
            "235/235 [==============================] - 3s 12ms/step - loss: 0.0097\n",
            "Epoch 20/20\n",
            "235/235 [==============================] - 3s 12ms/step - loss: 0.0096\n"
          ],
          "name": "stdout"
        }
      ]
    },
    {
      "cell_type": "markdown",
      "metadata": {
        "id": "dRt5pN39_a2P"
      },
      "source": [
        "Next we plot the loss function, in this case Root Mean Squared Error, as a function of the epoch number"
      ]
    },
    {
      "cell_type": "code",
      "metadata": {
        "id": "OsMeiGq4_gYQ",
        "colab": {
          "base_uri": "https://localhost:8080/",
          "height": 315
        },
        "outputId": "4e112402-2699-4c04-a13e-2978aef4ac4e"
      },
      "source": [
        "plt.plot(np.sqrt(history.history['loss']))\n",
        "plt.title('Loss')\n",
        "plt.show()\n",
        "\n",
        "test_loss = autoencoder.evaluate(test_images_nor, test_images_nor)\n",
        "print('test_acc:', test_loss)"
      ],
      "execution_count": 40,
      "outputs": [
        {
          "output_type": "display_data",
          "data": {
            "image/png": "[encoded data removed]",
            "text/plain": [
              "<Figure size 432x288 with 1 Axes>"
            ]
          },
          "metadata": {
            "tags": [],
            "needs_background": "light"
          }
        },
        {
          "output_type": "stream",
          "text": [
            "313/313 [==============================] - 1s 3ms/step - loss: 0.0096\n",
            "test_acc: 0.00958598405122757\n"
          ],
          "name": "stdout"
        }
      ]
    },
    {
      "cell_type": "markdown",
      "metadata": {
        "id": "i8WmyLfma7gq"
      },
      "source": [
        "And again we can plot the first couple of images from the test data set and the corresponding encodings and reconstructions.\n",
        "This time we achieve higher accuracy with fewer parameters. "
      ]
    },
    {
      "cell_type": "code",
      "metadata": {
        "id": "W4qxYofVgP1h",
        "colab": {
          "base_uri": "https://localhost:8080/",
          "height": 703
        },
        "outputId": "e3637bf7-e3b2-4cb2-fff6-6889151c7450"
      },
      "source": [
        "num_images = 6\n",
        "\n",
        "input_labels = test_labels[0:num_images]\n",
        "I = np.argsort(input_labels)\n",
        "\n",
        "input_imgs = test_images[I]\n",
        "\n",
        "encoded_imgs = encoder.predict(test_images_nor[I])\n",
        "output_imgs = decoder.predict(encoded_imgs)\n",
        "\n",
        "\n",
        "showImages(input_imgs, encoded_imgs, output_imgs, size=2)"
      ],
      "execution_count": 41,
      "outputs": [
        {
          "output_type": "display_data",
          "data": {
            "image/png": "[encoded data removed]",
            "text/plain": [
              "<Figure size 596.571x864 with 18 Axes>"
            ]
          },
          "metadata": {
            "tags": [],
            "needs_background": "light"
          }
        }
      ]
    },
    {
      "cell_type": "markdown",
      "metadata": {
        "id": "7HS5uyMeM1f4"
      },
      "source": [
        "### Exercise 4.1\n",
        "Perform Exercise 4.1 in Jupyter notebook document **DL_Lab_Exercises**."
      ]
    }
  ]
}