{
 "cells": [
  {
   "cell_type": "markdown",
   "metadata": {},
   "source": [
    "# ME581 HW1 Solution [PYTHON]"
   ]
  },
  {
   "cell_type": "markdown",
   "metadata": {},
   "source": [
    "Three scripts are defined here and will be used in the following homework problems.\n",
    "\n",
    "The first script applies the Bisection Method algorithm defined in Section 2.3 of the textbook. The script takes in an absolute error tolerance $eps$, a defined function $func$, interval extremes $a$ and $b$, and a maximum number of iterations $Nmax$, and returns an array $pn$ of approximations to the root."
   ]
  },
  {
   "cell_type": "code",
   "execution_count": 1,
   "metadata": {
    "collapsed": true
   },
   "outputs": [],
   "source": [
    "def bisection(eps,func,a,b,Nmax):\n",
    "   \n",
    "   import numpy as np\n",
    "   \n",
    "   pn = np.zeros(Nmax)\n",
    "   pn.fill(np.nan)\n",
    "   \n",
    "   sfa = np.sign(func(a))\n",
    "   \n",
    "   for ii in range(0,Nmax):\n",
    "      pn[ii] = a + (b-a)/2.0\n",
    "      \n",
    "      if ((b-a) < (2.0*eps)):\n",
    "         print(\"The convergence tolerance has been met\")\n",
    "         print(\"after {0:d} iterations\".format(ii+1))\n",
    "         pn = pn[~np.isnan(pn)]\n",
    "         return(pn)\n",
    "      \n",
    "      sfp = np.sign(func(pn[ii]))\n",
    "      if ( (sfa*sfp) < 0.0 ):\n",
    "         b = pn[ii]\n",
    "      else:\n",
    "         a = pn[ii]\n",
    "         sfa = np.sign(func(a))\n",
    "   \n",
    "   print(\"The convergence tolerance has not been met\")\n",
    "   print(\"after Nmax = {0:d} iterations\".format(Nmax))\n",
    "   return(pn)"
   ]
  },
  {
   "cell_type": "markdown",
   "metadata": {},
   "source": [
    "The second script applies the Newton's Method algorithm defined in Section 2.4 of the textbook. The script takes in a defined function $f$, the derivative $fp$ of that function, an initial estimate $p0$ of the root, a maximum number of iterations $Nmax$, and an absolute error tolerance $eps$, and returns an array $pn$ of approximations to the root."
   ]
  },
  {
   "cell_type": "code",
   "execution_count": 2,
   "metadata": {
    "collapsed": true
   },
   "outputs": [],
   "source": [
    "def newton(f,fp,po,Nmax,eps):\n",
    "\n",
    "   import numpy as np\n",
    "   \n",
    "   def g(x,f,fp):\n",
    "      gx = x - f(x)/fp(x)\n",
    "      return(gx)\n",
    "   \n",
    "   pn = np.zeros(Nmax+1)\n",
    "   pn.fill(np.nan)\n",
    "   pn[0] = po\n",
    "   \n",
    "   for ii in range(1,Nmax+1):\n",
    "      pn[ii] = g(pn[ii-1],f,fp)\n",
    "      if ( abs( pn[ii]-pn[ii-1] ) < eps ):\n",
    "         print(\"The convergence tolerance has been met\")\n",
    "         print(\"after {0:d} iterations\".format(ii))\n",
    "         pn = pn[~np.isnan(pn)]\n",
    "         return(pn)\n",
    "   \n",
    "   print(\"The convergence tolerance has not been met\")\n",
    "   print(\"after Nmax = {0:d} iterations\".format(Nmax))\n",
    "   return(pn)"
   ]
  },
  {
   "cell_type": "markdown",
   "metadata": {},
   "source": [
    "The third script applies the Secant Method algorithm defined in Section 2.5 of the textbook. It takes in a defined function $f$, initial estimates $p0$ and $p1$ of the root, a maximum number of iterations $Nmax$, and an absolute error tolerance $eps$, and returns an array $pn$ of approximations to the root."
   ]
  },
  {
   "cell_type": "code",
   "execution_count": 3,
   "metadata": {
    "collapsed": true
   },
   "outputs": [],
   "source": [
    "def secant(f,p0,p1,Nmax,eps):\n",
    "\n",
    "   import numpy as np\n",
    "   \n",
    "   def g(p0,p1,f):\n",
    "      gx = p1 - f(p1) * ( p1 - p0 ) / ( f(p1) - f(p0) )\n",
    "      return(gx)\n",
    "   \n",
    "   pn = np.zeros(Nmax+2)\n",
    "   pn.fill(np.nan)\n",
    "   \n",
    "   pn[0] = p0\n",
    "   pn[1] = p1\n",
    "   \n",
    "   for ii in range(2,Nmax+2):\n",
    "      pn[ii] = g(pn[ii-2],pn[ii-1],f)\n",
    "      if ( abs( pn[ii]-pn[ii-1] ) < eps ):\n",
    "         print(\"The convergence tolerance has been met\")\n",
    "         print(\"after {0:d} iterations\".format(ii))\n",
    "         pn = pn[~np.isnan(pn)]\n",
    "         return(pn)\n",
    "         \n",
    "   print(\"The convergence tolerance has not been met\")\n",
    "   print(\"after Nmax = {0:d} iterations\".format(Nmax))\n",
    "   return(pn)"
   ]
  },
  {
   "cell_type": "markdown",
   "metadata": {},
   "source": [
    "Three modules will also be used throughout, and these are imported here:"
   ]
  },
  {
   "cell_type": "code",
   "execution_count": 4,
   "metadata": {
    "collapsed": true
   },
   "outputs": [],
   "source": [
    "import numpy as np\n",
    "import matplotlib.pyplot as plt \n",
    "import matplotlib.patches as mpatches"
   ]
  },
  {
   "cell_type": "markdown",
   "metadata": {},
   "source": [
    "## Problem 1"
   ]
  },
  {
   "cell_type": "markdown",
   "metadata": {},
   "source": [
    "Problem Statement:\n",
    "\n",
    "Verify that the function $f(x)=x^{3}+x^{2}-3x-3$ has a zero on the interval $(1,2)$ by plotting the function. Next, perform the first five iterations of the bisection algorithm and verify that each approximation satisfies the theoretical error bound of the bisection algorithm, but that the actual errors do not steadily decrease. The exact location of the zero is given as $p=\\sqrt{3}$."
   ]
  },
  {
   "cell_type": "markdown",
   "metadata": {},
   "source": [
    "Solution:\n",
    "\n",
    "The given function $f(x)$ is defined below and plotted below across the interval $(a,b)=(1,2)$."
   ]
  },
  {
   "cell_type": "code",
   "execution_count": 5,
   "metadata": {},
   "outputs": [
    {
     "data": {
      "image/png": "[encoded data removed]",
      "text/plain": [
       "<matplotlib.figure.Figure at 0x7effc7cb3d30>"
      ]
     },
     "metadata": {},
     "output_type": "display_data"
    }
   ],
   "source": [
    "def f1(x):\n",
    "    f1x = x**3.0 + x**2.0 - 3.0*x - 3.0\n",
    "    return f1x\n",
    "\n",
    "x1= np.linspace(1,2,101)\n",
    "f_array1 = f1(x1)\n",
    "\n",
    "plt.plot(x1,f_array1,'r')\n",
    "\n",
    "red_patch = mpatches.Patch(color='red',label='f(x)=x^3+x^2-3*x-3')\n",
    "plt.legend(handles=[red_patch])\n",
    "plt.xlabel('x')\n",
    "plt.ylabel('f(x)')\n",
    "plt.show()"
   ]
  },
  {
   "cell_type": "markdown",
   "metadata": {},
   "source": [
    "A root $f(x)=0$ is seen in the range of $x=1.7$."
   ]
  },
  {
   "cell_type": "markdown",
   "metadata": {},
   "source": [
    "The 'bisection' script is used to calculate the first five approximations to the root $p$."
   ]
  },
  {
   "cell_type": "code",
   "execution_count": 6,
   "metadata": {},
   "outputs": [
    {
     "name": "stdout",
     "output_type": "stream",
     "text": [
      "The convergence tolerance has not been met\n",
      "after Nmax = 5 iterations\n"
     ]
    }
   ],
   "source": [
    "a1 = 1.0\n",
    "b1 = 2.0\n",
    "Nmax1 = 5\n",
    "eps1 = 1.0 * 10.0**-16.0 # Small so Nmax will be met\n",
    "pn1 = bisection(eps1,f1,a1,b1,Nmax1)"
   ]
  },
  {
   "cell_type": "markdown",
   "metadata": {},
   "source": [
    "A table is created to show the iteration number $n$, the approximations $p_{n}$ to the root $p$, the absolute error $e=|p_{n}-p|$ in the approximation, and the theoretical error bound $\\frac{b-a}{2^{n}}$ defined in section 2.3 of the textbook."
   ]
  },
  {
   "cell_type": "code",
   "execution_count": 7,
   "metadata": {},
   "outputs": [
    {
     "name": "stdout",
     "output_type": "stream",
     "text": [
      "Iter.\t\tApprox.\t\tAbs. Error\tTheor. Bound\n",
      "n\t\tp_n\t\t|e|\t\t(b-a)/(2^n)\n",
      "\n",
      "1.000000\t1.500000\t0.232051\t0.500000\n",
      "2.000000\t1.750000\t0.017949\t0.250000\n",
      "3.000000\t1.625000\t0.107051\t0.125000\n",
      "4.000000\t1.687500\t0.044551\t0.062500\n",
      "5.000000\t1.718750\t0.013301\t0.031250\n"
     ]
    }
   ],
   "source": [
    "p1 = np.sqrt(3.0)\n",
    "n1 = np.linspace(1,Nmax1,Nmax1)\n",
    "e1 = abs( pn1-p1 )\n",
    "eb1 = (b1-a1) / (2.0**n1)\n",
    "\n",
    "print(\"Iter.\\t\\tApprox.\\t\\tAbs. Error\\tTheor. Bound\")\n",
    "print(\"n\\t\\tp_n\\t\\t|e|\\t\\t(b-a)/(2^n)\\n\")\n",
    "\n",
    "for ii in range(0,Nmax1):\n",
    "   print(\"{0:f}\\t{1:f}\\t{2:f}\\t{3:f}\".\\\n",
    "    format(n1[ii],pn1[ii],e1[ii],eb1[ii]))"
   ]
  },
  {
   "cell_type": "markdown",
   "metadata": {},
   "source": [
    "As suggested, the absolute error $|e|$ in the third column does not decrease on every iteration.\n",
    "\n",
    "Comparing the third and fourth columns, it is seen that the absolute error $|e|$ is always smaller than the theoretical error bound $\\frac{b-a}{2^{n}}$."
   ]
  },
  {
   "cell_type": "markdown",
   "metadata": {},
   "source": [
    "## Problem 2"
   ]
  },
  {
   "cell_type": "markdown",
   "metadata": {},
   "source": [
    "Problem Statement:\n",
    "\n",
    "Verify that the function $f(x)=x^{6}-3$ has a zero on the interval $(a,b)=(1,2)$. Next, perform the first five iterations of the bisection algorithm and verify that each approximation satisfies the theoretical error bound of the bisection method."
   ]
  },
  {
   "cell_type": "markdown",
   "metadata": {},
   "source": [
    "Solution:\n",
    "\n",
    "The given function $f(x)$ is defined below and plotted below across the interval $(a,b)=(1,2)$."
   ]
  },
  {
   "cell_type": "code",
   "execution_count": 8,
   "metadata": {},
   "outputs": [
    {
     "data": {
      "image/png": "[encoded data removed]",
      "text/plain": [
       "<matplotlib.figure.Figure at 0x7effb3c959b0>"
      ]
     },
     "metadata": {},
     "output_type": "display_data"
    }
   ],
   "source": [
    "def f2(x):\n",
    "    f2x = x**6.0 - 3.0\n",
    "    return f2x\n",
    "\n",
    "x2= np.linspace(1,2,101)\n",
    "f_array2 = f2(x2)\n",
    "\n",
    "plt.plot(x2,f_array2,'r')\n",
    "\n",
    "red_patch = mpatches.Patch(color='red',label='f(x)=x^6-3')\n",
    "plt.legend(handles=[red_patch])\n",
    "plt.xlabel('x')\n",
    "plt.ylabel('f(x)')\n",
    "plt.show()"
   ]
  },
  {
   "cell_type": "markdown",
   "metadata": {},
   "source": [
    "A root $f(x)=0$ is seen in the range of $x=1.2$."
   ]
  },
  {
   "cell_type": "markdown",
   "metadata": {},
   "source": [
    "The 'bisection' script is used to calculate the first five approximations to the root $p$."
   ]
  },
  {
   "cell_type": "code",
   "execution_count": 9,
   "metadata": {},
   "outputs": [
    {
     "name": "stdout",
     "output_type": "stream",
     "text": [
      "The convergence tolerance has not been met\n",
      "after Nmax = 5 iterations\n"
     ]
    }
   ],
   "source": [
    "a2 = 1.0\n",
    "b2 = 2.0\n",
    "Nmax2 = 5\n",
    "eps2 = 1.0 * 10.0**-16.0\n",
    "pn2 = bisection(eps2,f2,a2,b2,Nmax2)"
   ]
  },
  {
   "cell_type": "markdown",
   "metadata": {},
   "source": [
    "A table is created to show the iteration number $n$, the approximations $p_{n}$ to the root $p$, the absolute error $e=|p_{n}-p|$ in the approximation, and the theoretical error bound $\\frac{b-a}{2^{n}}$."
   ]
  },
  {
   "cell_type": "code",
   "execution_count": 10,
   "metadata": {},
   "outputs": [
    {
     "name": "stdout",
     "output_type": "stream",
     "text": [
      "Iter.\t\tApprox.\t\tAbs. Error\tTheor. Bound\n",
      "n\t\tp_n\t\t|e|\t\t(b-a)/(2^n)\n",
      "\n",
      "1.000000\t1.500000\t0.299063\t0.500000\n",
      "2.000000\t1.250000\t0.049063\t0.250000\n",
      "3.000000\t1.125000\t0.075937\t0.125000\n",
      "4.000000\t1.187500\t0.013437\t0.062500\n",
      "5.000000\t1.218750\t0.017813\t0.031250\n"
     ]
    }
   ],
   "source": [
    "p2 = 3.0**(1.0/6.0)\n",
    "n2 = np.linspace(1,Nmax2,Nmax2)\n",
    "e2 = abs( pn2-p2 )\n",
    "eb2 = (b2-a2) / (2.0**n2)\n",
    "\n",
    "print(\"Iter.\\t\\tApprox.\\t\\tAbs. Error\\tTheor. Bound\")\n",
    "print(\"n\\t\\tp_n\\t\\t|e|\\t\\t(b-a)/(2^n)\\n\")\n",
    "\n",
    "for ii in range(0,Nmax2):\n",
    "   print(\"{0:f}\\t{1:f}\\t{2:f}\\t{3:f}\".\\\n",
    "    format(n2[ii],pn2[ii],e2[ii],eb2[ii]))"
   ]
  },
  {
   "cell_type": "markdown",
   "metadata": {},
   "source": [
    "Comparing the third and fourth columns, it is seen that the absolute error $|e|$ is always smaller than the theoretical error bound $\\frac{b-a}{2^{n}}$."
   ]
  },
  {
   "cell_type": "markdown",
   "metadata": {},
   "source": [
    "## Problem 3"
   ]
  },
  {
   "cell_type": "markdown",
   "metadata": {},
   "source": [
    "Problem Statement:\n",
    "\n",
    "Approximate $\\frac{1}{37}$ to five decimal places by applying the bisection algorithm to the equation $\\frac{1}{x}-37=0$. Include plots of the\n",
    "\n",
    "a) Approximated Root vs Iteration Number\n",
    "\n",
    "b) Absolute Error vs Iteration Number"
   ]
  },
  {
   "cell_type": "markdown",
   "metadata": {},
   "source": [
    "Solution:\n",
    "\n",
    "Care is taken in choosing the initial interval; an interval which requires evaluating the function $f(x)=\\frac{1}{x}-37$ at $x=0$ will result in division by zero.\n",
    "\n",
    "Initial bounds of $(a,b)=(\\frac{1}{40}=0.025,\\frac{1}{20}=0.05)$ are chosen because they encompass $\\frac{1}{37}$ and because their decimal values are easily called to mind and written.\n",
    "\n",
    "It is noted that the first significant digits of $\\frac{1}{40}$ and $\\frac{1}{20}$ are both two places after the decimal The first significant digit of $\\frac{1}{37}$ is expected at the same location. The fifth significant digit of $\\frac{1}{37}$ may then be expected at the sixth decimal place.\n",
    "\n",
    "The bounds of the solution, upon convergence, must therefore given by $(b-a)=1*10^{-6}=2{\\epsilon}$. Solving for the convergence tolerance epsilon in that equation, a convergence tolerance of ${\\epsilon}=5*10^{-7}$ must be chosen.\n",
    "\n",
    "The 'bisection' script is applied to estimate the root $p$."
   ]
  },
  {
   "cell_type": "code",
   "execution_count": 11,
   "metadata": {},
   "outputs": [
    {
     "name": "stdout",
     "output_type": "stream",
     "text": [
      "The convergence tolerance has been met\n",
      "after 16 iterations\n",
      "\n",
      "pn is printed to ten digits.\n",
      "The first five digits are significant.\n",
      "pn ≈ 2.702674866e-02\n"
     ]
    }
   ],
   "source": [
    "def f3(x):\n",
    "    f3x = 1/x - 37.0\n",
    "    return f3x\n",
    "\n",
    "a3 = 0.025 # 1/40\n",
    "b3 = 0.050 # 1/20\n",
    "Nmax3 = 1000\n",
    "eps3 = 5.0*10**-7\n",
    "\n",
    "pn3 = bisection(eps3,f3,a3,b3,Nmax3)\n",
    "\n",
    "print(\"\\npn is printed to ten digits.\")\n",
    "print(\"The first five digits are significant.\")\n",
    "print(\"pn ≈ {0:10.9e}\".format(pn3[-1]))"
   ]
  },
  {
   "cell_type": "markdown",
   "metadata": {},
   "source": [
    "The approximated root $p_{n}$ is plotted against the iteration number $n$."
   ]
  },
  {
   "cell_type": "code",
   "execution_count": 12,
   "metadata": {},
   "outputs": [
    {
     "data": {
      "image/png": "[encoded data removed]",
      "text/plain": [
       "<matplotlib.figure.Figure at 0x7effb3b88a20>"
      ]
     },
     "metadata": {},
     "output_type": "display_data"
    }
   ],
   "source": [
    "n3 = np.linspace(1,len(pn3),len(pn3))\n",
    "\n",
    "plt.plot(n3,pn3,'r')\n",
    "\n",
    "red_patch = mpatches.Patch(color='red',label='pn')\n",
    "plt.legend(handles=[red_patch])\n",
    "plt.xlabel('Iteration Number n')\n",
    "plt.ylabel('Approximation pn to the Root p')\n",
    "plt.show()"
   ]
  },
  {
   "cell_type": "markdown",
   "metadata": {},
   "source": [
    "The exact error $p-p_{n}$ is plotted against the iteration number $n$."
   ]
  },
  {
   "cell_type": "code",
   "execution_count": 13,
   "metadata": {},
   "outputs": [
    {
     "data": {
      "image/png": "[encoded data removed]",
      "text/plain": [
       "<matplotlib.figure.Figure at 0x7effb3b56a58>"
      ]
     },
     "metadata": {},
     "output_type": "display_data"
    }
   ],
   "source": [
    "p3 = 1.0/37.0\n",
    "e3 = abs(p3-pn3)\n",
    "\n",
    "plt.plot(n3,e3,'b')\n",
    "\n",
    "blue_patch = mpatches.Patch(color='blue',label='|e|')\n",
    "plt.legend(handles=[blue_patch])\n",
    "plt.xlabel('Iteration Number n')\n",
    "plt.ylabel('Absolute Error |e|')\n",
    "plt.show()"
   ]
  },
  {
   "cell_type": "markdown",
   "metadata": {},
   "source": [
    "## Problem 4"
   ]
  },
  {
   "cell_type": "markdown",
   "metadata": {
    "collapsed": true
   },
   "source": [
    "Problem Statement:\n",
    "\n",
    "The equation $x^{7}=3$ has a root on the interval $(1,2)$, namely $\\sqrt[7]{3}$.\n",
    "\n",
    "a) Perform five iterations of Newton's method.\n",
    "\n",
    "b) For $n{\\geq}1$, compare $|p_{n}-p_{n-1}|$ with $|p_{n-1}-p|$ and $|p_{n}-p|$.\n",
    "\n",
    "c) For $n{\\geq}1$, compute the ratio $\\frac{|p_{n}-p|}{{|p_{n-1}-p|}^{2}}$ and show that this value approaches $|\\frac{f''(p)}{2f'(p)}|$."
   ]
  },
  {
   "cell_type": "markdown",
   "metadata": {},
   "source": [
    "Solution:\n",
    "\n",
    "The 'newton' script is used to calculate the first five approximations to the root $p$, and the resulting approximations to the root 'p' are printed."
   ]
  },
  {
   "cell_type": "code",
   "execution_count": 14,
   "metadata": {},
   "outputs": [
    {
     "name": "stdout",
     "output_type": "stream",
     "text": [
      "The convergence tolerance has not been met\n",
      "after Nmax = 5 iterations\n",
      "\n",
      "Approximations of the Root p:\n",
      "Iteration 0: pn(0) = 1.50000000e+00\n",
      "Iteration 1: pn(1) = 1.32333921e+00\n",
      "Iteration 2: pn(2) = 1.21408951e+00\n",
      "Iteration 3: pn(3) = 1.17446752e+00\n",
      "Iteration 4: pn(4) = 1.16998305e+00\n",
      "Iteration 5: pn(5) = 1.16993082e+00\n"
     ]
    }
   ],
   "source": [
    "def f4(x):\n",
    "   f4x = x**7.0 - 3.0\n",
    "   return(f4x)\n",
    "\n",
    "def fp4(x):\n",
    "   fp4x = 7.0*x**6.0\n",
    "   return(fp4x)\n",
    "\n",
    "po4 = 1.5\n",
    "Nmax4 = 5\n",
    "eps4 = 1.0*10.0**-16.0\n",
    "pn4 =  newton(f4,fp4,po4,Nmax4,eps4)\n",
    "\n",
    "print(\"\\nApproximations of the Root p:\")\n",
    "for ii in range(0,len(pn4)):\n",
    "   print(\"Iteration {0:d}: pn({1:d}) = {2:9.8e}\"\\\n",
    "    .format(ii,ii,pn4[ii]))"
   ]
  },
  {
   "cell_type": "markdown",
   "metadata": {
    "collapsed": true
   },
   "source": [
    "As requested, for $n{\\geq}1$, the values in $|p_{n}-p_{n-1}|$ are tabled with $|p_{n-1}-p|$ and $|p_{n}-p|$."
   ]
  },
  {
   "cell_type": "code",
   "execution_count": 15,
   "metadata": {},
   "outputs": [
    {
     "name": "stdout",
     "output_type": "stream",
     "text": [
      "n\t|p_(n)-p_(n-1)|\t|p_(n-1)-p|\t|p_(n)-p|\n",
      "1\t1.766607878e-01\t3.300691872e-01\t1.534083995e-01\n",
      "2\t1.092497019e-01\t1.534083995e-01\t4.415869755e-02\n",
      "3\t3.962199086e-02\t4.415869755e-02\t4.536706690e-03\n",
      "4\t4.484470983e-03\t4.536706690e-03\t5.223570761e-05\n",
      "5\t5.222871170e-05\t5.223570761e-05\t6.995911850e-09\n"
     ]
    }
   ],
   "source": [
    "print(\"n\\t|p_(n)-p_(n-1)|\\t|p_(n-1)-p|\\t|p_(n)-p|\")\n",
    "\n",
    "p4 = (3.0)**(1.0/7.0)\n",
    "\n",
    "pnpn1 = np.zeros(len(pn4)-1)\n",
    "pnpn1.fill(np.nan)\n",
    "pn1p = np.zeros(len(pn4)-1)\n",
    "pn1p.fill(np.nan)\n",
    "pnp = np.zeros(len(pn4)-1)\n",
    "pnp.fill(np.nan)\n",
    "\n",
    "for ii in range(1,len(pn4)):\n",
    "   pnpn1[ii-1] = abs(pn4[ii]-pn4[ii-1])\n",
    "   pn1p [ii-1] = abs(pn4[ii-1]-p4)\n",
    "   pnp[ii-1]   = abs(pn4[ii]-p4)\n",
    "\n",
    "for ii in range(0,len(pn4)-1):\n",
    "   print(\"{0:d}\\t{1:10.9e}\\t{2:10.9e}\\t{3:10.9e}\".\\\n",
    "    format(ii+1,pnpn1[ii],pn1p[ii],pnp[ii]))"
   ]
  },
  {
   "cell_type": "markdown",
   "metadata": {},
   "source": [
    "For $n{\\geq}1$, the ratio $\\frac{|p_{n}-p|}{{|p_{n-1}-p|}^{2}}$ is computed and printed."
   ]
  },
  {
   "cell_type": "code",
   "execution_count": 16,
   "metadata": {},
   "outputs": [
    {
     "name": "stdout",
     "output_type": "stream",
     "text": [
      "Ratio |p_(n)-p| / |p_(n-1)-p|\n",
      "Iteration 1: 1.408118393e+00\n",
      "Iteration 2: 1.876367827e+00\n",
      "Iteration 3: 2.326527503e+00\n",
      "Iteration 4: 2.537967629e+00\n",
      "Iteration 5: 2.563948892e+00\n"
     ]
    }
   ],
   "source": [
    "pnp_pn1p_ratio = pnp / pn1p**2.0\n",
    "\n",
    "print(\"Ratio |p_(n)-p| / |p_(n-1)-p|\")\n",
    "for ii in range(0,len(pnp)):\n",
    "   print(\"Iteration {0:d}: {1:10.9e}\".\\\n",
    "    format(ii+1,pnp_pn1p_ratio[ii]))"
   ]
  },
  {
   "cell_type": "markdown",
   "metadata": {},
   "source": [
    "This value is expected to approach $|\\frac{f''(p)}{2f'(p)}|$.\n",
    "\n",
    "The value of $|\\frac{f''(p)}{2f'(p)}|$ is found by first calculating the derivatives of $f(x)$:\n",
    "\n",
    "$f(x) = x^{7}-3$; $f'(x) = 7x^{6}$; $f''(x) = 42x^{5}$\n",
    "\n",
    "Noting that the exact root is at $p=\\sqrt[7]{3}$, the value of $|\\frac{f''(p)}{2f'(p)}|$ is:\n",
    "\n",
    "$|\\frac{f''(p)}{2f'(p)}|=\\frac{42{(\\sqrt[7]{3})}^{5}}{2{\\times}7{(\\sqrt[7]{3})}^{6}}{\\approx}$"
   ]
  },
  {
   "cell_type": "code",
   "execution_count": 17,
   "metadata": {},
   "outputs": [
    {
     "name": "stdout",
     "output_type": "stream",
     "text": [
      "2.564254200\n"
     ]
    }
   ],
   "source": [
    "ans = (42.0*(3.0**(1.0/7.0))**5.0) /(2.0*7.0*(3.0**(1.0/7.0))**6.0)\n",
    "print(\"{0:10.9f}\".format(ans))"
   ]
  },
  {
   "cell_type": "markdown",
   "metadata": {},
   "source": [
    "which is identical in the first three digits to the final value of the ratio $\\frac{|p_{n}-p|}{{|p_{n-1}-p|}^{2}}=2.563948892$ shown above."
   ]
  },
  {
   "cell_type": "markdown",
   "metadata": {},
   "source": [
    "## Problem 5"
   ]
  },
  {
   "cell_type": "markdown",
   "metadata": {},
   "source": [
    "Problem Statement:\n",
    "\n",
    "For each of the functions given below, use the Newton's method algorithm to approximate all real roots. Use an absolute tolerance of $10^{-6}$ as a stopping condition. For each of the roots plot the logarithm of the error $e_{n}$ at each iteration $n$ against the logarithm of the error at the previous iteration, and use this plot to calculate the order of convergence. Use these plots to comment on the convergence behavior of Newton's method.\n",
    "\n",
    "a) $f(x)=e^{x}+x^{2}-x-4$\n",
    "\n",
    "b) $f(x)=x^{3}-x^{2}-10x+7$\n",
    "\n",
    "c) $f(x)=1.05-1.04x+ln(x)$"
   ]
  },
  {
   "cell_type": "markdown",
   "metadata": {},
   "source": [
    "Solution:\n",
    "\n",
    "For part $a$, two roots are expected because the polynomial is second-order. Through trial and error, these roots have been found to be in the range (-2,2). The function is plotted in that region to demonstrate:"
   ]
  },
  {
   "cell_type": "code",
   "execution_count": 18,
   "metadata": {},
   "outputs": [
    {
     "data": {
      "image/png": "[encoded data removed]",
      "text/plain": [
       "<matplotlib.figure.Figure at 0x7effb3b41588>"
      ]
     },
     "metadata": {},
     "output_type": "display_data"
    }
   ],
   "source": [
    "def f5a(x):\n",
    "    f5ax = np.exp(x) + x**2.0 - x - 4.0\n",
    "    return(f5ax)\n",
    "\n",
    "x5a= np.linspace(-2,2,101)\n",
    "f_array5a = f5a(x5a)\n",
    "\n",
    "plt.plot(x5a,f_array5a,'r')\n",
    "\n",
    "red_patch = mpatches.Patch(color='red',label='f(x)=e^x+x^2-x-4')\n",
    "plt.legend(handles=[red_patch])\n",
    "plt.xlabel('x')\n",
    "plt.ylabel('f(x)')\n",
    "plt.show()"
   ]
  },
  {
   "cell_type": "markdown",
   "metadata": {},
   "source": [
    "Roots where $f(x)=0$ are seen near $x=-1.5$ and $x=1.25$.\n",
    "\n",
    "The derivative of $f(x)$ is required and is calculated as $f'(x)=e^{x}+2x-1$\n",
    "\n",
    "Applying Newton's method with initial guesses of $p_{0}^{(5a1)}=-1.5$ and $p_{0}^{(5a2)}=1.25$ and the given absolute tolerance of ${\\epsilon}=10^{-6}$, the roots are calculated and the logarithmic plots of the error are graphed."
   ]
  },
  {
   "cell_type": "code",
   "execution_count": 19,
   "metadata": {},
   "outputs": [
    {
     "name": "stdout",
     "output_type": "stream",
     "text": [
      "The convergence tolerance has been met\n",
      "after 3 iterations\n",
      "The convergence tolerance has been met\n",
      "after 3 iterations\n",
      "\n",
      "Final approximation of the first root of f(x):\n",
      "pn(4) = -1.507099484e+00\n",
      "\n",
      "Final approximation of the second root of f(x):\n",
      "pn(4) = 1.288677967e+00\n"
     ]
    },
    {
     "data": {
      "image/png": "[encoded data removed]",
      "text/plain": [
       "<matplotlib.figure.Figure at 0x7effb3b7e3c8>"
      ]
     },
     "metadata": {},
     "output_type": "display_data"
    },
    {
     "data": {
      "image/png": "[encoded data removed]",
      "text/plain": [
       "<matplotlib.figure.Figure at 0x7effb3909cf8>"
      ]
     },
     "metadata": {},
     "output_type": "display_data"
    }
   ],
   "source": [
    "def fp5a(x):\n",
    "   fp5ax = np.exp(x) + 2.0*x - 1.0\n",
    "   return(fp5ax)\n",
    "\n",
    "eps5a1 = 10**-6.0\n",
    "eps5a2 = 10**-6.0\n",
    "\n",
    "po5a1 = -1.5\n",
    "po5a2 = 1.25\n",
    "\n",
    "Nmax5a1 = 100\n",
    "Nmax5a2 = 100\n",
    "\n",
    "pn5a1 =  newton(f5a,fp5a,po5a1,Nmax5a1,eps5a1)\n",
    "pn5a2 =  newton(f5a,fp5a,po5a2,Nmax5a2,eps5a2)\n",
    "\n",
    "print(\"\\nFinal approximation of the first root of f(x):\")\n",
    "print(\"pn({0:d}) = {1:10.9e}\".format(len(pn5a1),pn5a1[-1]))\n",
    "print(\"\\nFinal approximation of the second root of f(x):\")\n",
    "print(\"pn({0:d}) = {1:10.9e}\".format(len(pn5a2),pn5a2[-1]))\n",
    "\n",
    "p5a1 = pn5a1[-1]\n",
    "p5a2 = pn5a2[-1]\n",
    "\n",
    "logabs_en5a1  = np.log(abs( pn5a1[1:-1] - p5a1 ))\n",
    "logabs_en15a1 = np.log(abs( pn5a1[0:-2] - p5a1 ))\n",
    "logabs_en5a2  = np.log(abs( pn5a2[1:-1] - p5a2 ))\n",
    "logabs_en15a2 = np.log(abs( pn5a2[0:-2] - p5a2 ))\n",
    "\n",
    "plt.plot(logabs_en15a1,logabs_en5a1,'r')\n",
    "plt.xlabel('log_e( |e_{n-1}| )')\n",
    "plt.ylabel('log_e( |e_{n}| )')\n",
    "plt.show()\n",
    "plt.plot(logabs_en15a2,logabs_en5a2,'r')\n",
    "plt.xlabel('log_e( |e_{n-1}| )')\n",
    "plt.ylabel('log_e( |e_{n}| )')\n",
    "plt.show()"
   ]
  },
  {
   "cell_type": "markdown",
   "metadata": {},
   "source": [
    "For part $b$, three roots are expected because the polynomial is third-order. Through trial and error, these roots have been found to be in the range (-4,4). The function is plotted in that region to demonstrate:"
   ]
  },
  {
   "cell_type": "code",
   "execution_count": 20,
   "metadata": {},
   "outputs": [
    {
     "data": {
      "image/png": "[encoded data removed]",
      "text/plain": [
       "<matplotlib.figure.Figure at 0x7effb396ec18>"
      ]
     },
     "metadata": {},
     "output_type": "display_data"
    }
   ],
   "source": [
    "def f5b(x):\n",
    "    f5bx = x**3.0 - x**2 - 10.0*x + 7.0\n",
    "    return(f5bx)\n",
    "\n",
    "x5b= np.linspace(-4,4,101)\n",
    "f_array5b = f5b(x5b)\n",
    "\n",
    "plt.plot(x5b,f_array5b,'r')\n",
    "\n",
    "red_patch = mpatches.Patch(color='red',label='f(x)=x^3-x^2-10x+7')\n",
    "plt.legend(handles=[red_patch])\n",
    "plt.xlabel('x')\n",
    "plt.ylabel('f(x)')\n",
    "plt.show()"
   ]
  },
  {
   "cell_type": "markdown",
   "metadata": {},
   "source": [
    "Roots where $f(x)=0$ are seen near $x=-3$, $x=1$, and $x=3$.\n",
    "\n",
    "The derivative of $f(x)$ is required and is calculated as $f'(x)=3x^{2}-2x-10$\n",
    "\n",
    "Applying Newton's method with initial guesses of $p_{0}^{(5b1)}=-3$, $p_{0}^{(5b2)}$, and $p_{0}^{(5b3)}=3.0$ and the given absolute tolerance of ${\\epsilon}=10^{-6}$, the roots are calculated and the logarithmic plots of the error are graphed."
   ]
  },
  {
   "cell_type": "code",
   "execution_count": 21,
   "metadata": {},
   "outputs": [
    {
     "name": "stdout",
     "output_type": "stream",
     "text": [
      "The convergence tolerance has been met\n",
      "after 3 iterations\n",
      "The convergence tolerance has been met\n",
      "after 4 iterations\n",
      "The convergence tolerance has been met\n",
      "after 5 iterations\n",
      "\n",
      "Final approximation of the first root of f(x):\n",
      "pn(4) = -3.042682784e+00\n",
      "\n",
      "Final approximation of the second root of f(x):\n",
      "pn(5) = 6.852202474e-01\n",
      "\n",
      "Final approximation of the third root of f(x):\n",
      "pn(6) = 3.357462537e+00\n"
     ]
    },
    {
     "data": {
      "image/png": "[encoded data removed]",
      "text/plain": [
       "<matplotlib.figure.Figure at 0x7effb3aac9b0>"
      ]
     },
     "metadata": {},
     "output_type": "display_data"
    },
    {
     "data": {
      "image/png": "[encoded data removed]",
      "text/plain": [
       "<matplotlib.figure.Figure at 0x7effb3964eb8>"
      ]
     },
     "metadata": {},
     "output_type": "display_data"
    },
    {
     "data": {
      "image/png": "[encoded data removed]",
      "text/plain": [
       "<matplotlib.figure.Figure at 0x7effb383f6a0>"
      ]
     },
     "metadata": {},
     "output_type": "display_data"
    }
   ],
   "source": [
    "def fp5b(x):\n",
    "   fp5bx = 3.0*x**2.0 - 2.0*x-10.0\n",
    "   return(fp5bx)\n",
    "\n",
    "eps5b1 = 10**-6.0\n",
    "eps5b2 = 10**-6.0\n",
    "eps5b3 = 10**-6.0\n",
    "\n",
    "po5b1 = -3.0\n",
    "po5b2 = 1.0\n",
    "po5b3 = 3.0\n",
    "\n",
    "Nmax5b1 = 100\n",
    "Nmax5b2 = 100\n",
    "Nmax5b3 = 100\n",
    "\n",
    "pn5b1 =  newton(f5b,fp5b,po5b1,Nmax5b1,eps5b1)\n",
    "pn5b2 =  newton(f5b,fp5b,po5b2,Nmax5b2,eps5b2)\n",
    "pn5b3 =  newton(f5b,fp5b,po5b3,Nmax5b3,eps5b3)\n",
    "\n",
    "print(\"\\nFinal approximation of the first root of f(x):\")\n",
    "print(\"pn({0:d}) = {1:10.9e}\".format(len(pn5b1),pn5b1[-1]))\n",
    "print(\"\\nFinal approximation of the second root of f(x):\")\n",
    "print(\"pn({0:d}) = {1:10.9e}\".format(len(pn5b2),pn5b2[-1]))\n",
    "print(\"\\nFinal approximation of the third root of f(x):\")\n",
    "print(\"pn({0:d}) = {1:10.9e}\".format(len(pn5b3),pn5b3[-1]))\n",
    "\n",
    "p5b1 = pn5b1[-1]\n",
    "p5b2 = pn5b2[-1]\n",
    "p5b3 = pn5b3[-1]\n",
    "\n",
    "logabs_en5b1  = np.log(abs( pn5b1[1:-1] - p5b1 ))\n",
    "logabs_en15b1 = np.log(abs( pn5b1[0:-2] - p5b1 ))\n",
    "logabs_en5b2  = np.log(abs( pn5b2[1:-1] - p5b2 ))\n",
    "logabs_en15b2 = np.log(abs( pn5b2[0:-2] - p5b2 ))\n",
    "logabs_en5b3  = np.log(abs( pn5b3[1:-1] - p5b3 ))\n",
    "logabs_en15b3 = np.log(abs( pn5b3[0:-2] - p5b3 ))\n",
    "\n",
    "plt.plot(logabs_en15b1,logabs_en5b1,'r')\n",
    "plt.xlabel('log_e( |e_{n-1}| )')\n",
    "plt.ylabel('log_e( |e_{n}| )')\n",
    "plt.show()\n",
    "\n",
    "plt.plot(logabs_en15b2,logabs_en5b2,'r')\n",
    "plt.xlabel('log_e( |e_{n-1}| )')\n",
    "plt.ylabel('log_e( |e_{n}| )')\n",
    "plt.show()\n",
    "\n",
    "plt.plot(logabs_en15b3,logabs_en5b3,'r')\n",
    "plt.xlabel('log_e( |e_{n-1}| )')\n",
    "plt.ylabel('log_e( |e_{n}| )')\n",
    "plt.show()"
   ]
  },
  {
   "cell_type": "markdown",
   "metadata": {},
   "source": [
    "For part 'c', through trial and error, the real roots have been found to be in the range (0.5,1.5). The function is plotted in that region to demonstrate:"
   ]
  },
  {
   "cell_type": "code",
   "execution_count": 22,
   "metadata": {},
   "outputs": [
    {
     "data": {
      "image/png": "[encoded data removed]",
      "text/plain": [
       "<matplotlib.figure.Figure at 0x7effb389d710>"
      ]
     },
     "metadata": {},
     "output_type": "display_data"
    }
   ],
   "source": [
    "def f5c(x):\n",
    "    f5cx = 1.05-1.04*x+np.log(x)\n",
    "    return(f5cx)\n",
    "\n",
    "x5c= np.linspace(0.5,1.5,101)\n",
    "f_array5c = f5c(x5c)\n",
    "\n",
    "plt.plot(x5c,f_array5c,'r')\n",
    "\n",
    "red_patch = mpatches.Patch(color='red',label=\\\n",
    " 'f(x)=1.05-1.04x+ln(x)')\n",
    "plt.legend(handles=[red_patch])\n",
    "plt.xlabel('x')\n",
    "plt.ylabel('f(x)')\n",
    "plt.show()"
   ]
  },
  {
   "cell_type": "markdown",
   "metadata": {},
   "source": [
    "Roots where $f(x)=0$ are seen near $x=0.8$ and $x=1.1$.\n",
    "\n",
    "The derivative of $f(x)$ is required and is calculated as $f'(x)=-1.04+\\frac{1}{x}$\n",
    "\n",
    "Applying Newton's method with initial guesses of $p_{0}^{(5c1)}=0.8$ and $p_{0}^{(5c2)}=1.1$ and the given absolute tolerance of ${\\epsilon}=10^{-6}$, the roots are calculated and the logarithmic plots of the error are graphed."
   ]
  },
  {
   "cell_type": "code",
   "execution_count": 23,
   "metadata": {},
   "outputs": [
    {
     "name": "stdout",
     "output_type": "stream",
     "text": [
      "The convergence tolerance has been met\n",
      "after 4 iterations\n",
      "The convergence tolerance has been met\n",
      "after 3 iterations\n",
      "\n",
      "Final approximation of the first root of f(x):\n",
      "pn(5) = 8.271809085e-01\n",
      "\n",
      "Final approximation of the second root of f(x):\n",
      "pn(4) = 1.109712304e+00\n"
     ]
    },
    {
     "data": {
      "image/png": "[encoded data removed]",
      "text/plain": [
       "<matplotlib.figure.Figure at 0x7effb6fefc50>"
      ]
     },
     "metadata": {},
     "output_type": "display_data"
    },
    {
     "data": {
      "image/png": "[encoded data removed]",
      "text/plain": [
       "<matplotlib.figure.Figure at 0x7effb3b76a90>"
      ]
     },
     "metadata": {},
     "output_type": "display_data"
    }
   ],
   "source": [
    "def fp5c(x):\n",
    "   fp5cx = -1.04 + 1.0/x\n",
    "   return(fp5cx)\n",
    "\n",
    "eps5c1 = 10**-6.0\n",
    "eps5c2 = 10**-6.0\n",
    "\n",
    "po5c1 = 0.8\n",
    "po5c2 = 1.1\n",
    "\n",
    "Nmax5c1 = 100\n",
    "Nmax5c2 = 100\n",
    "\n",
    "pn5c1 =  newton(f5c,fp5c,po5c1,Nmax5c1,eps5c1)\n",
    "pn5c2 =  newton(f5c,fp5c,po5c2,Nmax5c2,eps5c2)\n",
    "\n",
    "print(\"\\nFinal approximation of the first root of f(x):\")\n",
    "print(\"pn({0:d}) = {1:10.9e}\".format(len(pn5c1),pn5c1[-1]))\n",
    "print(\"\\nFinal approximation of the second root of f(x):\")\n",
    "print(\"pn({0:d}) = {1:10.9e}\".format(len(pn5c2),pn5c2[-1]))\n",
    "\n",
    "p5c1 = pn5c1[-1]\n",
    "p5c2 = pn5c2[-1]\n",
    "\n",
    "logabs_en5c1  = np.log(abs( pn5c1[1:-1] - p5c1 ))\n",
    "logabs_en15c1 = np.log(abs( pn5c1[0:-2] - p5c1 ))\n",
    "logabs_en5c2  = np.log(abs( pn5c2[1:-1] - p5c2 ))\n",
    "logabs_en15c2 = np.log(abs( pn5c2[0:-2] - p5c2 ))\n",
    "\n",
    "plt.plot(logabs_en15c1,logabs_en5c1,'r')\n",
    "plt.xlabel('log_e( |e_{n-1}| )')\n",
    "plt.ylabel('log_e( |e_{n}| )')\n",
    "plt.show()\n",
    "\n",
    "plt.plot(logabs_en15c2,logabs_en5c2,'r')\n",
    "plt.xlabel('log_e( |e_{n-1}| )')\n",
    "plt.ylabel('log_e( |e_{n}| )')\n",
    "plt.show()"
   ]
  },
  {
   "cell_type": "markdown",
   "metadata": {},
   "source": [
    "The order of convergence in each of the plots is judged visually  from the slope and is found to be approximately two (quadratic) in each case.\n",
    "\n",
    "From this, it appears that the Newton's method is often quadratically convergent."
   ]
  },
  {
   "cell_type": "markdown",
   "metadata": {},
   "source": [
    "## Problem 6"
   ]
  },
  {
   "cell_type": "markdown",
   "metadata": {},
   "source": [
    "Problem Statement:\n",
    "\n",
    "Consider the function $f(x)=(3x)(1-cos({\\pi}x))$, which has a root of multiplicity three at $x=0$. Apply ten iterations of Newton's method to this equation with a starting value of $p_{0}=0.5$. Comment on the order of convergence."
   ]
  },
  {
   "cell_type": "markdown",
   "metadata": {},
   "source": [
    "Solution:\n",
    "\n",
    "The derivative of the given function $f(x)$ is required. The product rule is applied to find:\n",
    "\n",
    "$f'(x)=(3x)({\\pi}sin({\\pi}x))+3(1-cos({\\pi}x))$\n",
    "\n",
    "Ten iterations of Newton's method are applied for the given equation and starting point, and the estimates of the root are printed out.\n",
    "\n",
    "The order of convergence is judged by plotting the logarithm of the absolute error."
   ]
  },
  {
   "cell_type": "code",
   "execution_count": 24,
   "metadata": {},
   "outputs": [
    {
     "name": "stdout",
     "output_type": "stream",
     "text": [
      "The convergence tolerance has not been met\n",
      "after Nmax = 10 iterations\n",
      "\n",
      "Approximations of the Root p:\n",
      "Iteration 0: pn(0) = 5.00000000e-01\n",
      "Iteration 1: pn(1) = 3.05507735e-01\n",
      "Iteration 2: pn(2) = 1.98088156e-01\n",
      "Iteration 3: pn(3) = 1.30597234e-01\n",
      "Iteration 4: pn(4) = 8.66527045e-02\n",
      "Iteration 5: pn(5) = 5.76489104e-02\n",
      "Iteration 6: pn(6) = 3.83975067e-02\n",
      "Iteration 7: pn(7) = 2.55879799e-02\n",
      "Iteration 8: pn(8) = 1.70555898e-02\n",
      "Iteration 9: pn(9) = 1.13694862e-02\n",
      "Iteration 10: pn(10) = 7.57938884e-03\n"
     ]
    },
    {
     "data": {
      "image/png": "[encoded data removed]",
      "text/plain": [
       "<matplotlib.figure.Figure at 0x7effb3a3c9e8>"
      ]
     },
     "metadata": {},
     "output_type": "display_data"
    }
   ],
   "source": [
    "def f6(x):\n",
    "   f6x = (3.0*x)*(1.0-np.cos(np.pi*x))\n",
    "   return(f6x)\n",
    "\n",
    "def fp6(x):\n",
    "   fp6x = (3.0*x)*(np.pi*np.sin(np.pi*x)) + 3.0*(1.0-np.cos(np.pi*x))\n",
    "   return(fp6x)\n",
    "\n",
    "po6 = 0.5\n",
    "Nmax6 = 10\n",
    "eps6 = 1.0 * 10.0**-16.0\n",
    "\n",
    "pn6 = newton(f6,fp6,po6,Nmax6,eps6)\n",
    "\n",
    "print(\"\\nApproximations of the Root p:\")\n",
    "for ii in range(0,len(pn6)):\n",
    "   print(\"Iteration {0:d}: pn({1:d}) = {2:9.8e}\"\\\n",
    "    .format(ii,ii,pn6[ii]))\n",
    "\n",
    "p6 = pn6[-1]\n",
    "\n",
    "logabs_en6  = np.log(abs( pn6[1:-1] - p6 ))\n",
    "logabs_en16 = np.log(abs( pn6[0:-2] - p6 ))\n",
    "\n",
    "plt.plot(logabs_en16,logabs_en6,'r')\n",
    "plt.xlabel('log_e( |e_{n-1}| )')\n",
    "plt.ylabel('log_e( |e_{n}| )')\n",
    "plt.show()"
   ]
  },
  {
   "cell_type": "markdown",
   "metadata": {},
   "source": [
    "The order of convergence is found from the slope of the plot to be approximately one (linear). This is explained by the fact that the multiplicity of the root is three; for roots with a multiplicity greater than one, Newton's method gives approximately linear convergence."
   ]
  },
  {
   "cell_type": "markdown",
   "metadata": {},
   "source": [
    "## Problem 7"
   ]
  },
  {
   "cell_type": "markdown",
   "metadata": {},
   "source": [
    "Problem Statement:\n",
    "\n",
    "The function $f(x)=sin(x)$ has a zero on the interval $(3,4)$, namely $x=\\pi$. Perform three iterations of Newton's method to approximate this zero, using $p_{0}=4$. Determine the absolute error in each of the computed approximations. What is the apparent order of convergence? What explanation can you provide for this behavior?"
   ]
  },
  {
   "cell_type": "markdown",
   "metadata": {},
   "source": [
    "Solution:\n",
    "\n",
    "The derivative of the given function $f(x)$ is required and is found to be:\n",
    "\n",
    "$f'(x)=cos(x)$\n",
    "\n",
    "Three iterations of Newton's method are applied to the given equation using the specified initial estimate.\n",
    "\n",
    "The logarithm of the absolute error is plotted to estimate the order of convergence."
   ]
  },
  {
   "cell_type": "code",
   "execution_count": 25,
   "metadata": {},
   "outputs": [
    {
     "name": "stdout",
     "output_type": "stream",
     "text": [
      "The convergence tolerance has not been met\n",
      "after Nmax = 3 iterations\n",
      "\n",
      "Approximations of the Root p:\n",
      "Iteration 0: pn(0) = 4.00000000e+00\n",
      "Iteration 1: pn(1) = 2.84217872e+00\n",
      "Iteration 2: pn(2) = 3.15087294e+00\n",
      "Iteration 3: pn(3) = 3.14159239e+00\n"
     ]
    },
    {
     "data": {
      "image/png": "[encoded data removed]",
      "text/plain": [
       "<matplotlib.figure.Figure at 0x7effb3a35e80>"
      ]
     },
     "metadata": {},
     "output_type": "display_data"
    }
   ],
   "source": [
    "def f7(x):\n",
    "   f7x = np.sin(x)\n",
    "   return(f7x)\n",
    "\n",
    "def fp7(x):\n",
    "   fp7x = np.cos(x)\n",
    "   return(fp7x)\n",
    "\n",
    "po7 = 4.0\n",
    "Nmax7 = 3\n",
    "eps7 = 1.0 * 10.0**-16.0\n",
    "\n",
    "pn7 = newton(f7,fp7,po7,Nmax7,eps7)\n",
    "\n",
    "print(\"\\nApproximations of the Root p:\")\n",
    "for ii in range(0,len(pn7)):\n",
    "   print(\"Iteration {0:d}: pn({1:d}) = {2:9.8e}\"\\\n",
    "    .format(ii,ii,pn7[ii]))\n",
    "\n",
    "p7 = pn7[-1]\n",
    "\n",
    "logabs_en7  = np.log(abs( pn7[1:-1] - p7 ))\n",
    "logabs_en17 = np.log(abs( pn7[0:-2] - p7 ))\n",
    "\n",
    "plt.plot(logabs_en17,logabs_en7,'r')\n",
    "plt.xlabel('log_e( |e_{n-1}| )')\n",
    "plt.ylabel('log_e( |e_{n}| )')\n",
    "plt.show()"
   ]
  },
  {
   "cell_type": "markdown",
   "metadata": {},
   "source": [
    "The order of convergence is found from the slope of the plot to be approximately three (cubic).\n",
    "\n",
    "This is explained as follows. The multiplicity of the root at $p=\\pi$ is one, as demonstrated by the fact that function $f(x)=sin(x)$ is zero at the root $p=\\pi$:\n",
    "\n",
    "$f(p)=sin(\\pi)=0$\n",
    "\n",
    "but its derivative is nonzero at the root $p=\\pi$:\n",
    "\n",
    "$f'(p)=cos(\\pi)=-1$\n",
    "\n",
    "Because the multiplicity of the root at $p=\\pi$ is one, the convergence for Newton's method is expected to be at least quadratic.\n",
    "\n",
    "As stated on page 91 in Section 2.3 of the textbook, \"the more derivatives of the iteration function which are zero at the fixed point, the higher will be the order of convergence.\"\n",
    "\n",
    "It is noted that the second derivative of the iteration function $g(x)=x-\\frac{sin(x)}{cos(x)}$ is zero at the root:\n",
    "\n",
    "$g''(p)=-\\frac{sin(\\pi)}{cos(\\pi)}-\\frac{sin^{\\pi}(x)}{cos^{3}(\\pi)}=0$\n",
    "\n",
    "which explains the super-quadratic convergence."
   ]
  },
  {
   "cell_type": "markdown",
   "metadata": {},
   "source": [
    "## Problem 8"
   ]
  },
  {
   "cell_type": "markdown",
   "metadata": {},
   "source": [
    "Problem Statement:\n",
    "\n",
    "(a) Verify that the equation $x^{4}-18x^{2}+45=0$ has a root on the interval $1,2$. Next, perform three iterations of Newton's method, with $p_{0}=1$. Given that the exact value of the root is $x=\\sqrt{3}$, compute the absolute error in the approximations just obtained. What is the apparent order of convergence? What explanation can you provide for this behavior?\n",
    "\n",
    "(b) Verify that the equation $x^{4}-18x^{2}+45=0$ also has a root on the interval $(3,4)$. Perform five iterations of Newton's method, and compute the absolute error in eah approximation. The exact value of the root is $x=\\sqrt{15}$. What is the apparent order of convergence in this case?\n",
    "\n",
    "(c) What explanation can you provide for the different convergence behavior between parts (a) and (b)?"
   ]
  },
  {
   "cell_type": "markdown",
   "metadata": {},
   "source": [
    "Solution:\n",
    "\n",
    "The root on the interval $(1,2)$ is graphically verified."
   ]
  },
  {
   "cell_type": "code",
   "execution_count": 26,
   "metadata": {},
   "outputs": [
    {
     "data": {
      "image/png": "[encoded data removed]",
      "text/plain": [
       "<matplotlib.figure.Figure at 0x7effb383e208>"
      ]
     },
     "metadata": {},
     "output_type": "display_data"
    }
   ],
   "source": [
    "def f8a(x):\n",
    "   f8ax = x**4.0-18.0*x**2.0 + 45.0\n",
    "   return(f8ax)\n",
    "\n",
    "x8a= np.linspace(1.0,2.0,101)\n",
    "f_array8a = f8a(x8a)\n",
    "\n",
    "plt.plot(x8a,f_array8a,'r')\n",
    "\n",
    "red_patch = mpatches.Patch(color='red',label='f(x)=x^4-18x^2+45')\n",
    "plt.legend(handles=[red_patch])\n",
    "plt.xlabel('x')\n",
    "plt.ylabel('f(x)')\n",
    "plt.show()"
   ]
  },
  {
   "cell_type": "markdown",
   "metadata": {},
   "source": [
    "A root where $f(x)=0$ is seen in the vicinity of $x=1.7$."
   ]
  },
  {
   "cell_type": "markdown",
   "metadata": {},
   "source": [
    "The derivative of the given function $f(x)$ is required and is found to be\n",
    "\n",
    "$f'(x)=4x^{3}-36x$\n",
    "\n",
    "Three iterations of Newton's method are performed with the given starting value $p_{0}=1$.\n",
    "\n",
    "The order of convergence is judged by plotting the logarithm of the absolute error."
   ]
  },
  {
   "cell_type": "code",
   "execution_count": 27,
   "metadata": {},
   "outputs": [
    {
     "name": "stdout",
     "output_type": "stream",
     "text": [
      "The convergence tolerance has not been met\n",
      "after Nmax = 3 iterations\n",
      "\n",
      "Approximations of the Root p:\n",
      "Iteration 0: pn(0) = 1.00000000e+00\n",
      "Iteration 1: pn(1) = 1.87500000e+00\n",
      "Iteration 2: pn(2) = 1.73103632e+00\n",
      "Iteration 3: pn(3) = 1.73205081e+00\n",
      "\n",
      "Absolute Error in the Approximations p:\n",
      "Iteration 0: pn(0) = 7.32050808e-01\n",
      "Iteration 1: pn(1) = 1.42949192e-01\n",
      "Iteration 2: pn(2) = 1.01448278e-03\n",
      "Iteration 3: pn(3) = 3.47950557e-10\n"
     ]
    },
    {
     "data": {
      "image/png": "[encoded data removed]",
      "text/plain": [
       "<matplotlib.figure.Figure at 0x7effb37e6898>"
      ]
     },
     "metadata": {},
     "output_type": "display_data"
    }
   ],
   "source": [
    "def fp8a(x):\n",
    "   fp8ax = 4.0*x**3.0-36.0*x\n",
    "   return(fp8ax)\n",
    "\n",
    "po8a = 1.0\n",
    "Nmax8a = 3\n",
    "eps8a = 1.0 * 10.0**-16.0\n",
    "\n",
    "pn8a = newton(f8a,fp8a,po8a,Nmax8a,eps8a)\n",
    "\n",
    "print(\"\\nApproximations of the Root p:\")\n",
    "for ii in range(0,len(pn8a)):\n",
    "   print(\"Iteration {0:d}: pn({1:d}) = {2:9.8e}\"\\\n",
    "    .format(ii,ii,pn8a[ii]))\n",
    "\n",
    "p8a = np.sqrt(3.0)\n",
    "\n",
    "abs_e8a = np.abs(pn8a-p8a)\n",
    "print(\"\\nAbsolute Error in the Approximations p:\")\n",
    "for ii in range(0,len(abs_e8a)):\n",
    "   print(\"Iteration {0:d}: pn({1:d}) = {2:9.8e}\"\\\n",
    "    .format(ii,ii,abs_e8a[ii]))\n",
    "\n",
    "logabs_en8a  = np.log(abs( pn8a[1:] - p8a ))\n",
    "logabs_en18a = np.log(abs( pn8a[0:-1] - p8a ))\n",
    "\n",
    "plt.plot(logabs_en18a,logabs_en8a,'r')\n",
    "plt.xlabel('log_e( |e_{n-1}| )')\n",
    "plt.ylabel('log_e( |e_{n}| )')\n",
    "plt.show()"
   ]
  },
  {
   "cell_type": "markdown",
   "metadata": {},
   "source": [
    "The order of convergence is found from the slope of the plot to be approximately three (cubic). As in Problem 7, this is explained by the multiplicity of one at this root, shown by the nonzero derivative of the function at the root:\n",
    "\n",
    "$f'(p)=4(\\sqrt{3})^{3}-36\\sqrt{3}{\\approx}-41.6$\n",
    "\n",
    "and by the zero for the second derivative of the iteration function $g(x)=x-\\frac{x^{4}-18x^{2}+45}{4x^{3}-36x}$ at the root:\n",
    "\n",
    "$g''(p)=0$\n",
    "\n",
    "which explains the super-quadratic convergence.\n"
   ]
  },
  {
   "cell_type": "markdown",
   "metadata": {},
   "source": [
    "The root on the interval $(3,4)$ is graphically verified."
   ]
  },
  {
   "cell_type": "code",
   "execution_count": 28,
   "metadata": {},
   "outputs": [
    {
     "data": {
      "image/png": "[encoded data removed]",
      "text/plain": [
       "<matplotlib.figure.Figure at 0x7effb36e6be0>"
      ]
     },
     "metadata": {},
     "output_type": "display_data"
    }
   ],
   "source": [
    "def f8b(x):\n",
    "   f8bx = x**4.0-18.0*x**2.0 + 45.0\n",
    "   return(f8bx)\n",
    "\n",
    "x8b= np.linspace(3.0,4.0,101)\n",
    "f_array8b = f8b(x8b)\n",
    "\n",
    "plt.plot(x8b,f_array8b,'r')\n",
    "\n",
    "red_patch = mpatches.Patch(color='red',label='f(x)=x^4-18x^2+45')\n",
    "plt.legend(handles=[red_patch])\n",
    "plt.xlabel('x')\n",
    "plt.ylabel('f(x)')\n",
    "plt.show()"
   ]
  },
  {
   "cell_type": "markdown",
   "metadata": {},
   "source": [
    "A root where $f(x)=0$ is seen in the vicinity of $x=3.9$."
   ]
  },
  {
   "cell_type": "markdown",
   "metadata": {},
   "source": [
    "The derivative of the given function $f(x)$ is required and has already been found to be\n",
    "\n",
    "$f'(x)=4x^{3}-36x$\n",
    "\n",
    "Five iterations of Newton's method are performed; after trial and error, a starting value $p_{0}=3.5$ is chosen.\n",
    "\n",
    "The order of convergence is judged by plotting the logarithm of the absolute error."
   ]
  },
  {
   "cell_type": "code",
   "execution_count": 29,
   "metadata": {},
   "outputs": [
    {
     "name": "stdout",
     "output_type": "stream",
     "text": [
      "The convergence tolerance has not been met\n",
      "after Nmax = 5 iterations\n",
      "\n",
      "Approximations of the Root p:\n",
      "Iteration 0: pn(0) = 3.50000000e+00\n",
      "Iteration 1: pn(1) = 4.05906593e+00\n",
      "Iteration 2: pn(2) = 3.89519711e+00\n",
      "Iteration 3: pn(3) = 3.87335631e+00\n",
      "Iteration 4: pn(4) = 3.87298345e+00\n",
      "Iteration 5: pn(5) = 3.87298335e+00\n",
      "\n",
      "Absolute Error in the Approximations p:\n",
      "Iteration 0: pn(0) = 3.72983346e-01\n",
      "Iteration 1: pn(1) = 1.86082588e-01\n",
      "Iteration 2: pn(2) = 2.22137655e-02\n",
      "Iteration 3: pn(3) = 3.72960418e-04\n",
      "Iteration 4: pn(4) = 1.07701046e-07\n",
      "Iteration 5: pn(5) = 9.32587341e-15\n"
     ]
    },
    {
     "data": {
      "image/png": "[encoded data removed]",
      "text/plain": [
       "<matplotlib.figure.Figure at 0x7effb38a80b8>"
      ]
     },
     "metadata": {},
     "output_type": "display_data"
    }
   ],
   "source": [
    "def fp8b(x):\n",
    "   fp8bx = 4.0*x**3.0-36.0*x\n",
    "   return(fp8bx)\n",
    "\n",
    "po8b = 3.5\n",
    "Nmax8b = 5\n",
    "eps8b = 1.0 * 10.0**-16.0\n",
    "\n",
    "pn8b = newton(f8b,fp8b,po8b,Nmax8b,eps8b)\n",
    "\n",
    "print(\"\\nApproximations of the Root p:\")\n",
    "for ii in range(0,len(pn8b)):\n",
    "   print(\"Iteration {0:d}: pn({1:d}) = {2:9.8e}\"\\\n",
    "    .format(ii,ii,pn8b[ii]))\n",
    "\n",
    "p8b = np.sqrt(15.0)\n",
    "\n",
    "abs_e8b = np.abs(pn8b-p8b)\n",
    "print(\"\\nAbsolute Error in the Approximations p:\")\n",
    "for ii in range(0,len(abs_e8b)):\n",
    "   print(\"Iteration {0:d}: pn({1:d}) = {2:9.8e}\"\\\n",
    "    .format(ii,ii,abs_e8b[ii]))\n",
    "\n",
    "logabs_en8b  = np.log(abs( pn8b[1:] - p8b ))\n",
    "logabs_en18b = np.log(abs( pn8b[0:-1] - p8b ))\n",
    "\n",
    "plt.plot(logabs_en18b,logabs_en8b,'r')\n",
    "plt.xlabel('log_e( |e_{n-1}| )')\n",
    "plt.ylabel('log_e( |e_{n}| )')\n",
    "plt.show()"
   ]
  },
  {
   "cell_type": "markdown",
   "metadata": {},
   "source": [
    "The order of convergence is found from the slope of the plot to be approximately three (cubic). As in Problem 7, this is explained by the multiplicity of one at this root, shown by the nonzero derivative of the function at the root:\n",
    "\n",
    "$f'(p)=4(\\sqrt{3})^{3}-36\\sqrt{3}{\\approx}93.0$\n",
    "\n",
    "For roots with a multiplicity of one, Newton's method is expected to provide at least quadratic convergence.\n",
    "\n",
    "Unlike the root at $p=\\sqrt{3}$, the second derivative of the iteration function $g(x)=x-\\frac{x^{4}-18x^{2}+45}{4x^{3}-36x}$ is not zero at the root $p=\\sqrt{15}$:\n",
    "\n",
    "$g''(\\sqrt{15}){\\approx}0.7746$\n",
    "\n",
    "which suggests that the convergence will not be much greater than quadratic.\n",
    "\n",
    "The different convergence behavior between parts (a) and (b) has been explained by the multiplicity of one for each root and by the second derivatives of the iterating function $g(x)$ at the root $p$, which gave improved convergence in (a) when it evaluated to zero."
   ]
  },
  {
   "cell_type": "markdown",
   "metadata": {},
   "source": [
    "## Problem 9"
   ]
  },
  {
   "cell_type": "markdown",
   "metadata": {},
   "source": [
    "The function $f(x)=sin(x)$ has a zero on the interval $(3,4)$, namely $x=\\pi$. Perform five iterations of the secant method to approximate this zero, using $p_{0}=3$ and $p_{1}=4$. Determine the absolute error in each of the computed approximations. What is the apparent order of convergence? What explanation can you provide for this behavior?"
   ]
  },
  {
   "cell_type": "markdown",
   "metadata": {},
   "source": [
    "Solution:\n",
    "\n",
    "Five iterations of the Secant Method are applied to the given equation using the specified initial estimate.\n",
    "\n",
    "The logarithm of the absolute error is plotted to estimate the order of convergence."
   ]
  },
  {
   "cell_type": "code",
   "execution_count": 30,
   "metadata": {
    "scrolled": true
   },
   "outputs": [
    {
     "name": "stdout",
     "output_type": "stream",
     "text": [
      "The convergence tolerance has not been met\n",
      "after Nmax = 5 iterations\n",
      "\n",
      "Approximations of the Root p:\n",
      "Iteration 0: pn(0) = 3.00000000e+00\n",
      "Iteration 1: pn(1) = 4.00000000e+00\n",
      "Iteration 2: pn(2) = 3.15716279e+00\n",
      "Iteration 3: pn(3) = 3.13945910e+00\n",
      "Iteration 4: pn(4) = 3.14159273e+00\n",
      "Iteration 5: pn(5) = 3.14159265e+00\n",
      "Iteration 6: pn(6) = 3.14159265e+00\n",
      "\n",
      "Absolute Error in the Approximations p:\n",
      "Iteration 0: pn(0) = 1.41592654e-01\n",
      "Iteration 1: pn(1) = 8.58407346e-01\n",
      "Iteration 2: pn(2) = 1.55701389e-02\n",
      "Iteration 3: pn(3) = 2.13355537e-03\n",
      "Iteration 4: pn(4) = 7.43950639e-08\n",
      "Iteration 5: pn(5) = 5.63993297e-14\n",
      "Iteration 6: pn(6) = 0.00000000e+00\n"
     ]
    },
    {
     "data": {
      "image/png": "[encoded data removed]",
      "text/plain": [
       "<matplotlib.figure.Figure at 0x7effb3bd0860>"
      ]
     },
     "metadata": {},
     "output_type": "display_data"
    }
   ],
   "source": [
    "def f9(x):\n",
    "   f9x = np.sin(x)\n",
    "   return(f9x)\n",
    "\n",
    "p09 = 3.0\n",
    "p19 = 4.0\n",
    "Nmax9 = 5\n",
    "eps9 = 1.0 * 10.0**-16.0\n",
    "\n",
    "pn9 = secant(f9,p09,p19,Nmax9,eps9)\n",
    "\n",
    "print(\"\\nApproximations of the Root p:\")\n",
    "for ii in range(0,len(pn9)):\n",
    "   print(\"Iteration {0:d}: pn({1:d}) = {2:9.8e}\"\\\n",
    "    .format(ii,ii,pn9[ii]))\n",
    "\n",
    "p9 = np.pi\n",
    "\n",
    "abs_e9 = np.abs(pn9-p9)\n",
    "print(\"\\nAbsolute Error in the Approximations p:\")\n",
    "for ii in range(0,len(abs_e9)):\n",
    "   print(\"Iteration {0:d}: pn({1:d}) = {2:9.8e}\"\\\n",
    "    .format(ii,ii,abs_e9[ii]))\n",
    "\n",
    "logabs_en9  = np.log(abs( pn9[1:-1] - p9 ))\n",
    "logabs_en19 = np.log(abs( pn9[0:-2] - p9 ))\n",
    "\n",
    "plt.plot(logabs_en19,logabs_en9,'r')\n",
    "plt.xlabel('log_e( |e_{n-1}| )')\n",
    "plt.ylabel('log_e( |e_{n}| )')\n",
    "plt.show()"
   ]
  },
  {
   "cell_type": "markdown",
   "metadata": {},
   "source": [
    "The order of convergence is found from the slope of the plot to be approximately two (quadratic). This is greater than the expected order of convergence, 1.618.\n",
    "\n",
    "The explanation for this behavior is the same as in Problem 7; the multiplicity of the root at $p=\\pi$ is one, but the second derivative of the iteration function $g(x)=x-\\frac{sin(x)}{cos(x)}$ is zero at the root:\n",
    "\n",
    "$g''(p)=-\\frac{sin(\\pi)}{cos(\\pi)}-\\frac{sin^{\\pi}(x)}{cos^{3}(\\pi)}=0$\n",
    "\n",
    "which explains the improved convergence."
   ]
  }
 ],
 "metadata": {
  "kernelspec": {
   "display_name": "Python3",
   "language": "python",
   "name": "python3"
  },
  "language_info": {
   "codemirror_mode": {
    "name": "ipython",
    "version": 3
   },
   "file_extension": ".py",
   "mimetype": "text/x-python",
   "name": "python",
   "nbconvert_exporter": "python",
   "pygments_lexer": "ipython3",
   "version": "3.6.2"
  }
 },
 "nbformat": 4,
 "nbformat_minor": 2
}
